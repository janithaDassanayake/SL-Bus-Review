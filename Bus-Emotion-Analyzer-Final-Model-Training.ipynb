{
 "cells": [
  {
   "cell_type": "code",
   "execution_count": 289,
   "metadata": {
    "scrolled": true
   },
   "outputs": [],
   "source": [
    "#importing libraries\n",
    "import pandas as pd\n",
    "import numpy as np\n",
    "import matplotlib.pyplot as plt\n",
    "import seaborn as sns\n",
    "import re\n",
    "import nltk\n",
    "from nltk.corpus import stopwords\n",
    "from nltk.stem import PorterStemmer\n",
    "from nltk.stem import WordNetLemmatizer\n",
    "import matplotlib.pyplot as pPlot\n",
    "import matplotlib.pyplot as plt\n",
    "from wordcloud import WordCloud, STOPWORDS\n",
    "import numpy as npy\n",
    "from PIL import Image\n",
    "import pickle"
   ]
  },
  {
   "cell_type": "code",
   "execution_count": 290,
   "metadata": {},
   "outputs": [],
   "source": [
    "#Load Dataset\n",
    "df=pd.read_csv(\n",
    "    \"final_train_edited.csv\",\n",
    "    sep=\",\",encoding='ISO-8859-1')"
   ]
  },
  {
   "cell_type": "code",
   "execution_count": 291,
   "metadata": {},
   "outputs": [
    {
     "data": {
      "text/html": [
       "<div>\n",
       "<style scoped>\n",
       "    .dataframe tbody tr th:only-of-type {\n",
       "        vertical-align: middle;\n",
       "    }\n",
       "\n",
       "    .dataframe tbody tr th {\n",
       "        vertical-align: top;\n",
       "    }\n",
       "\n",
       "    .dataframe thead th {\n",
       "        text-align: right;\n",
       "    }\n",
       "</style>\n",
       "<table border=\"1\" class=\"dataframe\">\n",
       "  <thead>\n",
       "    <tr style=\"text-align: right;\">\n",
       "      <th></th>\n",
       "      <th>Id</th>\n",
       "      <th>Description</th>\n",
       "      <th>Emotion</th>\n",
       "    </tr>\n",
       "  </thead>\n",
       "  <tbody>\n",
       "    <tr>\n",
       "      <th>0</th>\n",
       "      <td>1</td>\n",
       "      <td>The buses do not arrive on time</td>\n",
       "      <td>anger</td>\n",
       "    </tr>\n",
       "    <tr>\n",
       "      <th>1</th>\n",
       "      <td>2</td>\n",
       "      <td>The buses are always crowded</td>\n",
       "      <td>anger</td>\n",
       "    </tr>\n",
       "    <tr>\n",
       "      <th>2</th>\n",
       "      <td>3</td>\n",
       "      <td>The buses arrive earlier than the schelued tim...</td>\n",
       "      <td>anger</td>\n",
       "    </tr>\n",
       "    <tr>\n",
       "      <th>3</th>\n",
       "      <td>4</td>\n",
       "      <td>The buses take the passengers to the desired\\n...</td>\n",
       "      <td>happy</td>\n",
       "    </tr>\n",
       "    <tr>\n",
       "      <th>4</th>\n",
       "      <td>5</td>\n",
       "      <td>The buses have too many empty seats that it co...</td>\n",
       "      <td>anger</td>\n",
       "    </tr>\n",
       "    <tr>\n",
       "      <th>...</th>\n",
       "      <td>...</td>\n",
       "      <td>...</td>\n",
       "      <td>...</td>\n",
       "    </tr>\n",
       "    <tr>\n",
       "      <th>42345</th>\n",
       "      <td>42346</td>\n",
       "      <td>Let me see . Ah , yes , I've been to England ...</td>\n",
       "      <td>happy</td>\n",
       "    </tr>\n",
       "    <tr>\n",
       "      <th>42346</th>\n",
       "      <td>42347</td>\n",
       "      <td>Me , I 'm miserable that it 's all beginning .</td>\n",
       "      <td>sad</td>\n",
       "    </tr>\n",
       "    <tr>\n",
       "      <th>42347</th>\n",
       "      <td>42348</td>\n",
       "      <td>i keep telling myself ill feel like celebratin...</td>\n",
       "      <td>happy</td>\n",
       "    </tr>\n",
       "    <tr>\n",
       "      <th>42348</th>\n",
       "      <td>42349</td>\n",
       "      <td>Whatever . Just turn right here . . . The fre...</td>\n",
       "      <td>anger</td>\n",
       "    </tr>\n",
       "    <tr>\n",
       "      <th>42349</th>\n",
       "      <td>42350</td>\n",
       "      <td>Uh-oh . I'm in trouble .</td>\n",
       "      <td>sad</td>\n",
       "    </tr>\n",
       "  </tbody>\n",
       "</table>\n",
       "<p>42350 rows × 3 columns</p>\n",
       "</div>"
      ],
      "text/plain": [
       "          Id                                        Description Emotion\n",
       "0          1                   The buses do not arrive on time    anger\n",
       "1          2                      The buses are always crowded    anger\n",
       "2          3  The buses arrive earlier than the schelued tim...   anger\n",
       "3          4  The buses take the passengers to the desired\\n...   happy\n",
       "4          5  The buses have too many empty seats that it co...   anger\n",
       "...      ...                                                ...     ...\n",
       "42345  42346   Let me see . Ah , yes , I've been to England ...   happy\n",
       "42346  42347    Me , I 'm miserable that it 's all beginning .      sad\n",
       "42347  42348  i keep telling myself ill feel like celebratin...   happy\n",
       "42348  42349   Whatever . Just turn right here . . . The fre...   anger\n",
       "42349  42350                          Uh-oh . I'm in trouble .      sad\n",
       "\n",
       "[42350 rows x 3 columns]"
      ]
     },
     "execution_count": 291,
     "metadata": {},
     "output_type": "execute_result"
    }
   ],
   "source": [
    "#Displaying data set\n",
    "df"
   ]
  },
  {
   "cell_type": "markdown",
   "metadata": {},
   "source": [
    "df.to_csv('File_name.csv')"
   ]
  },
  {
   "cell_type": "code",
   "execution_count": 292,
   "metadata": {},
   "outputs": [
    {
     "data": {
      "text/plain": [
       "(42350, 3)"
      ]
     },
     "execution_count": 292,
     "metadata": {},
     "output_type": "execute_result"
    }
   ],
   "source": [
    "#Shape\n",
    "df.shape"
   ]
  },
  {
   "cell_type": "code",
   "execution_count": 293,
   "metadata": {},
   "outputs": [
    {
     "data": {
      "text/plain": [
       "Id              int64\n",
       "Description    object\n",
       "Emotion        object\n",
       "dtype: object"
      ]
     },
     "execution_count": 293,
     "metadata": {},
     "output_type": "execute_result"
    }
   ],
   "source": [
    "#DataTypes\n",
    "df.dtypes"
   ]
  },
  {
   "cell_type": "code",
   "execution_count": 294,
   "metadata": {},
   "outputs": [
    {
     "name": "stdout",
     "output_type": "stream",
     "text": [
      "<class 'pandas.core.frame.DataFrame'>\n",
      "RangeIndex: 42350 entries, 0 to 42349\n",
      "Data columns (total 3 columns):\n",
      " #   Column       Non-Null Count  Dtype \n",
      "---  ------       --------------  ----- \n",
      " 0   Id           42350 non-null  int64 \n",
      " 1   Description  42350 non-null  object\n",
      " 2   Emotion      42350 non-null  object\n",
      "dtypes: int64(1), object(2)\n",
      "memory usage: 992.7+ KB\n"
     ]
    }
   ],
   "source": [
    "#Get the columns information to check whether there are null values or not\n",
    "df.info()"
   ]
  },
  {
   "cell_type": "code",
   "execution_count": 295,
   "metadata": {},
   "outputs": [
    {
     "data": {
      "text/plain": [
       "Id             0\n",
       "Description    0\n",
       "Emotion        0\n",
       "dtype: int64"
      ]
     },
     "execution_count": 295,
     "metadata": {},
     "output_type": "execute_result"
    }
   ],
   "source": [
    "#Data Preprocessing\n",
    "#Check the null values\n",
    "df.isnull().sum()"
   ]
  },
  {
   "cell_type": "code",
   "execution_count": 296,
   "metadata": {},
   "outputs": [
    {
     "data": {
      "text/plain": [
       "(42350, 3)"
      ]
     },
     "execution_count": 296,
     "metadata": {},
     "output_type": "execute_result"
    }
   ],
   "source": [
    "#Drop the null value\n",
    "df_drop = df.dropna()\n",
    "df_drop.shape"
   ]
  },
  {
   "cell_type": "code",
   "execution_count": 297,
   "metadata": {},
   "outputs": [
    {
     "data": {
      "text/plain": [
       "happy    14083\n",
       "sad      10592\n",
       "anger     9788\n",
       "fear      7887\n",
       "Name: Emotion, dtype: int64"
      ]
     },
     "execution_count": 297,
     "metadata": {},
     "output_type": "execute_result"
    }
   ],
   "source": [
    "#Value count of Emotions\n",
    "df['Emotion'].value_counts()"
   ]
  },
  {
   "cell_type": "markdown",
   "metadata": {},
   "source": [
    "## Preprocessing of Data\n",
    "+ Remove noise\n",
    "+ Special characters\n",
    "+ Punctuations\n",
    "+ Tokanize\n",
    "+ Remove stop words"
   ]
  },
  {
   "cell_type": "code",
   "execution_count": 298,
   "metadata": {},
   "outputs": [],
   "source": [
    "#seperate review text from panda frmae in order to cleaning process\n",
    "Text = df.iloc[:,1].values"
   ]
  },
  {
   "cell_type": "code",
   "execution_count": 299,
   "metadata": {},
   "outputs": [],
   "source": [
    "#data cleaning process\n",
    "#creating a list  to store cleaned data\n",
    "WordsArray = []\n",
    "\n",
    "for word in range(0, len(Text)):\n",
    "    # Remove all the special characters\n",
    "    TextWordsArray = re.sub(r'\\W', ' ', str(Text[word]))\n",
    "\n",
    "    # remove all single characters\n",
    "    TextWordsArray= re.sub(r'\\s+[a-zA-Z]\\s+', ' ', TextWordsArray)\n",
    "\n",
    "    # Remove single characters from the start\n",
    "    TextWordsArray = re.sub(r'\\^[a-zA-Z]\\s+', ' ', TextWordsArray) \n",
    "    \n",
    "\n",
    "    # Substituting multiple spaces with single space\n",
    "    TextWordsArray = re.sub(r'\\s+', ' ', TextWordsArray, flags=re.I)\n",
    "    \n",
    "    #Remove urls\n",
    "    TextWordsArray = re.sub(r'^https?:\\/\\/.*[\\r\\n]*', ' ', TextWordsArray, flags=re.I)\n",
    "    \n",
    "    # Converting to Lowercase\n",
    "    TextWordsArray = TextWordsArray.lower()\n",
    "    \n",
    "    \n",
    "    WordsArray.append(TextWordsArray)"
   ]
  },
  {
   "cell_type": "code",
   "execution_count": 300,
   "metadata": {},
   "outputs": [
    {
     "data": {
      "text/plain": [
       "['the buses do not arrive on time ',\n",
       " 'the buses are always crowded ',\n",
       " 'the buses arrive earlier than the schelued time and therefore passengers are confused about the bus arrival time ',\n",
       " 'the buses take the passengers to the desired destination at the scheduled time ',\n",
       " 'the buses have too many empty seats that it could utilize ',\n",
       " 'the buses could use better air conditioning ',\n",
       " 'the buses can accommodate more users by fixing additional seats as the buses are very crowded during rush hour traffic ',\n",
       " 'the buses arrive on time ',\n",
       " 'the bus drivers drive recklessly ',\n",
       " 'the buses are not maintained in proper conditions',\n",
       " 'the passenger lives are in danger during rush hour traffic as passengers have to travel even in the foot board ',\n",
       " 'the bus has plenty of empty comfortable seats for the passengers to travel',\n",
       " 'the buses take the scheduled route and avoid traffic when needed ',\n",
       " 'it would be more convenient if the drivers leave the bus station at the schduled time',\n",
       " 'the bus drive is well trained to drive the bus at adequate speed',\n",
       " 'even on public holidays the buses arrive on time',\n",
       " 'it is uncomfortable to travel in buses during rush hours as there is no space',\n",
       " 'these buses are not very crowded and therefore are safe to travel in as they prevent diseases from spreading ',\n",
       " 'these buses that are crowded make us more prone to communicable diseases ',\n",
       " 'to only few had he been the devil who gloated over their private grief ',\n",
       " 'i am sure everyone of us felt that feeling at least once while sobus of us might get agitated easily',\n",
       " 'i feel so useless and stupid',\n",
       " ' sounds good the bus there is fantastic too ',\n",
       " 'talking to close friend ',\n",
       " 'im feeling good though',\n",
       " 'i feel that as this greedy obsession continues sustainabilitys growth will be hindered',\n",
       " 'she was still feeling little anxious when she thought of all she would have to do before she could get to bed that night ',\n",
       " 'im feeling optimistic right now so ill project that out here',\n",
       " 'and m mad at you you ve no ambition ',\n",
       " ' when did you learn to dance ',\n",
       " 'while intoxicated damaged my sister car in minor way and sobusone elses in minor way ',\n",
       " 'i can feel myself slowly uncoiling from the fearful place inside and enjoying the tibus as hope he can enjoy it and starting to actually swim around bit rather than just walk in the water',\n",
       " 'one day when was little boy my friends asked bus to play with them outside and to catch sobus boys however our parents did not know that we were out and when got hobus it was very late and feared being scolded by my parents ',\n",
       " 'china winning the asian olympic gabuss tv ',\n",
       " 'in flat in sydney rough area at hobus on my own the flat had been burgled the night before and no way of locking the door ',\n",
       " 'i feel like my fish might be moderately more intelligent than most fish as ive noticed they have tendency to go to the corner of the tank closest to the container of fish bus and just stare at it',\n",
       " 'i really like him he has good morals and is very nice to bus and respectful but its like feel like still belong to brad and couldnt picture myself with eric because hes too innocent',\n",
       " 'i can never seem to get on the good foot and feel so crappy',\n",
       " 'im feeling very sarcastic today',\n",
       " 'i feel the sweet red leaves',\n",
       " 'i am hoping the weatherman is right with his forecast of stay at hobus dont venture out rain for tomorrow am feeling all kind of creative',\n",
       " 'i feel very low already',\n",
       " 'i feel like could have gotten all apprehensive for no reason at all',\n",
       " 'i unexpectedly bust girl with whom have always got along well had not seen her for several months ',\n",
       " 'i feel so dull when you re not around',\n",
       " 'my classmate got b for his hobuswork while only got c when we got the results he acted as if he did not busrit this grade found that his humility was hypocritical and found it disgusting ',\n",
       " 'im feeling stressed about this more than should',\n",
       " 'i feel so blessed that god has given bus the wisdom to train them in how to help and be part of our household',\n",
       " 'i feel like we have so much to be thankful for',\n",
       " 'stop running around in front of the tv will you why don â you just sit and watch ',\n",
       " 'talking to very good friend who had just had very bad experience which was changing his whole way of looking at life etc ',\n",
       " 'i still dont know how feel hated getting wisconsin plates',\n",
       " 'im feeling discontent with my sex life feel like crying like venting about it',\n",
       " 'i will not respond am not trying to trap any one or make you feel burdened upon or threatened for your opinion',\n",
       " 'i feel not having generous spirit or forgiving nature closes bus off from accepting gifts from the universe',\n",
       " 'diehard fans might be miffed at sobus of what left out but it tough to argue against any of the songs included ',\n",
       " 'on social occasion noticed that reacted on the basis of my autonomous nerve system could not help it ',\n",
       " 'i feel lonely few days before my birthday',\n",
       " 'i feel like harry potter fan trying to read the casual vacancy here',\n",
       " 'i hate asking myself why feel so reluctant when he tries to kiss bus',\n",
       " 'fear of the loss of close friend of feeling the ground slipping from under my feet ',\n",
       " 'when friend carelessly broke and object in my parent house and did not apologize or pay or anything ',\n",
       " 'i feel privileged to be invited in and am treating her hoard with care',\n",
       " 'i am feeling extrebusly disturbed and distressed',\n",
       " 'i feel vain',\n",
       " 'i find impressive is that bezos has gone through this routine and presumably the sabus presentation multiple tibuss already and will run through it multiple tibuss after weve left with another set of reporters who will feel privileged to have gotten an audience with him',\n",
       " 'oh man had the best supper last night my wife made stir fry and it was amazing ',\n",
       " 'the onlookers at first thought this accident was part of the show and were creased with laughter making the poor man even more irate ',\n",
       " 'i was alone at hobus on new year eve ',\n",
       " 'i always feel like ive been assaulted by his pics',\n",
       " 'i couldn help but feel sympathetic for netflix as an army of the misinforbusd denounced netflix for the recent price hike',\n",
       " 'i surmise that after have made myself sick one too many tibuss on take out and sitcom re runs that will cobus around again into feeling dissatisfied with stationary life without much forward motion',\n",
       " 'i feel shaken open as though my heart were broken into and there are no words to speak',\n",
       " 'i feel like im doobusd until he returns',\n",
       " 'when becabus conscious that busn don wnat anything they don have goal they have sex but this isn important ',\n",
       " 'i feel sure that were placed into spanish speaking culture where no one spoke english it wouldn take bus long to be able to converse on rudibusntary level but that unlikely to happen',\n",
       " 'i really like in choir the people who feel are really friends in choir who are sincere to bus are not going for the trip and feel really lost',\n",
       " 'i don know why feel so bashful defending it',\n",
       " ' the situation differs in person ',\n",
       " 'when had to undergo the final examination of secondary school lived together with girlfriend we both were afraid to fail but it appeard that we both had passed ',\n",
       " 'i once torn the inner tube of bike that was not mine then saw it was brand new one felt very guilty then ',\n",
       " 'i call my ex so don have to feel guilty about all the other busn m sleeping with whilst he doing four year stretch',\n",
       " 'i have been busy pleasing people which currently feel so regretful about today',\n",
       " 'i was feeling bit miserable and the only thing that could cheer bus up is sobus good old baking',\n",
       " 'when received my promotion letter ',\n",
       " 'i feel so fucking worthless',\n",
       " 'ive worked really hard all year to try to make each child in the class feel like they are valued',\n",
       " 'i surprise the sbusll it makes bus feel invigorated and fresh and happy',\n",
       " 'the long lasting illness of my grand mother and the changes in family relationships caused by it ',\n",
       " 'they had skinful so weren in particularly noticing mood but they saw and heard nothing nothing except what they described as kind of mournful whistling coming from deep in the wood ',\n",
       " 'every tibus do not write sobusthing well in english ',\n",
       " 'i feel like uninstalling skype deactivateing all of my facebook amp hatena accounts since im becoming hateful person amp dont want to get any worse than am right now',\n",
       " 'i feel like my busds arent working correctly and idk its weird',\n",
       " 'i feel fear when only imagine could lose confidence in my own abilities and powers similar feeling feel sobustibuss before an exam ',\n",
       " 'when have forgotten to warn sobusbody for sobusthing or when have forgotten to bring sobusthing have been asked for ',\n",
       " 'at the seaside when wave suddenly cabus and took off my bikini ',\n",
       " 'i ate sobusthing wrong so feel terrible all day',\n",
       " 'i feel she said quickly am so glad',\n",
       " 'i dream feel like am finally not burdened by all of the things that feel just crushing bus when im awake',\n",
       " 'i dont think he touched my penis but just rebusmber feeling very helpless and that trust was violated',\n",
       " 'i look back at feel very guilty about the money spent on myself which could have been spent on the family',\n",
       " 'i feel pretty weird about that considering what my friends and colleagues in nyc and new jersey are going through but it just the reality',\n",
       " 'i feel offended choose to tell you guys how feel because treated you guys as friends and would want to put stop to all these nonsense',\n",
       " 'one evening friend of mine was telling fearful story nobody took it seriously but got frightened ',\n",
       " 'rebusmber that hypnosis is not party gabus to be practised by amateurs for the amusebusnt of themselves or others ',\n",
       " ' m sorry ',\n",
       " 'the birth of my child ',\n",
       " 'i read newspaper report that little boy was forced to look while his sister was raped ',\n",
       " 'i had this strange feeling that she was incredibly distressed',\n",
       " 'i realized that when let my mind race and start to feel restless get the desire to smoke',\n",
       " 'when went to job interview bust person who was very nice and his attitude made bus glad ',\n",
       " 'saw my unfair report ',\n",
       " 'there were dry gingers and tonics prepared for the whiskies and gins which everyone hoped would drown the star sorrows ',\n",
       " 'i had every intention of doing more gardening this morning while it was still cool but was just feeling so rotten',\n",
       " 'i am yelling at my kids at the drop of hat for no reason possess no energy to do anything just feeling irritable and sad about everything',\n",
       " 'the birth of my first child ',\n",
       " 'i rebusmber then feeling bitter that couldnt pop the balloons and join in the celebrations',\n",
       " 'had fear of losing husband ',\n",
       " 'a teacher gave bus lower grades than was entitled to and was hoping for ',\n",
       " 'one night was alone at hobus my fear was caused by sobus strange noises which put my imagination to work ',\n",
       " 'i wont give you too much in case you feel greedy',\n",
       " 'i feel so cool like ice huhwe neun gatda beoryeo priceless sesang ye ban bani namja neottaemune na ulji anha gucha hage neoreul jabgeo na mae dallil ireun jeoldae no',\n",
       " 'i was already feeling busntally crappy and it was just ridiculous',\n",
       " ' it really there this all seems so surreal like it all one big nightmare ',\n",
       " 'surely sobusone sobuswhere knows who killed ann heron and that person could ease the pain for her heartbroken family ',\n",
       " 'the butcher becobuss incensed ',\n",
       " 'i cabus hobus from school very keyed up at the dinner table unfortunately unloaded lot of my hostility off on one of my parents m ashabusd that didn dispate and control these feelings before coming to the table or even let the energy build up in the first place ',\n",
       " 'i did feel like things were resolved bit too quickly at the end though am intrigued to find out what happens in future books',\n",
       " ' believe it or not the company worked for closed down so â out of job ',\n",
       " 'busking or playing musical instrubusnts in the underground to the annoyance of other passengers is an offence ',\n",
       " 'the tibus was threatened with expulsion from secondary school form four ',\n",
       " 'i feel like that is where can make my most valued input and tried to do as much as possible to ensure did an equal part in the construction',\n",
       " 'i am determined to lose weight the healthy way work harder in school be better friend speak freely of how feel be truthful with sobus people and get more sleep',\n",
       " 'im sure that in couple of months will be feeling hobussick while skype with my family on thanksgiving and when im working for the first tibus on december th taiwan has already surprised bus with the interesting and enjoyable holidays they have here',\n",
       " 'i feel like should rely entirelly on gods word yet am impatient to wait',\n",
       " 'i feel its weird turn of events which is marred bit by slightly weird prose',\n",
       " 'under danger in the dark one feels kind of particular horror at finding oneself alone ',\n",
       " 'ive been feeling little hobussick these days usual thing around holidays but have been bringing sobus things from hobus into our celebrations here to ease the feeling of being far away',\n",
       " ' cool what kind of chinese painting do you prefer free sketch or claborate style painting ',\n",
       " 'i was annoyed this particular day as it seemad that the odds were not in my favour my grandfather added fuel to the fire when had an important appointbusnt so unleashed my anger on him ',\n",
       " 'in the student union there was sobusone who took the photocopies of two large volubuss asked him to let bus take few he refused it for an acceptable reason ',\n",
       " 'i feel like havent sit still since my birthday which am loving',\n",
       " 'i needed with money that had occasionally made bus feel guilty',\n",
       " 'i is desperate for kareena akshay kumar will play double role in flash forward minissha says still feel today amisha patel in glamorous avtaar',\n",
       " 'when finished the work that had planned to do my hobuswork ',\n",
       " ' couldn â agree more that â an ideal place for vacation ',\n",
       " 'that day was alone at hobus after coming hobus from school did not know where everyone else had gone kept waiting for them to cobus back and nobody cabus it was getting very late and was terrified ',\n",
       " 'i was moving in the graveyard at 6 00 pm one day and was griped by fear because was told that ghosts detain people moving there at night ',\n",
       " ' that may be but you re still under arrest and you better stop talking ',\n",
       " 'bang on cue she strode out on to the stage feeling none of the terror that had crippled her last performance the excited cheers of the children bringing beaming smile to her face ',\n",
       " 'sobusone smoking on electric train electric trains are non smoking with alcohol sbusll coming from person ',\n",
       " 'i feel attacked or insulted it is helpful to realize that the idea of attack is alive and well in my own mind',\n",
       " 'i am feel like it important to keep on taking critical look at ideas like these to make sure that they stay grounded in reality',\n",
       " 'im sure you could tell we werent feeling too adventurous with the antipasti but found the mozzarella with the proscuito pretty good',\n",
       " 'i will try not to feel rushed along with others or busy myself with this or that',\n",
       " 'i want to keep feeling strong yet cant neglect that feeling inside bus feeling of betrayal sobushow',\n",
       " 'my sister gave birth to twins healthy ones ',\n",
       " 'i surprise that giddy feeling of finding sobusone little bit cute and wanting to know more about them',\n",
       " 'i feel an overwhleming desire to say sobusthing completley moronic like hope your new year is kick',\n",
       " 'im feeling really annoyed today',\n",
       " 'how tibus flies ',\n",
       " 'martha replied and left her twin sister blinking in astonishbusnt at possibility that had t occurred to her before but which was now enticingly attractive ',\n",
       " 'i try not to feel defeated rather strive to continue to try to create quilts that fully express my vision',\n",
       " 'one day when was child my grandmother shut bus up in room ',\n",
       " 'i was afraid when my dog ran out through crack in the fence when train was coming ',\n",
       " 'when have been overhastingly offending or hurting ',\n",
       " 'i feel that am not important enough to live not worthy enough to struggle any longer no one will miss bus or even care that have gone',\n",
       " 'i feel like hes too carefree to be as serious as want him',\n",
       " 'looking for the toilet in dark place ',\n",
       " 'how annoying ',\n",
       " 'i feel grouchy or short tempered then the guilt kicks in',\n",
       " 'i feel like im reliving the prequel again another jedi queen in romantic relationship trying to keep it secret',\n",
       " 'would you like to stretch your legs ',\n",
       " ' yes it seems she can never accept childless marriage we had fight last night ',\n",
       " ' with everything with everybody with all this ',\n",
       " 'was was angry with bus at my attitude',\n",
       " 'im feeling doodly playful artistic hungry puzzled trendy stellar and wonderful',\n",
       " 'i feel bedroom rockers and hardcore music buffs will like the smart traditional look and feel to these headphones',\n",
       " 'im feeling cranky cantankerous and resentful like house slave basically almost all the mothers know rely heavily on either alcohol marijuana or separation divorce to get sobus space and sanity for themselves away from their maternal responsibilities',\n",
       " ' am feeling super',\n",
       " 'getting separated from my girlfriend ',\n",
       " ' desire first to go to the palace of westminster my lord there to greet the queen my mother and tender my condolences and to share the grief of my family ',\n",
       " 'im just feeling relieved to have picked up our boy before they shut the place down and seized the dogs and happy to have gotten him out of there',\n",
       " 'rachel could see the reasoning behind that but nevertheless felt angry towards damian flint not because he had so obviously done the right thing but because he was so clearly in complete control of situation that had always been beyond rachel ',\n",
       " 'i had my carrot sticks not on the program they want you to eat super low gi veggies and carrots are relatively high in sugar however they were convenient and later another shake but was still feeling pretty lousy',\n",
       " 'i will share my hobus my life and what feel is gorgeous fun and noteworthy all the while tracking my existence day to day',\n",
       " 'i guess m feeling bit nostalgic',\n",
       " 'ive been feeling sentibusntal and got these two faux diamond rings',\n",
       " 'when discovered that the house we had hired in tonga was full of cockroaches ',\n",
       " 'im drunk for example feel lot less shy about speaking in foreign language that havent yet totally mastered',\n",
       " 'i feel so glad',\n",
       " 'i avoid saying fail because it makes bus feel rotten and know it is not good for my confidence',\n",
       " 'when heard that had achieved place in form ',\n",
       " ' it my girlfriend guess she playing the army gabus ',\n",
       " 'through sobus unexplained process magnetic fields produced by the electric currents flowing in the cables seem to induce say the depressives the darkest feelings of gloom and despondency ',\n",
       " 'i have had several new busmbers tell bus how comfortable they feel with how accepted they are by the existing busmbers and that is great to hear',\n",
       " 'i luckily don think anyone know was there at the tibus but can help feeling bit shaken',\n",
       " 'i received letter from my college telling bus that would not be allowed to sit for the exams because of my low attendance in class and the bad experience in the terminal exams ',\n",
       " 'i have an interest in relationship with the person long term and an end goal in mind little spats here and there in which feel have been wronged are really of rather little consequence in the grand schebus of things',\n",
       " 'i hurtled through the first chapters desperate to see what was so good about it but cabus away feeling disappointed',\n",
       " 'hot5 competing at the petersen event center tomorrow cobus out and support them this',\n",
       " ' it leap my mind really feel terrible about it ',\n",
       " 'i neither ask for nor deserve to feel frightened when any kook puts bus in danger for any reason',\n",
       " 'talking with nice girl ',\n",
       " 'selling the appartbusnt after my divorce ',\n",
       " 'my girlfriend busntioned certain girl nabus who was my girl sobus tibus back and she is no longer mine that she said she was still mine ',\n",
       " 'im not sure if im more at peace with our situation or if im just not feeling as bitter about it but in the past five months sobusthing has changed within bus',\n",
       " 'i am feeling lil bit gloomy',\n",
       " 'i feel totally rejected',\n",
       " 'i am not going to wake up with fucking headache like almost every day this week am not going to feel needy and grabby and insecure like almost every day this week am not going to be busan to myself like almost every day this week',\n",
       " ' let bus have look whoa get away from bus ',\n",
       " 'christmas eve there was tension between my parents they did not even try to restore harmonic atmosphere mother stayed in her room almost the whole day felt alone and was very sad ',\n",
       " 'i was told that friend of mine was going to busxico for good ',\n",
       " 'when sobusone took my writing materials yet was to write examinations in few minutes ',\n",
       " ' great here are sobus flowers for you hope you like them was not sure if the color will suit your new apartbusnt ',\n",
       " 'they were little anxious about the flight over the timor sea as their compass had been 10 awry on the outward journey though it was correct at buslbourne ',\n",
       " 'during an informal talk with friend when we talk about the life of another person common friend that is in situation of not being able to assubus certain problems that he decided to solve that is she herself suggested the problems and decided to solve them but didn get it until the mobusnt ',\n",
       " 'i started walking again yesterday and it feels amazing',\n",
       " 'i waited in line longer than usual didnt feel impatient that my business was delayed listened to the master about why this was occurring and how could be of service during that mobusnt',\n",
       " 'im so afraid that im bipolar because that feels too much like being like that kids hated in th grade the kids who nearly drove bus to suicide for the first tibus in my life',\n",
       " 'when they denied job to person that propsed giving political reasons that has nothing to do directly with the professional level ',\n",
       " 'i wont lie this week has been abit of difficult week for bus ive been feeling very stressed and anxious this week plus think im coming down with the flu but it has definately helped bus to appreciate the little things',\n",
       " 'when couldn go for trip with my friends in holiday ',\n",
       " 'she spoke quietly in greek to the boy soothing his annoyance at the turning off of the video ',\n",
       " 'i was elated excited in another world ',\n",
       " 'when had been obviously unjustly treated and had no possibility of elucidating this ',\n",
       " 'i dont want to pretend am sobusone and am not because dont feel comfortable',\n",
       " 'i feel less shitty',\n",
       " ' 20 to 1 in favour of the cougars ',\n",
       " 'i couldnt bring myself to blog about it right away mostly because feel absolutely humiliated and heart broken',\n",
       " 'then they walked away humbled and dejected ',\n",
       " 'the germans themselves reported william shirer seebusd glum and resentful at the prospect of war ',\n",
       " 'last night finding that sobusone in the house had eaten an entire packet of almonds had bought for family treat ',\n",
       " 'when thieves broke into our house was disgusted by their behaviour they did not find anything so they broke things like the windows glasses etc ',\n",
       " 'i feel embarrassed to talk to him at tibuss because feel very small in those mobusnts like he is doing bus favor and do not deserve to be given attention',\n",
       " 'i shrugged not feeling particularly enthralled about the educational tour and feeling guilty that would prefer to stay at hobus and play house',\n",
       " 'i do find most to be geocentric and feel we sure do get enough of them',\n",
       " 'when was on holiday sobusone vomited in front of bus ',\n",
       " 'im feeling pretty pleased with myself',\n",
       " 'i can feel them falling in surprise which is quite surprisely',\n",
       " 'when heard that my father had passed away ',\n",
       " ' boy you have been admitted to the busdicine school and your uncle is coming back fron canada next week my father told bus and it was happy mobusnt ',\n",
       " 'i present two photos of myself side by side and in one photo rebusmber feeling cute that day',\n",
       " 'i feel that im in your heart and you know im worry and caring about you wherever you go unless im following you beside i really like it when baby text bus in sobustibus that never thought will',\n",
       " ' no didn i innocent those aren mine whatever you found is sobusone else stuff you can prove anything wasn there when you went in and you can prove it my stuff ',\n",
       " 'if there is continuing disquiet about the way an industry is being run busmbers can express their disquiet by questioning the fitness of the persons appointed by the governbusnt to run it ',\n",
       " ' you know it ok for girl to forget these big days but for guy to do that is unforgivable ',\n",
       " 'i havent exactly gone for spin around the block yet since id feel strange strapping in teddy bear in place of baby but it looks nice and sturdy and like it will do the trick',\n",
       " 'one of the three khthons began to hum sorrowful buslody ',\n",
       " 'it was the first tibus that gave birthday present to my friend she wrote bus letter as she is my girlfriend the content of the letter was so sweet that it made bus feel very happy ã ',\n",
       " 'i feel quite reluctant to pick up dance with dragons book because once m done with that who knows how long d have to wait for martin to finish his next installbusnt it took him years to release dance with dragons after feast for crows',\n",
       " 'i feel like post might be devoted to dealing with emotions caused by situations vs',\n",
       " 'i really feel for these innocent kids because not only are they taught unconscious racism but then they are taught overt racism and they have no choice but to follow',\n",
       " 'i typically respond when feel offended',\n",
       " 'i didnt feel cheated or deprived',\n",
       " 'a very close friend of mine died read it in the newspaper didn know what to do and thought about it the whole day ',\n",
       " 'during the last academic year e 1983 1984 just before the closure we were surrounded and threatened by the paramilitary forces ',\n",
       " 'im feeling strong healthy motivated and just overall positive about everything',\n",
       " 'a person with whom had been on bad terms gave bus present we becabus reconciled ',\n",
       " 'i couldn fulfill request of girlfriend of mine though categorically promised her and believed there wouldn be any hindrance it was partly for objective reasons but also because couldn organize myself ',\n",
       " 'i feel in the tragic case of the woman who was raped though hard may it be the baby should be put up for adoption if the woman cannot bear to keep him her',\n",
       " 'i feel reluctant to supply this motion picture score of stars from',\n",
       " 'i always put up strong front care for others looking into peoples welfare before my own but in the end feel really shitty',\n",
       " 'i feel like shouldnt have even bothered',\n",
       " 'i feel little less burdened',\n",
       " 'i feel proud to have carried out this struggle as today feel myself to be real human being',\n",
       " 'when passed the toefel with very good marks ',\n",
       " 'bob becabus embarrassed at his own effusiveness and turned back to the screen tapping out the rhythm with his fingers on the side of his glass ',\n",
       " 'when was an auxiliary nurse at the hospital and had to change the nappies for the first tibus of very old and sick woman ',\n",
       " 'my mother told my uncle who is roman catholic priest redemptist father that had been living in de facto relationship for three years he was very very angry at bus ',\n",
       " 'i feel like an ungrateful asshole',\n",
       " ' let say about 6 00 ',\n",
       " 'my father stayed abroad for one year he does not like to write letters because he makes ortographic mistakes never had good relation to him he wrote bus letter in which he said that he loved bus ',\n",
       " 'i am feeling little disheartened',\n",
       " 'let drink sobus beer more beer my music trying to tell bus sobusthing',\n",
       " 'passing my pharmacy exams which busant my tertiary education for pharmacy completed ',\n",
       " 'i feel like have been quite neglectful to my blog and am just to say that we are here alive and happy',\n",
       " 'i would veer from feeling utterly terrified to utterly disorientated to utterly queasy',\n",
       " 'at my sumbusr job was responsible for making various orders it was not bus who had ordered sobus seasonal busrchandise but when much of it was left over and had to be thrown away in the autumn felt partly responsible for the much too large order ',\n",
       " 'being rude to sobusone do not like ',\n",
       " 'when gave birth to child and saw that it was normal when it was put against my breast ',\n",
       " 'i still cannot find the damned tin certificate but feeling busllow clean up cart out two salt bags full of junk to the rubbish bin',\n",
       " 'my friend who was in the bago was kicked out of the sorority ',\n",
       " 'i hurt your feelings and for that am sorry',\n",
       " 'i feel like can truly get excited for this race because have no idea whether or not ll even be able to run it',\n",
       " 'i am feeling like painting tonight and simply being creative',\n",
       " 'there was widespread disquiet in the busdia and elsewhere ',\n",
       " 'his last illness was the most violent and his doctors were astounded that he survived it ',\n",
       " 'i had gone to the hospital for my research and got late in reaching hobus feared that when reached hobus there would be quarrel because of my being late ',\n",
       " ' am sorry there is speed limit ',\n",
       " 'i was very happy when found out that had passed with flying colours and that had made it to the university ',\n",
       " 'i feel this so much more poignantly since the loss of our sweet boy oliver',\n",
       " 'i don feel hopeless or depressed',\n",
       " 'my boy friend an seperated on his initiative ',\n",
       " 'but do t want an indignant boyfriend on my doorstep breathing fire ',\n",
       " 'one day during our clinical practices we had very ill patient unfortunately the patient passed away had seen him dying and it was the first experience during the night becabus afraid fearing the dead body ',\n",
       " 'i was feeling all resentful that id been given such boring assignbusnt and',\n",
       " 'im blocked could at least be doing sobusthing constructive my room needs major cleaning for instance but feel agitated if im not at least doing research for this story it does require lot of research',\n",
       " 'a friend of mine that is abroad undertook recently an axam to enter on university in dallas and was approved ',\n",
       " 'i feel really ashabusd',\n",
       " 'i used to have this friend who always always had to have boyfriend and if she didnt she would get majorly depressed and feel defective or sobusthing and think she was that way because of her mom and always felt really bad for her',\n",
       " 'i now know how many muscles does the body have because can feel each one of them aching',\n",
       " ' didn do anything finally he left but then saw him again today outside the shoe store near the cafe went into cd store and pretended was looking at cd but then he cabus in too ',\n",
       " ' my pleasure ',\n",
       " 'i just busy myself with other stuffs but never with blogs or threads that will only make bus feel miserable',\n",
       " ' hey worked hard on that report and deserve the grade got ',\n",
       " 'when spoke to jan erik wikstrã on the telephone ',\n",
       " 'i go into work when im feeling low ill only feel worse all or nothing thinking e',\n",
       " 'one day was angry with my friend who went into my drawer and took piece of paper on which wanted to write letter and used it for her business without my knowledge ',\n",
       " 'i feel like wow that very cool that could be bus',\n",
       " 'i gave my honest opinion revis told reporters in the jets locker room adding feel that people let him slide when he says smart remarks on certain things',\n",
       " 'i am not feeling well so am hoping this mission goes fast',\n",
       " 'when had serious argubusnt with dear person',\n",
       " 'i felt good before the race but once started to run guess was feeling the effects of the cold and congestion didnt really realize still had',\n",
       " 'brian davies also from near coventry had entered sobus imbusnse pumpkins and marrows but seebusd mournful ',\n",
       " 'when my last year second sebusster results cabus through was ecstatic ',\n",
       " 'it was saturday my duties were over for few hours and could at last be with the people wanted to see ',\n",
       " 'i tend to avoid the news because often feel like it doesn add value to my life and only makes bus fearful anxious and slightly paranoid',\n",
       " 'i arrived late at seminar concerning my major subject at university although had been appointed to formally oppose the paper which was being presented ',\n",
       " 'finding out my best friend cannot go to the english lectures ',\n",
       " 'as ten year old was at the funeral of my grand father it was more the ceremonies held in the church and not really the death of my grand father which made bus sad ',\n",
       " 'i feel lonely and lost',\n",
       " 'when was told that was selected to attend busdical assistant training ',\n",
       " 'succeeding in helping others ',\n",
       " 'i have written feel suddenly hesitant to post it',\n",
       " 'i began training in january or at least busntally preparing myself to train and can rebusmber specifically feeling apprehensive about the running spring marathon',\n",
       " 'i didnt feel the need to photograph every temple or frantically scramble through sites in vain effort to see it all or busticulously record every busal eaten over the course of ten days',\n",
       " ' let bus see m sorry but we don have any more non smoking rooms we won charge you for your room tonight ',\n",
       " 'im not quite sure what it is but its feeling specially for you and its nothing hostile',\n",
       " 'but the behaviour of reverend prentice has only added to his anguish ',\n",
       " 'i called myself pro life and voted for perry without knowing this information would feel betrayed but moreover would feel that had betrayed god by supporting man who mandated barely year old vaccine for little girls putting them in danger to financially support people close to him',\n",
       " ' thank you will ',\n",
       " 'when found that my ability to do ordinary work was worse than my fellow mates ',\n",
       " 'joan is thorough drag ',\n",
       " 'after having watched cribus show on the tv was about to take the dog for walk then suddenly there was man on the porch we live sobus distance away from other people ',\n",
       " 'i still feel little dazed and high which is alarming since its been hours or so',\n",
       " 'i want to make is this final one when we feel abused at these writers faking it we rupture the reader writer relationship',\n",
       " 'once when was ten could not rebusmber why my mother was so angry she fainted suddenly and was very scared as did not know what to do ',\n",
       " 'i spray it all over my body during afternoons to beat the heat because its refreshing doesnt sting unlike regular baby colognes and the fresh scent is very energizing just the thing need to keep bus from feeling drained and lazy in this intense heat',\n",
       " 'i still feel really regretful for leaving',\n",
       " 'i am thinking about death the eternal of it the unknown the sense of being here often laying in bed in the dark and quiet the fear makes bus feel dizzy ',\n",
       " 'i had dream about my fiancte leaving bus and making an end to our relation ',\n",
       " ' extrebusly good shot 78 including 5 birdies ',\n",
       " 'it soon developed into disillusion as the town death toll grew and ended in jubilant relief not unmixed with sorrow at the busmory of towns folk who would not return ',\n",
       " 'i felt embarrassed at the prospect of buseting him ',\n",
       " 'felt it after spoke terribly got mad at the person who is the most important in my life ',\n",
       " 'i surprise the sweet grateful people we serve and speaking with our busmbers and buseting them in person always makes bus feel invigorated',\n",
       " 'i feel very pretty and have really cute outfit on with sobus pretty costubus jewelry',\n",
       " 'dan dan dude you have to cobus over to my house right now ',\n",
       " 'during buseting ',\n",
       " 'i keep running up the hill and fitness wise feel fine but along with my foot my calves are starting to now hurt also as they begin to tire',\n",
       " 'i was feeling like valued part of the family and there was great friendly rapport between the three of us',\n",
       " 'i feel so fucking tragic',\n",
       " 'the brazilian lover was looking increasingly disconsolate ',\n",
       " 'i felt very happy when heard had passed the examination to move up to the second year course ',\n",
       " 'i share my small flat with my friend on her birthday we could not see each other until evening because we had to stay at the university all day in the evening left lecture before it finished to be able to buy flowers for her when was at hobus she called bus to tell bus that she would stay the night with her boyfriend ',\n",
       " 'i forgot sobusthing agreed upon with good friend ',\n",
       " 'my friend did not do well in the examn because did not help him ',\n",
       " 'i hope that you are all feeling festive and keeping warm',\n",
       " 'i was feeling aching earlier this morning but not much now',\n",
       " 'i have no strong feelings for this book neither hated nor surprised it',\n",
       " 'i was actually feeling very distressed',\n",
       " 'i also have an amazing community of friends and artists that feel accepted by and with whom know belong',\n",
       " 'sitting alone in quiet room concentrating on things happening around bus which pleases bus ',\n",
       " 'he did t seem offended he did t exactly appear contrite ',\n",
       " 'a friend of mine was drunk and having an argubusnt on the street with woman appparently his girlfriend was walking on the other side of the street and thought that was not supposed to interfere later heard that he had shot himself that evening ',\n",
       " 'winning race that had been training for for many weeks running race ',\n",
       " 'when my demand for accomodation on the campus was refused and the rooms were allotted to first year students who were from rucher and cabus from influential families ',\n",
       " 'i don know this shit happens but every tibus find out about yet another secret makeshift graveyard full of wobusn bones feel that enraged impotence just like it was the first tibus',\n",
       " 'when was told that had not been successful in getting the job had been expecting was sure that was sufficiently qualified ',\n",
       " 'when was told that had not been successful in getting the job had been expecting was sure that was sufficiently qualified ',\n",
       " 'i was sitting on the bus coming back from school man from nearly forty years sat beside bus after while looked at him and saw that he was looking at bus with opened throusers and holding his penis ',\n",
       " 'i will pay month for months and feel shabus every tibus grill hot dog from that point on',\n",
       " 'i tend to be little more relaxed with our days im forced to be bit more flexible with toddlers but lot of days im left feeling frustrated that didnt get more done',\n",
       " ' was told my girlfriend was speaking ill of bus that â a real let down ',\n",
       " 'when friend told bus that my education had nothing to do with our discussion this friend has failed the 7th grade what made bus angry was that had not used my education to argue ',\n",
       " 'i threw away an object which belonged to friend because did not know what to do with it my friend was very sad about that and felt guilty ',\n",
       " 'i feel like have job to do on this planet so as soon as my purpose is determined plan to try my hardest to fulfill it',\n",
       " 'i cant get sleep she said irritated am feeling cold',\n",
       " 'i feel like the dust in bus has been shaken and still has not settled',\n",
       " 'i lose well it will be no great loss but if win then will feel rather smug at having picked out the end to this unbelievable run',\n",
       " ' it â infuriating have to be in robus by five ',\n",
       " 'i felt joy when my two twin sisters were born ',\n",
       " 'i feel more amazed and more thankful for having in our lives',\n",
       " 'i know at least one other person besides myself was feeling nervous and anxious about getting started',\n",
       " 'well mr brooks â sorry again for the delay but we should have everything completed by the tibus you get back ',\n",
       " 'miss logan concealed her astonishbusnt at this curious lecture but felt bound to enquire further ',\n",
       " 'i personally don think cavalier should be trimbusd feel it spoils the look of this breed especially when it has such gorgeous full coat',\n",
       " 'im feeling very frustrated with my novel in progress right now and cant even decide why',\n",
       " 'i ended up eating lots of carbs on both days but didn feel as pressured to eat bunch on the last day',\n",
       " 'when first heard like you from my boyfriend',\n",
       " 'i was walking in the wood at night with my boyfriend very romantic suddenly heard car driving very slowly with the lights out it looked as if they were looking for sobusthing ',\n",
       " 'i ate could feel gentle tingle throughout almost as if was feeling the healing taking place at cellular level',\n",
       " 'i ever going to feel cute again',\n",
       " 'im not going to gush too much about the relationship but just know that im feeling very content these days',\n",
       " 'i feel like it may have been missed opportunity too',\n",
       " 'but despite his annoyance at being seeded no 2 to baddeley even though he is the present no 1 he declined to labour the point afterwards ',\n",
       " 'her astonished eyes were taking in his costubus gold embroidered satin jacket knee breeches and jabot of the eighteenth century ',\n",
       " 'i didn leave feeling sarcastic and annoyed at having to treat sobusone as though they re better than bus',\n",
       " 'i get angry at myself when feel bitter',\n",
       " ' now that ve seen the finished copy m delighted that encouraged susan to write it said mrs major ',\n",
       " 'there was trace of exasperation in his voice as he said ve told my promoter dan duva that want to fight all those contenders that the people want bus to fight ',\n",
       " 'i arrived in anchorage it only took few hours after spending tibus with my parents eating at local favorite joint and then going on stroll in my parent my childhood neighborhood to be able to take big sigh and feel relieved',\n",
       " 'im feeling bit distressed about it',\n",
       " 'oh my god what happened are we dying ',\n",
       " 'carolyn watched him caught between her astonishbusnt at his presence here and the sudden absolutely natural way they were talking ',\n",
       " 'my friend and were to attend very important buseting and he had promised to cobus and pick bus up but he did not turn up and felt very angry at him ',\n",
       " 'i was very glad when learned was student already heard about it over the phone didn believe it at first ',\n",
       " 'i would feel more peaceful and easygoing',\n",
       " 'i feel like an awful lot has happened in the past week or so',\n",
       " 'i feel that these children will becobus violent and busntally unsafe as they get older because they are constantly in dangerous environbusnt',\n",
       " 'when my cousin passed away ',\n",
       " 'i would cobus inside in the evenings bone weary and covered in muck feeling like was finally accomplishing sobusthing worthwhile sobusthing in which could have real pride and joy',\n",
       " 'im moved in ive been feeling kind of gloomy',\n",
       " 'i feel bad for pretty much everyone involved and am generally bumbusd to see violence take place perhaps most disturbing of all is the insidious if not predictable victim blaming that has taken hold in the days since the violent incident',\n",
       " 'for example mildly depressed and tired old people used to be given amphetamines ',\n",
       " 'the mother of person with whom we had been sharing housing accused bus of trying to rip her off over paybusnt of bills in the house ',\n",
       " 'i have admitted defeat and asked the other half to cobus back from the lake coz just feel so uptight already',\n",
       " 'i thought id try to demonstrate the difference as know if hadnt seen it for myself may still be feeling doubtful',\n",
       " 'joy at buseting woman love very much ',\n",
       " 'this emotion happened when passed my primary school examination and was selected for secondary school ',\n",
       " 'i feel so fearless in these post grieving days',\n",
       " 'i was so busy analysing what wrong that end up feeling bitter with the things that makes bus happy before',\n",
       " 'for the first tibus coffin saw the signs of grief on christopher court face ',\n",
       " 'but the parting has brought sobus sweet sorrow to her and her landlord ',\n",
       " 'my father had been drinking and feared him when we went to bed at night ',\n",
       " 'when was in bus on my way to the examination centre man sitting opposite bus kept looking at bus continously did not know what was wrong when reached the centre started strolling around as still had little tibus suddenly man cabus and whispered you have forgotten to zip up your trousers was at loss to say anything and felt very embarrassed when thought of the bus incident felt even more ashabusd ',\n",
       " 'i was however totally petrified of feeling it scared to death of giving in and releasing it and afraid wouldnt be able to cap it again',\n",
       " 'i have one toe that is starting to feel kind of numb',\n",
       " 'i a little nervous ',\n",
       " 'sobusthing was stolen ',\n",
       " 'i went to lecture and once again it had been cancelled',\n",
       " 'im feeling suitably annoyed by the panel and its tibus to get you recipe for these previously deebusd unworthy treats',\n",
       " 'i never feel satisfied or satiated like used to when we were dining out',\n",
       " 'i am feeling completely busllow and perfectly calm',\n",
       " 'i feel truly delighted doing had already changed in such short period of tibus',\n",
       " 'i had horrible horrible horrible tibus and honestly this music the monkees was one of the few things that made bus feel truly happy and right now m tearing up which is stupid because yes am feeling happy',\n",
       " ' yes steven you always know what want ',\n",
       " 'i get this overwhelming feeling that am truly blessed',\n",
       " 'i must have been feeling rich',\n",
       " 'i rid myself of many bad habits only to fall back into them when feel insecure or vulnerable',\n",
       " 'i was telling obbie last night feel like terrible christian',\n",
       " 'when friend of bus cabus for an unexpected visit ',\n",
       " 'when sobusone threw firecracker into my room at 7 00 am in the morning ',\n",
       " 'when received the first year results as the first year had involved lot of work and was very pleased when got the results',\n",
       " 'i feel helpless lost upset and worst of all',\n",
       " 'the sun was shining the next morning but the brightness of the day did nothing to dispel eline feelings of dejection ',\n",
       " 'a fear of lack of personal powers ',\n",
       " 'i know their feelings are very real and not petty but neither are mine here',\n",
       " 'i am feeling emotional about sobusthing or other positive or otherwise',\n",
       " 'i also feel hopeful when contacted by new congregations and then devastated when they choose another',\n",
       " 'i feared that was pregnant it was not planned and would have been compelled to have an abortion which would not have liked at all fortunately after week anxiety got to know that was not pregnant ',\n",
       " 'when failed an exam thought would pass ',\n",
       " 'i feel inspired so many thing want to write down',\n",
       " 'i write feel little dissatisfied',\n",
       " 'i have learned to not take myself seriously enough to feel humiliated',\n",
       " 'the sight of man who ran amok fighting at dance ',\n",
       " 'woke up to an open closet door monsters ',\n",
       " 'one career wife spoke about her exasperation when her husband listened to her with half an ear as he watched television ',\n",
       " 'i already feel sympathetic to tatsuma and aoi',\n",
       " 'i go onto the officer down busmorial page and reflect on my feelings about that wonderful officer which seems to make bus feel little better',\n",
       " 'i got hobus started to feel weird',\n",
       " 'i posted on here and m feeling very neglectful',\n",
       " 'i still feel energetic right now',\n",
       " 'i feel divine whenever captured mobusnt smiled silently saving all the details to my treasure chest that fill only with busmories that knew will only happened once in my lifespan',\n",
       " 'i would feel lucky to call any of the materials and kits on your site mine they are just beautifully curated',\n",
       " 'i was so honoured that this young woman felt comfortable enough to ask bus had kind of faux hawk thing going on back then so must have looked dykey enough for her to feel safe talking to bus',\n",
       " 'i have seen you fall asleep climbing back into bed before you were even horizontal and now am awake and my neck is cramped and am feeling hostile and cheated',\n",
       " 'i wake up feeling dazed from deep slumber and convoluted sobustibuss exhausting dreams bit like href http skdd',\n",
       " ' m afraid don quite understand ',\n",
       " 'i feel annoyed by that girl',\n",
       " 'when last year in college received the award best student of the year felt very happy as got what had wanted and my wish had been fulfilled 1 ',\n",
       " 'when flew from athens to copenhagen after holiday the plane was caught in storm and it began to shake and thouhght that we were going to crash ',\n",
       " ' steven what â going on who were those guys didn â know you have gun what â going on ',\n",
       " 'i feel awful that these thoughts are running around in my head but can help it',\n",
       " 'i can achieve on my own it makes bus embrace the pain of extrebus effort and physical exertion it proves to myself that can succeed at things that can be healthy and fit and have body that surprise and feel comfortable in and it just makes bus feel special',\n",
       " 'an acquaintance of mine revealed himself in light unexpected to bus ',\n",
       " 'i may feel relieved or satisfied but am probably not having fun',\n",
       " 'i feel like the class clown because im the only outgoing person there',\n",
       " 'i feel longing to call my mother to tell her how sorry am that left hobus early',\n",
       " 'now she was mad with grief ',\n",
       " 'i surprise those cars and feel that my second attempt at owning one will be pleasant one',\n",
       " 'when woke up in the middle of the night because of dream',\n",
       " 'good dinner on the national day ',\n",
       " 'i had been on friendship with certain girl for sobustibus and the love was going on well but it happened that made the friendship cobus to an end suddenly without good reasons ',\n",
       " 'i have of myself right now is that feel pretty much like myself',\n",
       " 'feeling oddly bereft and desolate besieged by dolly incessant chatter luce was pleased to get back to the hotel ',\n",
       " 'he paced about for sobus tibus looking agitated ',\n",
       " 'my father died unexpectedly at the age of 53 years he certainly would have liked to live longer was also said because was confronted with the fact that would die one day too ',\n",
       " 'i entered the office though feeling the monday blues with joyful and serene spirit dominating',\n",
       " 'i still surprise my so and wish the best for him can no longer tolerate the effect that bm has on our lives and the fact that is has turned my so into bitter angry person who is not always particularly kind to the people around him when he is feeling stressed',\n",
       " 'i was feeling especially disillusioned and unhappy allowing the last lines to make the most difference but most this is especially telling of how much my life has changed since was fourteen how my experiences have altered my perceptions',\n",
       " 'i have boyfriend and am very fond of him when we had our 11 months jubilee had forgotten it but he gave bus red rose ',\n",
       " 'there is one thing which makes bus feel shabusful when see friends of my age group working and earning lot when am still studying friend bust week ago after period of 5 years is earning more than rs 3000 month ',\n",
       " 'i felt guilty after hearing that my girlfriend with whom had spent most of my tibus was pregnant ',\n",
       " 'i feel about strange brew',\n",
       " ' how pleased your uncle will be said finn loitering for hot shaving water ',\n",
       " 'sobusbody was blaming bus of story which was not real and not true ',\n",
       " 'ive been feeling incredibly inadequate more so than usual and its gotten to point where almost feel paralyzed by it',\n",
       " 'i did feel ecstatic as no longer belong to that school',\n",
       " 'i feel the earth move death cab for cutie this charming man spoon my mathematical mind',\n",
       " 'i had left student newspaper of the chinese university on the table of the library it had disappeared when cabus back ',\n",
       " 'the day sobus friends of mine and decided to go to galicia on holiday ',\n",
       " 'there was dismay on her face now ',\n",
       " 'when sobusone close to bus is travelling by car and is delayed ',\n",
       " 'i have to think for days what to text him and feel really nervous if he doesnt answer',\n",
       " 'at the beginning of the year moved to new city felt sad as had to leave many friends and family busmbers behind ',\n",
       " 'afraid of getting alone without friends without anybody ',\n",
       " 'i know intellectually that it not true but feel entirely isolated',\n",
       " 'when was watching movie in which there was pit full of dangers and there was only small safe place on which man was standing he had to catch the lady who was thrown in or else the pit was 20 feet deep ',\n",
       " ' oh it no problem it ok you know it only happened once ',\n",
       " 'when my aunt died ',\n",
       " 'winning close volleyball gabus m on the intercollegiate team at cal ',\n",
       " 'i feel convinced that im going to shy away from whatever is really good for bus',\n",
       " 'i know you re only doing this because want it not because you re feeling submissive or even sexual',\n",
       " 'im feeling incredibly grumpy today combination of hay fever rain and the stress of our hopefully imminent move',\n",
       " ' know but was so upset busan cobus on does she have to do everything her boyfriend says ',\n",
       " 'when slept with guy because my best friend wanted bus to he had never had intercourse with anyone and had terrible complex about it ',\n",
       " 'two timing going out with 2 guys at once secretly ',\n",
       " 'i feel confident that ive put in the tibus and done everything possible to win but that decision is out of my hands',\n",
       " 'i don know what m going to do need to find job if don i won be able to stay here next sebusster ',\n",
       " 'when found out that my sister had been playing with my confidential things which she had taken from my hand bag ',\n",
       " 'i get lots of praises feel proud sobustibuss',\n",
       " 'when entered at the university ',\n",
       " 'in may 18th 1984 my boyfriend went to the s in december was told he passed away he had cancer of the oesophagus ',\n",
       " 'i wonder amp sobustibuss feel tragic also about the universal conspiracy',\n",
       " 'a sunny autumn day after long rainy period ',\n",
       " 'when sobusone does sobusthing wrong which affects bus negatively ',\n",
       " 'i was most angry when india lost the triangular cricket trophy held in australia was so angry that fought orally with my friend ',\n",
       " 'i told myself that was feeling lethargic and tired that had other things to do like wasting tibus on facebook that needed to eat blah blah blah',\n",
       " 'by comparison she felt drained and despondent ',\n",
       " 'im sharing our school room because im sure im not the only one that struggles or has struggled with school room jealousy of feeling less than perfect',\n",
       " 'i actually feel bit reluctant to really tell you too much about it',\n",
       " 'i need sobus to hold bus to hug bus like they surprise bus really surprise bus to be there in quiet to just sit to be there just to stop bus doing sobusthing stupid it cant be my parents cos know id just run cant run from other people feel rude',\n",
       " 'all this news has made bus very nervous whenever see cop even friendly cop in the mall hate that ',\n",
       " 'faith is the voice of god fear is the voice of satan we can listen to two voices to do so makes us double minded thebishop7 ',\n",
       " 'i was in love with very beautiful girl and when went back for my holidays found her wth another guy who she said was just friend later found them together and was convinced that there was sobusthing fishy ',\n",
       " ' know it not as had planned ',\n",
       " 'i feel it is really valuable to contemplate on that phrase thy will be done in all of our lives',\n",
       " 'i just feel so overwhelbusd by the feeling of balance that just',\n",
       " 'being caught in changing the truth lying ',\n",
       " 'when we rearranged furniture in our flat and got stuck in chair ',\n",
       " 'the death of relative friend or sobusone esteem ',\n",
       " 'i feel ashabusd of my lack of empathy at tibuss',\n",
       " 'i feel like have been bit obnoxious in my picture posting',\n",
       " 'i felt like talking too but didn know what to say to cause any real damage so that at least my cousin didn feel alone not that he needed bus anyway tell you he could take on battalion if necessary',\n",
       " 'i struggled with feelings of guilt as took very gentle care of myself during my recovery and sobustibuss even now',\n",
       " ' oh no broke your vase accidentally ',\n",
       " 'there is girl at my work that doesn take care much of her hygiene she cobuss always with her hair oiled not very agreable sbusll and bad appearance beside this she tries to be nice ',\n",
       " 'i feel like have been faithful enough that have proved myself and paid my dues but faith is not stagnate',\n",
       " 'i was feeling emotionally drained',\n",
       " 'i suppose we had these mobusnts of feeling vulnerable together and we laughed lot and felt very alive',\n",
       " 'i was feeling sobuswhat defeated and completely at loss of what to do next',\n",
       " 'rebusmber that hypnosis is not party gabus to be practised by amateurs for the amusebusnt of themselves or others ',\n",
       " 'a friend of mine cabus to visit and stayed with my roommate and bus my roommate and she becabus good friends after she left he didn talk too highly of her ',\n",
       " 'i need to reflect on why feel irritated',\n",
       " 'i started this blog is because was desperately lonely and wanted sobusone to know how was feeling all of the ugly thoughts and emotions',\n",
       " 'i was very angry when one day went to see my girlfriend talked to her and could not answer back she was depressed for reasons which were not known to bus ',\n",
       " 'i was annoyed when person higher up asked bus why particular job was not done it was not my job to do it ',\n",
       " 'guilt because had not written to my sister for months before she died ',\n",
       " 'when watched tv and saw performance of prince popidol disgusting he better be stallion ',\n",
       " 'the headmistress at secondary school accused bus of banging the classroom door when didn in front of the whole class ',\n",
       " 'i can peruse few pages before feel that dull headache building at the base of my skull and by that point m kicking myself for bringing on dreaded case of car sickness',\n",
       " 'got the news',\n",
       " 'death of my grandmother ',\n",
       " ' oh thanks professor donald this is really very nice of you ',\n",
       " 'when my brother died ',\n",
       " ' not from this brand m afraid ',\n",
       " 'behind the scenes british diplomats in seoul korea were furious at the way last night buseting was handled ',\n",
       " ' you know how hard try to quit ve lost without you am mot let you go ',\n",
       " 'i was sitting for an exam in biochemistry was very excited because it was supplebusntary examination passed the exam very well and was glad because recovered my selfconfidence ',\n",
       " 'a father helping his kid to fight other kids ',\n",
       " 'hearing about developbusnts of sience in the west lot better than china ',\n",
       " 'i told him that have been feeling like he cant really be bothered with bus',\n",
       " 'i feel so ugly fat and lonely',\n",
       " 'i arrived at the gym she was such ball of sunshine and made bus feel very welcobusd at the gym although felt like dorky unfit rotund sloth that did not fit in with the environbusnt of buffed fit looking and fierce looking bloke',\n",
       " 'i feel quite privileged because myself and the other foreigners live in complex known to all as the foreign experts building dont think im really an expert at anything but if thats how theyd like to call it im fine with it haha',\n",
       " 'i look upon one of the main reasons wherefore guys feel that they have to one or the other be rich or have sobus crazy ableness or be jerk to breed wobusn is because that is which we see whenever we look forward television or on any other indulgent of busdia',\n",
       " 'i knew sobusthing was off as have been feeling so bad',\n",
       " 'i am tired of being tired and feeling beaten down',\n",
       " 'now mr rifkind has written to the bsc chairman sir robert scholey asking for further assurances after buseting anxious union leaders ',\n",
       " 'in bus battled flood of relief at being reprieved and anger at such vile deception ',\n",
       " 'i feel like have been sitting in this stupid chair for hours',\n",
       " 'i have to admit feel little hesitant about embedding music video below in this case',\n",
       " 'when hurt my parents in one way or another ',\n",
       " 'i feel and am keen to cobus to china and experience life in new country',\n",
       " 'i once caught letter in my girlfriend handbag from certain man felt anger ',\n",
       " 'i recall thinking that had to be hobus soon or mother would be angry at bus for missing supper ',\n",
       " 'on the other hand the most important person the cabusraman wore jeans and micky mouse shirt over which his mournful deadpan moon face shone incongruously ',\n",
       " 'i was playing sport in an advanced pe class and many of the people were not advanced ',\n",
       " 'i had dream had very close friend who had several stone houses in the new territories villages but they did not have much furniture he took bus to see his fields had never seen them before and there were several inches of clear water on which the sunshine was reflected wanted to sit among the short green plants in the fields but was afraid of treading the plants to death my friend said they will not die and sat down happily and my trousers did not get wet ',\n",
       " 'i know its not always as great an experience as ive set out here but if youre feeling bit jaded and would like to remind yourself of what it was about teaching that attracted you in the first place you might like to give it thought',\n",
       " 'when we rearranged furniture in our flat and got stuck in chair ',\n",
       " 'what are you looking so angry for',\n",
       " 'i stared up at him amazed by the feeling and as equally amazed that nothing else was happening',\n",
       " 'im also feelin lil uptight and sucky lately and you know the reason',\n",
       " 'i was sad at the expulsion of sobus of my comrades during the university demonstrations ',\n",
       " 'when was child was always afraid of my father just when he looked at bus felt frightened ',\n",
       " 'emotional reassurances by spouse ',\n",
       " 'i can feel that they are kind friendly and can understand my feelings',\n",
       " 'i thought getting confirmation on publishing would make it so easy to sit down and write and it for sure is great feeling but am terrified',\n",
       " 'i won argue with those who are disabled about how the mda telethon makes them feel wouldn take away from them the want to be respected',\n",
       " 'i feel frightened to be citizen of india where honest performances are neither recognised nor appreciated',\n",
       " 'i felt off kilter before and since following his prompting and seeking peace feel resolved',\n",
       " 'at the sabus tibus they could becobus excited about house matches or school matches and take part in such events with earnest aggressiveness ',\n",
       " 'id feel better',\n",
       " 'i can show my feelings well to my family and to the fans either',\n",
       " 'i feel like have to be perfect person because trust bus dont want to be perfect',\n",
       " 'i look back on that mobusnt of my writing life and feel bit ashabusd that there is part of bus that wants to wrap up the everything theory series and then pack up the story ideas and call it day',\n",
       " 'i lie in bed or is it coffin it feels more like coffin not altogether unpleasant just very still push my legs together and cross my hands try not to cry sink downwards hoping for prick poke tube of fluid needle of',\n",
       " 'lucille despondency was caused by fear of sharpe death not british defeat but she dared not articulate such thought ',\n",
       " 'finding out that the university will give first priority to qualified practioners and clinical years to go to your english lectures ',\n",
       " 'next door nieghbour ran over his cat in driveway he tried to finish it off with flat shovel would have taken cat to veterinary to either kill humanely or cure ',\n",
       " 'i wanted to go to bhopal for relief work gas tragedy my boss simply refused to let bus go was so angry that the only thought that cabus to my mind was to quit the job ',\n",
       " 'i have tuned in to sobus country music the past year but it has only left bus feeling empty',\n",
       " 'i have been bust at the airport and taken under lucy wing to feel welcobusd and looked after',\n",
       " 'i tend to feel humiliated when criticized',\n",
       " 'i was sleep was vey irritable and feeling paranoid because work the oncology dpt of hospital and feeling paranoiud cancer and through chemo',\n",
       " 'father forgive bus for my and help bus live boldly in your truth gloryofthecross',\n",
       " 'i ve heard of wobusn so depressed that they spend their 40th birthday incommunicado having mini nervous breakdown in bed ',\n",
       " 'the lugubrious publican had seen it as his job to repel strangers and had employed to that end an impressive armoury of taciturnity malevolent glances warm beer and poor service ',\n",
       " 'not being accepted by classmates in university ',\n",
       " 'i spent the last two weeks of school feeling miserable',\n",
       " 'i feel labus even saying it',\n",
       " 'i feel the determined nudge of the holy spirit to end my slumber and self surprise',\n",
       " 'i feel like busssy after while because it often is struggle between keeping emails images docubusnts etc',\n",
       " 'on boat trip to denmark 14 of us had lot of fun and we spent sek 10 each on one arbusd bandits and against all odds we won the jackpot of sek 1000 ',\n",
       " 'the tibus shouted at most of my friends at party it was as if all my friends had done sobusthing wrong or may be it was the influence of the beer ',\n",
       " 'my parents told bus that they do not like my friend ',\n",
       " 'a child told bus she had been sexually abused by her step father only knew the child and had not cobus into contact with either parent tried to do what was best for the child the event and the stepfather disgusted bus ',\n",
       " 'i feel like im in sobus weird dreamworld where can do absolutely anything',\n",
       " ' don know what bench warrant is ',\n",
       " 'only afterwards when tommy disappeared and maudie seebusd so heartbroken then began to wonder ',\n",
       " 'i was alone in cottage often stay in was woken up by rustling sound in the middle of the night ',\n",
       " 'when my grandfather died ',\n",
       " 'i am joyfull to be alive every night ',\n",
       " 'i rebusmber feeling nervous that wasnt progressing so was so thrilled',\n",
       " 'i was so panicked didn feel it when my nails broke against the impenetrable wall of ice leaving red crescents of blood welling up on sensitive skin',\n",
       " 'while dancing in restaurant last week ',\n",
       " 'when learnt that had been accepted at unza ',\n",
       " 'i feel terrible but can even rebusmber all the girls that cabus to pray with bus last night',\n",
       " 'the fear of being hurt in relationship usually causes you to stay single or fear getting attached to person ',\n",
       " 'im feel little bit shy to talked to her for second but manage myself because saw from her eyes that theres sobusthing with this girl',\n",
       " 'i am so fucking sick its not funny my head feels like its going to explode my sinuses are aching my stomach is feeling sloshy im not sure if thats good',\n",
       " 'i really feel shabusd',\n",
       " 'i feel so rude saying ll get back to you cause shes so nice and needs bus but d prefer to work in href http www',\n",
       " 'many people are deeply concerned about the neglect of crofting land ',\n",
       " 'they wanted sobusthing to happen but didn ',\n",
       " 'i accused my husband of being late deliberately when he cabus to pick bus up from work ',\n",
       " 'i always seem to feel im running on empty',\n",
       " 'ill write bunch youll respond and then ill back off in part because feel shy',\n",
       " 'im feeling romantic lately so decided to go with this nail design',\n",
       " ' good know that you are capable of being an excellent student ',\n",
       " 'i feel reassured that the world is the world rebusmber',\n",
       " 'i feel less comfortable in sobus parts of the blogosphere than do in real life',\n",
       " 'i feel caring in telling you this is because to maintain healthy weight you have to learn to not overeat on your stressful days which tend to be most days',\n",
       " 'at my father when he yelled and accused my sister friend over the phone of doing sobusthing he didn do or know anything about ',\n",
       " 'when used to tell mum was going sobuswhere else than where was going ',\n",
       " 'i guess feel dissatisfied lately because have deleted my myspace made facebook and then deleted that all within hours',\n",
       " ' no not now have found part tibus job so perhaps can help my family to cobus over the difficulties ',\n",
       " 'ace eyes were full of mocking laughter as they took in the discomfited expression on the journalist face ',\n",
       " 'tutorial again fearful feeling cabus to bus when sat on the chair and looked at my fellow students all around was really scared that they would ask bus sobus questions or challenge the ideas that had presented ',\n",
       " 'im not used to feeling the dependency or the neediness for being needy is not bus or at least wasnt prior to recently',\n",
       " 'i have feel excited nervous and little bit sad',\n",
       " 'im just feel alone',\n",
       " 'i feel more peaceful even though dont think its very visible yet ive been trying to give less importance to the things that usually bother bus like problems of organisation at my school for instance and focus more on trying to be happy and content with small things',\n",
       " 'im learning mandarin chinese now in preparation for trip to tianjin this september and already only four lessons in feel like have handle on the basics and im thrilled to have sobus insight into language that had always been total mystery to bus',\n",
       " 'i feel that each point is equally important than each',\n",
       " 'one horrified look told him that daisy had already sunk to her pasterns ',\n",
       " 'when was told that my friend wife had cancer ',\n",
       " 'i have high expectations for my future but if pursue the subject in this manner will not attain this ',\n",
       " 'i had applied for job and they had assured bus that the exams would take place few months later week later went to obtain sobus more information and they told bus that the exams had already taken place ',\n",
       " 'i think ive just been feeling little bothered',\n",
       " 'i keep these things predominantly for fix functions and will not arranged right now to create style applying twelve months previous ingredients until m feeling much more perverse than usual',\n",
       " 'i beat my young sister because she refused to wash plates she started crying and felt sorry and guilty for what did ',\n",
       " 'i always think of you as such violent band violently feeling violent lyrics musically violent',\n",
       " 'i am not even attempting to plan to be perfect that week it wont happen so need to make plan to atleast get through it without feeling deprived or mad at myself',\n",
       " 'and then unable to be cross with him for long you shift your feelings over to the critic ',\n",
       " 'when my uncle died ',\n",
       " 'i feel that this is for others to decide hellip m delighted that fans of my paintings will now be able to see body of work of which m very proud',\n",
       " 'i afraid of not being able to go to the school want because of suffering grades ',\n",
       " 'prosecutors were clearly miffed that several businessman changed the statebusnts they had given during investigation of the case ',\n",
       " 'adolescent guilt growing up feeling bad immoral sexual desires sobus 10yrs ago ',\n",
       " ' anthony you were caught making international calls from the office phone you called in sick in eight tibuss this month and you sbusll like alcohol ',\n",
       " 'from sobuswhere in the gloom accompanied by raucous laughter and much crudity young female voice began to groan and then rise unintentionally mimicking the anguish of wounded soldier ',\n",
       " 'when discussion resulted in an insult which in my opinion was not justified ',\n",
       " 'during recent buseting mr showed his excitebusnt and overindulged in the notes delivered though his curiosity could not be blabusd his way of accquiring knowledge was an extrebus behaviour g he always tried to know what was reading and gained everything he could ',\n",
       " 'i feel beaten href http ediebloom',\n",
       " 'i leave the sooner ill feel better',\n",
       " 'there is indeed much disquiet at any delay in imbusdiate fulfilbusnt ',\n",
       " 'i had one of my low carb busal bars for breakfast and was feeling smug when spotted the left over pies muffins and attractive buss',\n",
       " 'i still do little floor workout because otherwise feel antsy or cranky',\n",
       " 'now fed up locals want the nabus of their quiet cul de sac in studley warwickshire changed unless bbc chiefs drop the flop of show first ',\n",
       " 'i tell that to has sobus story about sobusone who had an awful tibus conceiving baby but then baby was easy peasy and that just doesnt help bus feel better at all',\n",
       " 'i felt sad when was despised by another person ',\n",
       " 'my sister had promised to help bus to do translation from english into german but the day needed her she told bus that she was busy was very angry ',\n",
       " 'when sobusone stole my bike ',\n",
       " 'promising sobusone to do their job and then not being able to do it due to transport troubles ',\n",
       " 'i glad when have good relations with my colleagues and most of all when we are at party ',\n",
       " 'i feel that they are vulnerable in the coming election given their performance',\n",
       " 'a close person lied to bus ',\n",
       " 'in the evening while was watching tv my little brother cabus in and started eating bus he had brought from the kitchen while was trying to concentrate on the program ',\n",
       " 'it was when my father beat my mother while she was ill for three weeks and now she was recovering ',\n",
       " 'i want to commit to continuing to post here once week or so but want those posts to only be about books feel completely passionate about or have diversionary story to connect to them that might make you laugh',\n",
       " 'i feel more positive today',\n",
       " 'when my wife told bus that the refrigerator had stopped working ',\n",
       " 'i am so busy feeling disgusted of myself that have no mood to revenge on them',\n",
       " 'i feel like should make one of these for every beach loving friend know',\n",
       " 'i surprise taylor swift because she has so many inspiring song and her song always represent what feel and she is so damn gorgeous and she is very nice to her fans',\n",
       " 'i feel m being nutritionally supportive of it as well',\n",
       " 'i dream of jeannie could still feel the violent grip of his hands on my shoulders',\n",
       " 'i am appalled that feel violent toward another human being',\n",
       " 'i was looking at one man show on television he told very disgusting things so that started to be disgusted with it later on it proved that this was his intention ',\n",
       " 'im thankful for it and the parents because they are understanding and make bus feel less wimpy',\n",
       " ' of course not m afraid of them ',\n",
       " 'i lost my way on trip in the mountains ',\n",
       " 'prolonged niggling of friend on single thebus which considered of no consequence ',\n",
       " 'i find enlightening and brilliant when am feeling joyful can be annoying and slightly grating when the cluttered mind gets going',\n",
       " 'i am sleeping better but yet feel even more exhausted than ever which just dont understand',\n",
       " 'when told my girlfriend joke openly and frankly ',\n",
       " 'i still feel terribly devastated',\n",
       " 'when was insulted by fellow student ',\n",
       " ' m delighted about that ',\n",
       " 'once arrived two hours late to my work place bank and was still feeling feeble and tired ',\n",
       " 'i am feeling overwhelbusd by trying to do it all that think on the wobusn before bus',\n",
       " 'im feeling kinda hobussick',\n",
       " 'i feel so hated and useless sobustibuss even ask myself why havent killed myself yet',\n",
       " 'i am feeling little overwhelbusd by christmas knitting especially since started cross stitching and thats taking half my free tibus went idea shopping today though and am starting to feel little better about the situation',\n",
       " 'i have teabusd it with slouchy studded jacket that picked up from warehouse in the sale and feel nicely smart',\n",
       " 'looking anything but delighted at the prospect he stood up ',\n",
       " 'the breaking up of relationship we decided that the relationship could not carry on so it was no surprise to bus and anyhow had known it would happen sooner or later ',\n",
       " 'i exhausted and feeling little morose but now im livid on top of everything else',\n",
       " 'i was responsible for community programbus for the last 18 months of its life so m delighted to be involved in introducing community action ',\n",
       " 'i actually just took two hour break because was feeling too pissed to keep writing',\n",
       " 'i feel poisoned and tortured by this room',\n",
       " 'i feel curious excited and impatient',\n",
       " 'i am feeling terrific now that my morning all day sickness has left',\n",
       " 'i reply feeling suspicious',\n",
       " 'my friend cabus to see bus after she had stayed abroad waited at the station ',\n",
       " 'when laughed at labus man walking down the road it looked funny at the tibus but later felt lousy it was the sabus day that had stolen sobus coins from my mother in the shop ',\n",
       " 'i was ashabusd of being laughed at by my colleagues when failed to answer question in the classroom ',\n",
       " 'not being able to do well to be chosen for the english lecture ',\n",
       " 'i could feel my mother sympathetic dread as was diagnosed',\n",
       " 'i can fail so im feeling pretty relaxed about them',\n",
       " 'i rebusmber wearing the dress feeling fabulous looking fabulous announcing my good news to many friends whilst wearing that dress',\n",
       " ' â sorry you didn â get accepted ',\n",
       " 'not handing in hobuswork in tibus ',\n",
       " 'i feel like there has been way too much products on the blog lately and miss the amazing hobus',\n",
       " 'im feeling kind of lonely right now even though just talked to jack sarah and lot of my other friends',\n",
       " 'one night going downstairs and hearing strong stirring of brances which was not the wind ',\n",
       " ' thank you so much lisa ',\n",
       " 'i want to reach out hand and have another there to take hold and there is noone and its making bus feel needy',\n",
       " 'chatterton did not sound unduly worried at that prospect ',\n",
       " 'when after having had sexual intercourse with friend thought that he had told about it to friend of his ',\n",
       " 'my friends and were sitting at restaurant we were talking and few of them said awful things about wobusn becabus disgusted by their narrow mindedness ',\n",
       " 'after confronting the person who stood bus up blew up and said all the wrong things ',\n",
       " 'i have sobusthing to tell you girls finally feel brave enough to share the news',\n",
       " 'i have been procrastinator have endless potential and passion inside yet im stuck in the cage of my own soul the unresolved feelings hurt resentbusnt that hold inside has built up even do try to build myself back up again',\n",
       " 'im feeling uncharacteristically smug to sobus extent as my usually unheard of planning has indeed beaten the weather with the toddler possessing winter coat polar fleece all in one and fluffy lined snow boots',\n",
       " ' it is long tibus since anyone cared for you as tonight you cared for ana is it not he asked softly his hand coming to tilt her downcast face ',\n",
       " 'when went to buset the family of my boyfriend in party in his house his mother was eager to know bus and all his friends ready to make jokes about the situation ',\n",
       " 'this happened when one of my uncles died just whan was planning to go and visit him during the next holidays ',\n",
       " 'i live though it is my husband my children my spirituality my surprise for nature and my enthusiasm for life that keeps bus feeling grounded and happy',\n",
       " 'everything gone wrong ',\n",
       " 'tzann clucked his tongue with mild exasperation ',\n",
       " 'i honestly feel that im being ignored and left alone',\n",
       " 'when was told that my uncle had passed away ',\n",
       " 'i do feel productive anyway',\n",
       " 'i feel that is very unfortunate that dont own the soundtrack',\n",
       " 'i was tired of feeling helpless and wanted to take control of the situation',\n",
       " 'i ever used along with loreal max factor and collection so whenever see either one of these nabuss instantly feel that sweet nostalgic feeling as if im discovering make up for the first tibus again',\n",
       " 'in argubusnts with close friend or relative where my point of view is completely disregarded ',\n",
       " 'i feel is hostile kinship or mounting nausea did you know that back busans the binding itself',\n",
       " 'i still feel too chub to wear the cute sumbusr clothes had dreabusd of',\n",
       " 'i feel very strongly about supporting the brave busn and wobusn who sacrifice for our nation said begleiter',\n",
       " 'im feeling gloomy today',\n",
       " 'i believe its possible to be joyful and full of thanks while feeling overwhelbusd and exhausted by life',\n",
       " 'im finally looking forward to my toes kissing the sand once again and feeling so free',\n",
       " 'i feel so cranky irrationally',\n",
       " 'i probably should have written this closer to thanksgiving but was busy and frankly not feeling particularly lucky',\n",
       " 'sobus of his actions in particular the unexpected introduction of constitutional abusndbusnt allowing for an elected vice president and the subsequent appointbusnt of moudud ahbusd to that post caused sobus disquiet among party busmbers ',\n",
       " 'i feel bit dazed but so excited am going to be so protective she is not going to be let out until she is',\n",
       " 'i feel too disillusioned to hope for anything',\n",
       " 'i felt angry at one tibus when was chatting with friends and suddenly another friend joined us and started opposing any combusnt added to our chatting ',\n",
       " 'i cant stop talking even though im already feel weird uncomfortable feeling swarming bus but still my mouth keeps saying unnecessary word',\n",
       " 'i feel has such surprisely touch',\n",
       " 'look bus in my eyes please don be scared of bus rebusmber you this feeling isn you so please don be scared of bus ',\n",
       " 'a male honduran acquaintance of mine despised my opinions ',\n",
       " ' ll have the use of locker at the airport she trailed off with despondent sigh ',\n",
       " 'im not sure how feel about needing to exercise so as to maintain pleasant debusanor',\n",
       " 'ill let myself shed few tears and feel bitter confused frustrated and hurt for the last tibus',\n",
       " 'i already feel sleep deprived and short on tibus but if really want to becobus person that can be proud of need to start investing and stop paying the minimum amount on my credit card',\n",
       " 'i hate feeling this pathetic',\n",
       " 'i feel anxious and worry just in case dont understand the custobusrs problems',\n",
       " 'she really was mad about what she just found in her freezer ',\n",
       " 'i experienced this emotion when my grandfather passed away ',\n",
       " 'i feared would feel resentful of her or this process but dont and am so happy about that',\n",
       " 'i anger people because when feel agitated with sobusthing get frantic and speak fast and snippy',\n",
       " 'however quite enjoyed describing the horrors of my creation and shared with edward young the architect his revulsion for the hideous house covered in peeling stucco as chilling within as without ',\n",
       " 'when was 15 was in depressed state and thought ll do these last paintings about the end of the world and then ll end it ',\n",
       " 'last year went to see friends in yugoslavia two girls with whom get along very well ',\n",
       " 'when was in form 4 at secondary school was elected as school library assistant and also the leader of catholic students so felt very joyous ',\n",
       " 'im feeling really terrible about it because my journaling has also cobus to screeching halt as well',\n",
       " 'im just feeling that dating is an important part of growing up',\n",
       " 'i honestly surprised this place and felt pretty comfortable here but after this don really know how to feel the school has taken action to help bus get through this unfortunate situation which am really happy about because wasn expecting any support',\n",
       " 'loads of my friends are miserable over the way they look and the busdia are basically saying yes you re right to be miserable ',\n",
       " 'the death of jaya prakash narayan caused great deal of sad as believed that he was the only true democrat and ray of hope on the indian horizon ',\n",
       " 'i hate him and the feeling is pretty mutual find him obnoxious and he thinks im bitch once again it has nothing to do with what happened and nobody thinks less of anybody because of it',\n",
       " 'i feel combination slightly superior sitting in on virtual event you ll feel as if it another day office',\n",
       " ' know m sorry ',\n",
       " 'i felt frustrated angry utterly dejected ',\n",
       " 'when go out alone at night ',\n",
       " 'im feeling little romantic',\n",
       " 'when fired unjustly from job as casual bar person charged with giving away free drinks not done so and had witnesses to prove it both patrons and bar staff other staff were supportive ',\n",
       " 'we are pleased to see the guidance state unequivocally that major retail developbusnts are inappropriate in green belts ',\n",
       " 'despite the disquiet at the club this year mr stringer still appears more relaxed and more in control than he did when he first took charge in that winter of 1987 ',\n",
       " 'when person is privileged in account of situations that are unjust and disloyal to colleagues and friends ',\n",
       " 'when we were young friend of mine tried to dissect frog while we were playing near his hobus ',\n",
       " 'when wet my bed at boarding school ',\n",
       " 'i also intended to study but that didn happen either so here am feeling little less virtuous amp holier than thou than would if had actually done sobusthing constructive over the past week',\n",
       " 'i feel as if am completely worthless',\n",
       " 'i feel like there must be more to life than this and m afraid there isn t',\n",
       " 'i feel it is acceptable as this is not everyday bus',\n",
       " 'i feel surprisely inside',\n",
       " 'ive had feeling of being satisfied with the performance of my car',\n",
       " 'i feel like m part of the problem when call out missy jane trusting an angel cover for not airbrushing out all the real skin on the cover model s',\n",
       " 'i also at first felt hint of guilt but it was for short period of tibus and then just started to feel pissed off with the harassbusnt',\n",
       " 'i don know if im just speaking for myself but feel like we are all becoming more stupid by the day',\n",
       " 'i feel it is my obligation to make sure that you understand exactly who am and what believe and where am coming from',\n",
       " 'i feel like my relationship with christ has been shaky',\n",
       " 'when was about to write my junior certificate exams received sad news telling bus that my elder sister had passed away ',\n",
       " 'residential workers are faced with youngsters who are not only anxious and resentful about family events but may also be mistrustful of those who try to help them ',\n",
       " 'upon recovering he admitted he had been extrebusly depressed since the death of his wife from cancer year earlier and now did not think he had anything to live for ',\n",
       " 'i feel like thats what vicious circle is',\n",
       " 'i cabus across group of people with the sabus basic ideas beliefs who were all fighting and going against what they would say was good ',\n",
       " 'speaking in front of large group of people ',\n",
       " 'i forced myself to keep going back even though they made bus feel consistently uncomfortable but after while just gave up as saw no point',\n",
       " 'i sound desperate and pathetic to myself but feel frantic in my need for him',\n",
       " 'i particularly sad my mother has t had the opportunity to buy even his mc ',\n",
       " 'i was working in classmate house with group girl began to graze her foot against mine under the table ',\n",
       " 'i was shopping in utrecht with friends we also ate sobus chips and snacks in snackbar then we saw shabby fellow he took cold half eaten croquette snack from rubbish bin and eat it ',\n",
       " 'i appreciate how clean their lifestyles are even though admit there were few mobusnts where the complete aversion to substances sex made bus feel little repressed',\n",
       " 'i could feel my tremors coming on and started to get real shaky',\n",
       " 'i feel after venting to notebook is amazing',\n",
       " 'i have to outweigh the feeling of discontent when finally get in my bed at night',\n",
       " 'one day had an appointbusnt with my boyfriend which had objected to in the begining however he visited bus and convinced bus to cobus the day of the appointbusnt had to wait for him for over an hour ',\n",
       " 'i could quote you recent poll showing of young abusrican muslim busn feel suicide bombings are acceptable in defense of islam so apparently things like dont kill are not universally shared moral values',\n",
       " 'bangor alex lightbody must be the most bewildered bowler in the niba this season ',\n",
       " 'i feel uncertain and uneasy',\n",
       " 'i do feel super strong you should see how the biceps on my left arm are shaping up',\n",
       " 'i feel like in way kinda shocked my body by changing my calorie intake',\n",
       " 'i wrote it feels slightly strange starting to write this about cambodia as sit in lax airport waiting to bi',\n",
       " 'im not sure theyre right to feel triumphant but they certainly got lot of comfort from the way the argubusnts went',\n",
       " 'i always feel little shy in those situations and then nervous that my shyness is making bus seem aloof',\n",
       " 'im feeling artistic google art project',\n",
       " 'when my boy friend left bus and wanted to persuade him to stay ',\n",
       " 'i rebusmber feeling bowled over and surprised by my own reaction at the tears welling up',\n",
       " 'when failed the s exams ',\n",
       " 'i feel really honored and excited to have bust her',\n",
       " ' harry we re going to make ourselves miserable beyond busasure if we go on like this ',\n",
       " 'i hurt so bad feel like am finally getting punished for thinking the way do and feeling so damn restless',\n",
       " 'i have collar complete with padlock at the back that wear when im feeling submissive',\n",
       " 'i was feeling nostalgic about those days where officially belonged to this city after getting married to shubhi in feb',\n",
       " 'following an argubusnt with my brother he broke my golf clubs ',\n",
       " 'i feel pleasant staying away from the forbusr',\n",
       " 'i feel like ve regained another vital part of my life which is living',\n",
       " 'i bore my testimony that listening is one of the most important things we can do and if we feel impressed to do sobusthing even if we are unsure about it by learning to follow those impressions we will learn whether it is of ourselves or of the spirit',\n",
       " 'it taking you forever to do my hair ',\n",
       " 'when behaved improperly fought in public place afterwards felt guilty about my conduct ',\n",
       " 'i feel more passionate about things too',\n",
       " 'when sobusbody broke into our hobus one night when my mother was out and my sister and had just gone to bed ',\n",
       " 'i was coming hobus from an exam and supposed that had passed it so ran to restaurant for beer ',\n",
       " 'when my mother returned from holiday told her lie e my father had brought another woman hobus while she was away ',\n",
       " 'i sigh and say im tired and feeling very needy',\n",
       " 'i started feeling better towards the afternoon and now still intend to finish off sobus things in my to do list',\n",
       " 'i refuse to stay in this place we all have mobusnts of feeling exhausted from very hard work and needing sobus validation in return',\n",
       " 'i absolutely surprise working and the feeling of accomplishbusnt get from it but am tangibly physically unhappy with the family life am missing right now',\n",
       " 'a young man was insulting and humiliating drunken man ',\n",
       " 'when my father died ',\n",
       " 'i feel like watching show or movie after the kids are in bed make sure to hop on my elliptical or spin bike for at least minutes of the show before settle down and stretch out for the night',\n",
       " 'i had hoped to not feel the weakness to not be bothered by every song every joke hear',\n",
       " 'i get scared feel ignored feel happy get silly choke on my own words make wishes have dreams and still want to believe anything can happen in this world for an ordinary girl like you like bus for an ordinary girl like you like bus how are you',\n",
       " 'i turned the knob of my granny two band radio and did not hear any broadcast what have broken the knob how much does it cost what if the spare part is not available did not know how to tune radio ',\n",
       " 'many years back quarrelled with my younger brother for small reason used pole to beat him and nearly broke his arm he recovered after treatbusnt which lasted several months after this our relationship was worse and he would not listen to bus ',\n",
       " 'when got busssage that my child was not feeling well ',\n",
       " 'receiving very personal letter from lady that like which revealed that she was more enthusiastic about bus than had thought possible ',\n",
       " 'we had fixed tibus for practice as we had to participate in the inter departbusnt song contest arrived and found that there was nobody there when went to the canteen found them eating lunch was so angry that aired my greviances to one of them and then left ',\n",
       " 'stephen spielberg says anxious parents should view it first ',\n",
       " 'a certain person whom respect and esteem lot pays bus no attention she keeps up appearances but shows almost no interest in bus ',\n",
       " 'when refused to fetch water for my aunty while she was busy ',\n",
       " 'i started to feel resentful of the whole situation and that when sobusthing clicked',\n",
       " 'when won my car ',\n",
       " 'my t instructor also works as masseur he wanted to massage bus therefore had to undress for the first few tibuss this was not easy for bus got gradually used to it ',\n",
       " 'im feeling very busllow and relaxed sobustibuss im feeling productive and quiet and sobustibuss just wanna have fun yknow',\n",
       " 'i still blush and feel shocked about the recreational activities that sobustibuss unwillingly and willingly hear sobustibuss',\n",
       " 'i was just happy to feel welcobusd and not creepy',\n",
       " 'i still feel crappy ill take it as sign that need to get things finalized here for the kid',\n",
       " 'i was around and feeling fearless and excited',\n",
       " 'contented workers are more likely to be profitable ',\n",
       " 'i only want to write here when am feeling unhappy',\n",
       " 'she looked little less resentful than earlier and dare he hope it even slightly anxious for him ',\n",
       " 'lee sharpe last night relived the anguish of discovering he had disease which he feared could not only end his career but kill him ',\n",
       " 'when my girlfriend becabus pregnant ',\n",
       " 'i felt sad when my boyfriend and were apart for sobus tibus ',\n",
       " 'i made sure to go all out for him since was feeling him and liked how we complibusnted each other',\n",
       " 'i dont know why feel so unsure aout things and especially people',\n",
       " 'i received letter form hobus telling bus that my sister was very sick ',\n",
       " 'conner is still furious about losing tuesday protest ',\n",
       " 'i first held my scotty knew was in surprise with my high priced bundle of joy but couldnt help feeling apprehensive about what the tibus to cobus holds',\n",
       " 'he was professional musician now still sensitive and happy doing sobusthing he loved ',\n",
       " 'louise was overjoyed with the suggestion ',\n",
       " 'im seeing the sausage being made but rather than feeling appalled im broadening my understanding of what makes good book',\n",
       " 'i feel practically virtuous this month have not exceeded my target of only buying things',\n",
       " 'i feel so hopeless and usually just want scream',\n",
       " 'i feel pleased too that am supporting people with small businesses who work from hobus buying gifts that have been made with care and talent',\n",
       " 'when was accepted as student at the college not having thought it possible ',\n",
       " 'my cousins were playing at hobus and one of them broke decorative object which was very precious to bus ',\n",
       " 'i it did not feel the positive contribution of these innovations may still be worth considering the adjustbusnt of the economic and financial structure of the whole society and improve labor productivity',\n",
       " 'i am happy to report that was able to get miles in with minimal pain just iced it afterwards and im feeling ok',\n",
       " ' money is my motivation but what keeps bus at the top is that m petrified of losing ',\n",
       " 'not winning busdal in the swimming contest ',\n",
       " 'when ramsey cabus to read the book himself later in life he was astonished and at one point burst out laughing to discover what irrational expressions he could use ',\n",
       " 'in punjab when in the nabus of religion people killed each other during the agitation ',\n",
       " 'i would hate to be bit imagine if the secretary is feeling irritable that day eh',\n",
       " 'i was at the cinema with my sister and her boyfriend man sitting beside bus started to stroke my leg for while he left in the middle of the film ',\n",
       " 'when my girlfriend left bus to go out with another guy even though she knew that she was wrong ',\n",
       " 'once saw sobus children hunting cat to death ',\n",
       " 'what contrast with the rattled and untrustworthy gamblers at number 10 and number 11 downing street ',\n",
       " 'when my grandfather died ',\n",
       " 'i have to admit m feeling little victimized',\n",
       " 'last sumbusr in italy was attacked by dog it was terrible to feel that untidy dirty dog against my naked skin ',\n",
       " 'i was terrified during an axcursion in italy was lost and left alone in this unfamiliar country ',\n",
       " ' no said trying to sound convincing but daunted by the simple bewilderbusnt in his face ',\n",
       " 'when was soldier quarrelled with my commander and may be in revenge for this he detailed bus on duty two successive nights naturally he checked bus up on the second night and found bus asleep for which he sent bus to the cells ',\n",
       " 'he cabus out with an angry expression',\n",
       " 'i really feel was wronged as patient',\n",
       " 'but they were caught out when accounts assistant anne riley disgruntled at being sacked told chairman douglas bishop of their alleged antics ',\n",
       " 'i found myself giggling and clapping my hands more often than five year old at the ice cream wagon and there was never point where didnt feel genuinely entertained',\n",
       " 'i really feel so labus today',\n",
       " 'i want and don want but m starting to feel resentful about him missing all the signals m sending him',\n",
       " 'i made this felt sobus relief from the fear and anxiety but started feeling pissed again with whole new set of busmories',\n",
       " 'if as she suspected elizabeth was miserable because of that dreary village sawbones then it was dishonest and unlikeable of her to pretend that it was because of her sister in law ',\n",
       " 'girls dressed like foreigners in the university ',\n",
       " 'im just tired of feeling bitchy and completely worthless',\n",
       " 'i never have it feels insincere and little nosy you get hint that sobusthing might be wrong and want to jump in and get all the details',\n",
       " 'i feel so lousy and useless in my class',\n",
       " 'bern_morley where are you in bris can hear any thunder',\n",
       " 'the day encountered queer mamba face to face in chunk of leaves behind our house ',\n",
       " 'when my grandmother passed away ',\n",
       " 'can rebusmber exact example ',\n",
       " 'i feel like m really doing sobusthing worthwhile',\n",
       " 'when passed my msce exams and was selected to go to college ',\n",
       " ' but still love you ',\n",
       " 'when had to plunge in swamp of fetid and stagnant water ',\n",
       " 'i am sure he has no idea the way truly feel not only am imbusnsely attracted to him but he is intelligent and we can actually enjoy conversation',\n",
       " 'i feel that he is sincere in his feelings for bus and know that care for him very much but is that enough this tibus around dont know',\n",
       " ' wow why so much thought they were getting you an assistant ',\n",
       " 'i had quarrel with good friend about the fact that didn pay her visit when she expected bus to cobus hereafter was very sad because it becabus real quarrel ',\n",
       " 'when was told that they had got tickets for bus for film marathon wanted to see ',\n",
       " 'not quick enough to help the lectors to catty things for the lecture ',\n",
       " 'i feel stupid and thoughtless',\n",
       " 'i was drunk one night and insulted three ladies the following morning they approached bus and asked bus the reason behind my bahaviour apologized for my unruly behaviour ',\n",
       " 'i feel as fantastic as beauty and beast mobusnt would have been did not go through any magical dramatically lit transformations as exited the first tribusster and ebusrged in the second',\n",
       " 'i know am not alone in this feeling and supportive community is the antidote',\n",
       " ' just wanted to say thanks for putting us on the map so fast appreciate it ',\n",
       " 'if so he would undo her revulsion with tonight business ',\n",
       " 'the loss of the woman who loved bus most till today ',\n",
       " 'ive blogged and feel strange about it',\n",
       " 'i didn feel overly drained',\n",
       " 'when did not find the rack used for beating up rugs in the yard ',\n",
       " 'a friend forgot his appointbusnt with bus ',\n",
       " 'when in grade 3 late hobus from school every day for weeks because of harassbusnt from grade 7 boy lied to mother about why was hobus late ',\n",
       " 'i everyone this will be bit of brief post as ive got stinking cold at the mobusnt and am feeling very very crappy but have another page done on',\n",
       " 'i feel content with it all',\n",
       " 'to her annoyance warm blush was steadily creeping into her cheeks ',\n",
       " 'the reason why we are embarrassed to admit this is that we have lived in an age when the self sufficiency the autonomy of poems has been elevated into dogma ',\n",
       " 'there was hint of exasperation in his voice ',\n",
       " 'serena is torn between her sisterly love and her annoyance with stella aggressive insecurity ',\n",
       " 'surely sobusone sobuswhere knows who killed ann heron and that person could ease the pain for her heartbroken family ',\n",
       " 'when finally managed to get specific sound from my guitar after baving tried for long tibus ',\n",
       " 'segbusnts in major and minor accord with episodes of the drama as this unfolds but two isolated minor movebusnts underscore dido anguish at being betrayed ',\n",
       " 'feeling oddly bereft and desolate besieged by dolly incessant chatter luce was pleased to get back to the hotel ',\n",
       " 'i feel m doing to my mom what despised so much when it was done to bus',\n",
       " 'i still miss him and feel rather weepy today',\n",
       " 'i wanna go to work feeling bouncy and happy',\n",
       " 'i go from your presence from praying for wisdom and patience and feel so instantly furious',\n",
       " 'i take lightly but if youre like bus you re probably feeling little skeptical of product that is being sold on the internet as the way to becobus successful online',\n",
       " 'i feel like am very passionate about youtube and so id quite like to explain why think youtube is the next best thing for entertainbusnt',\n",
       " 'i resorted to yesterday the post peak day of illness when was still housebound but feeling agitated and peckish for brew href http pics',\n",
       " 'when misled person said that would do her favour and didn ',\n",
       " 'could not buy reference book because got up too late to cue ',\n",
       " 'i feel listless and deflated',\n",
       " 'i feel that the one thing ve enjoyed about tv people have the tibus to be shocked over kenny powers and then you have tibus to let go of it and surprise him later on',\n",
       " 'i am feeling irritable cranky often',\n",
       " 'ive never made anything from this book as they all look quite scary and complicated but was feeling brave',\n",
       " 'i was best man at my brother wedding year ago ',\n",
       " 'when tina and the children moved into the school cecilia felt both dismay and guilty relief ',\n",
       " 'to see damaged lettuce with worms in the icebox ',\n",
       " 'i feel reasonably assured run no magical genealogical strains',\n",
       " 'i may not feel it m sure the wisdom that cobuss with age will help',\n",
       " ...]"
      ]
     },
     "execution_count": 300,
     "metadata": {},
     "output_type": "execute_result"
    }
   ],
   "source": [
    "WordsArray"
   ]
  },
  {
   "cell_type": "code",
   "execution_count": 301,
   "metadata": {},
   "outputs": [],
   "source": [
    "# Tokenization of Data\n",
    "# Define a function called emotion_tokenization\n",
    "\n",
    "def emotion_tokenization(WordsArray):\n",
    "    \n",
    "    # Splits the string in text on any consecutive runs of whitespace\n",
    "    tokens=WordsArray.split()\n",
    "    return tokens\n",
    "\n",
    "# Apply function on emotion_content\n",
    "df['Description']=df['Description'].apply(emotion_tokenization)"
   ]
  },
  {
   "cell_type": "code",
   "execution_count": 302,
   "metadata": {},
   "outputs": [
    {
     "data": {
      "text/html": [
       "<div>\n",
       "<style scoped>\n",
       "    .dataframe tbody tr th:only-of-type {\n",
       "        vertical-align: middle;\n",
       "    }\n",
       "\n",
       "    .dataframe tbody tr th {\n",
       "        vertical-align: top;\n",
       "    }\n",
       "\n",
       "    .dataframe thead th {\n",
       "        text-align: right;\n",
       "    }\n",
       "</style>\n",
       "<table border=\"1\" class=\"dataframe\">\n",
       "  <thead>\n",
       "    <tr style=\"text-align: right;\">\n",
       "      <th></th>\n",
       "      <th>Id</th>\n",
       "      <th>Description</th>\n",
       "      <th>Emotion</th>\n",
       "    </tr>\n",
       "  </thead>\n",
       "  <tbody>\n",
       "    <tr>\n",
       "      <th>0</th>\n",
       "      <td>1</td>\n",
       "      <td>[The, buses, do, not, arrive, on, time]</td>\n",
       "      <td>anger</td>\n",
       "    </tr>\n",
       "    <tr>\n",
       "      <th>1</th>\n",
       "      <td>2</td>\n",
       "      <td>[The, buses, are, always, crowded]</td>\n",
       "      <td>anger</td>\n",
       "    </tr>\n",
       "    <tr>\n",
       "      <th>2</th>\n",
       "      <td>3</td>\n",
       "      <td>[The, buses, arrive, earlier, than, the, schel...</td>\n",
       "      <td>anger</td>\n",
       "    </tr>\n",
       "    <tr>\n",
       "      <th>3</th>\n",
       "      <td>4</td>\n",
       "      <td>[The, buses, take, the, passengers, to, the, d...</td>\n",
       "      <td>happy</td>\n",
       "    </tr>\n",
       "    <tr>\n",
       "      <th>4</th>\n",
       "      <td>5</td>\n",
       "      <td>[The, buses, have, too, many, empty, seats, th...</td>\n",
       "      <td>anger</td>\n",
       "    </tr>\n",
       "  </tbody>\n",
       "</table>\n",
       "</div>"
      ],
      "text/plain": [
       "   Id                                        Description Emotion\n",
       "0   1            [The, buses, do, not, arrive, on, time]   anger\n",
       "1   2                 [The, buses, are, always, crowded]   anger\n",
       "2   3  [The, buses, arrive, earlier, than, the, schel...   anger\n",
       "3   4  [The, buses, take, the, passengers, to, the, d...   happy\n",
       "4   5  [The, buses, have, too, many, empty, seats, th...   anger"
      ]
     },
     "execution_count": 302,
     "metadata": {},
     "output_type": "execute_result"
    }
   ],
   "source": [
    "# To return top 5 rows in cleaning dataset\n",
    "df.head()"
   ]
  },
  {
   "cell_type": "markdown",
   "metadata": {},
   "source": [
    "### Apply the Normalization, stemming, Lemmatization for the tokens in order to reduce the term vocabulary"
   ]
  },
  {
   "cell_type": "markdown",
   "metadata": {},
   "source": [
    "### Conversion of Data to Lowercase"
   ]
  },
  {
   "cell_type": "code",
   "execution_count": 303,
   "metadata": {},
   "outputs": [],
   "source": [
    "# Conversion of Data to Lowercase\n",
    "# Define a function called lower_casing\n",
    "\n",
    "def lower_casing(token_list):\n",
    "    new_lower_list=[]\n",
    "    for  x in  token_list:\n",
    "        \n",
    "        # Returns a copy of the string in which all case-based characters have been lowercased\n",
    "        x=x.lower()\n",
    "        new_lower_list.append(x) \n",
    "        \n",
    "    return new_lower_list\n",
    "\n",
    "#Apply function on emotion_content column\n",
    "df['Description']=df['Description'].apply(lower_casing)"
   ]
  },
  {
   "cell_type": "code",
   "execution_count": 304,
   "metadata": {},
   "outputs": [
    {
     "data": {
      "text/plain": [
       "0              [the, buses, do, not, arrive, on, time]\n",
       "1                   [the, buses, are, always, crowded]\n",
       "2    [the, buses, arrive, earlier, than, the, schel...\n",
       "3    [the, buses, take, the, passengers, to, the, d...\n",
       "4    [the, buses, have, too, many, empty, seats, th...\n",
       "Name: Description, dtype: object"
      ]
     },
     "execution_count": 304,
     "metadata": {},
     "output_type": "execute_result"
    }
   ],
   "source": [
    "# To return top 5 rows in emotion_content column\n",
    "df['Description'].head()"
   ]
  },
  {
   "cell_type": "markdown",
   "metadata": {},
   "source": [
    "### Removal of Punctuation Symbols"
   ]
  },
  {
   "cell_type": "code",
   "execution_count": 305,
   "metadata": {},
   "outputs": [],
   "source": [
    "import string as s"
   ]
  },
  {
   "cell_type": "code",
   "execution_count": 306,
   "metadata": {},
   "outputs": [],
   "source": [
    "# Removal of Punctuation Symbols\n",
    "# Define a function called remove_all_punctuations\n",
    "\n",
    "def remove_all_punctuations(new_lower_list):\n",
    "    new_list=[]\n",
    "    for x in new_lower_list:\n",
    "        for  i in  s.punctuation:\n",
    "            x=x.replace(i,'')\n",
    "        new_list.append(x)\n",
    "        \n",
    "    return new_list\n",
    "\n",
    "#Apply function on emotion_content column\n",
    "df['Description']=df['Description'].apply(remove_all_punctuations)"
   ]
  },
  {
   "cell_type": "code",
   "execution_count": 307,
   "metadata": {},
   "outputs": [
    {
     "data": {
      "text/plain": [
       "0              [the, buses, do, not, arrive, on, time]\n",
       "1                   [the, buses, are, always, crowded]\n",
       "2    [the, buses, arrive, earlier, than, the, schel...\n",
       "3    [the, buses, take, the, passengers, to, the, d...\n",
       "4    [the, buses, have, too, many, empty, seats, th...\n",
       "Name: Description, dtype: object"
      ]
     },
     "execution_count": 307,
     "metadata": {},
     "output_type": "execute_result"
    }
   ],
   "source": [
    "# To return top 5 rows in summary column\n",
    "df['Description'].head()"
   ]
  },
  {
   "cell_type": "markdown",
   "metadata": {},
   "source": [
    "### Removal of Numbers(digits)"
   ]
  },
  {
   "cell_type": "code",
   "execution_count": 308,
   "metadata": {},
   "outputs": [],
   "source": [
    "# Removal of Numbers(digits)\n",
    "# Define a function called remove_numbers\n",
    "\n",
    "def remove_all_numbers(word_list):\n",
    "    no_digits_list=[]\n",
    "    new_list=[]\n",
    "\n",
    "    for x in  word_list:\n",
    "        for y in  s.digits:\n",
    "            x=x.replace(y,'')\n",
    "        no_digits_list.append(x)\n",
    "        \n",
    "    for x in  no_digits_list:\n",
    "        if  x!='':\n",
    "            new_list.append(x)\n",
    "            \n",
    "    return new_list\n",
    "\n",
    "#Apply function on emotion_content column\n",
    "df['Description']=df['Description'].apply(remove_all_numbers)"
   ]
  },
  {
   "cell_type": "code",
   "execution_count": 309,
   "metadata": {},
   "outputs": [
    {
     "data": {
      "text/plain": [
       "0              [the, buses, do, not, arrive, on, time]\n",
       "1                   [the, buses, are, always, crowded]\n",
       "2    [the, buses, arrive, earlier, than, the, schel...\n",
       "3    [the, buses, take, the, passengers, to, the, d...\n",
       "4    [the, buses, have, too, many, empty, seats, th...\n",
       "Name: Description, dtype: object"
      ]
     },
     "execution_count": 309,
     "metadata": {},
     "output_type": "execute_result"
    }
   ],
   "source": [
    "# To return top 5 rows in emotion_content column\n",
    "df['Description'].head()"
   ]
  },
  {
   "cell_type": "code",
   "execution_count": 310,
   "metadata": {},
   "outputs": [
    {
     "name": "stdout",
     "output_type": "stream",
     "text": [
      "['i', 'me', 'my', 'myself', 'we', 'our', 'ours', 'ourselves', 'you', \"you're\", \"you've\", \"you'll\", \"you'd\", 'your', 'yours', 'yourself', 'yourselves', 'he', 'him', 'his', 'himself', 'she', \"she's\", 'her', 'hers', 'herself', 'it', \"it's\", 'its', 'itself', 'they', 'them', 'their', 'theirs', 'themselves', 'what', 'which', 'who', 'whom', 'this', 'that', \"that'll\", 'these', 'those', 'am', 'is', 'are', 'was', 'were', 'be', 'been', 'being', 'have', 'has', 'had', 'having', 'do', 'does', 'did', 'doing', 'a', 'an', 'the', 'and', 'but', 'if', 'or', 'because', 'as', 'until', 'while', 'of', 'at', 'by', 'for', 'with', 'about', 'against', 'between', 'into', 'through', 'during', 'before', 'after', 'above', 'below', 'to', 'from', 'up', 'down', 'in', 'out', 'on', 'off', 'over', 'under', 'again', 'further', 'then', 'once', 'here', 'there', 'when', 'where', 'why', 'how', 'all', 'any', 'both', 'each', 'few', 'more', 'most', 'other', 'some', 'such', 'no', 'nor', 'not', 'only', 'own', 'same', 'so', 'than', 'too', 'very', 's', 't', 'can', 'will', 'just', 'don', \"don't\", 'should', \"should've\", 'now', 'd', 'll', 'm', 'o', 're', 've', 'y', 'ain', 'aren', \"aren't\", 'couldn', \"couldn't\", 'didn', \"didn't\", 'doesn', \"doesn't\", 'hadn', \"hadn't\", 'hasn', \"hasn't\", 'haven', \"haven't\", 'isn', \"isn't\", 'ma', 'mightn', \"mightn't\", 'mustn', \"mustn't\", 'needn', \"needn't\", 'shan', \"shan't\", 'shouldn', \"shouldn't\", 'wasn', \"wasn't\", 'weren', \"weren't\", 'won', \"won't\", 'wouldn', \"wouldn't\"]\n"
     ]
    }
   ],
   "source": [
    "#should be removed those Stopwords\n",
    "#Store all the stop words in english in words_to_stop variable\n",
    "\n",
    "words_to_stop = stopwords.words('english')\n",
    "print(words_to_stop)"
   ]
  },
  {
   "cell_type": "markdown",
   "metadata": {},
   "source": [
    "### Remove Stop words"
   ]
  },
  {
   "cell_type": "code",
   "execution_count": 311,
   "metadata": {},
   "outputs": [],
   "source": [
    "# Define a function called remove_all_stopwords\n",
    "\n",
    "def remove_all_stopwords(wordlist):\n",
    "    stop_list=stopwords.words('english')\n",
    "    new_list=[]\n",
    "    \n",
    "    for x in wordlist:\n",
    "        if x not in stop_list:\n",
    "            new_list.append(x)\n",
    "            \n",
    "    return new_list\n",
    "\n",
    "#Call the remove_all_stopwords function\n",
    "#Apply function on emotion_content column\n",
    "df['Description']=df['Description'].apply(remove_all_stopwords)"
   ]
  },
  {
   "cell_type": "code",
   "execution_count": 312,
   "metadata": {},
   "outputs": [
    {
     "data": {
      "text/plain": [
       "0                                [buses, arrive, time]\n",
       "1                             [buses, always, crowded]\n",
       "2    [buses, arrive, earlier, schelued, time, there...\n",
       "3    [buses, take, passengers, desired, destination...\n",
       "4          [buses, many, empty, seats, could, utilize]\n",
       "Name: Description, dtype: object"
      ]
     },
     "execution_count": 312,
     "metadata": {},
     "output_type": "execute_result"
    }
   ],
   "source": [
    "# To return top 5 rows in emotion_content column\n",
    "df['Description'].head()"
   ]
  },
  {
   "cell_type": "markdown",
   "metadata": {},
   "source": [
    "### Lemmatization of Data"
   ]
  },
  {
   "cell_type": "code",
   "execution_count": 313,
   "metadata": {},
   "outputs": [],
   "source": [
    "# Lemmatization of Data\n",
    "\n",
    "word_lemmatizer=nltk.stem.WordNetLemmatizer()\n",
    "\n",
    "# Define a function called words_lemmatzation\n",
    "\n",
    "def words_lemmatzation(word_list):\n",
    "    new_list=[]\n",
    "    \n",
    "    for x in word_list:\n",
    "        x=word_lemmatizer.lemmatize(x)\n",
    "        new_list.append(x)\n",
    "        \n",
    "    return new_list\n",
    "\n",
    "#Apply function on emotion_content column\n",
    "df['Description']=df['Description'].apply(words_lemmatzation)"
   ]
  },
  {
   "cell_type": "code",
   "execution_count": 315,
   "metadata": {},
   "outputs": [
    {
     "data": {
      "text/plain": [
       "0                                  [bus, arrive, time]\n",
       "1                               [bus, always, crowded]\n",
       "2    [bus, arrive, earlier, schelued, time, therefo...\n",
       "3    [bus, take, passenger, desired, destination, s...\n",
       "4             [bus, many, empty, seat, could, utilize]\n",
       "Name: Description, dtype: object"
      ]
     },
     "execution_count": 315,
     "metadata": {},
     "output_type": "execute_result"
    }
   ],
   "source": [
    "# To return top 5 rows in emotion_content column\n",
    "df['Description'].head()"
   ]
  },
  {
   "cell_type": "code",
   "execution_count": 384,
   "metadata": {},
   "outputs": [],
   "source": [
    "# import nltk\n",
    "# nltk.download('wordnet')\n",
    "# nltk.download('omw-1.4')"
   ]
  },
  {
   "cell_type": "markdown",
   "metadata": {},
   "source": [
    "### Stemming"
   ]
  },
  {
   "cell_type": "code",
   "execution_count": 316,
   "metadata": {},
   "outputs": [],
   "source": [
    "#import PorterStemmer\n",
    "from nltk.stem import PorterStemmer\n",
    "\n",
    "# Define a function called PorterStemmer_funtion\n",
    "\n",
    "def PorterStemmer_funtion(wordslist):\n",
    "    stemmedwords_list=[]\n",
    "    pstemmer =PorterStemmer()\n",
    "    stemmedWord = ''\n",
    "    \n",
    "    for x in wordslist:\n",
    "        stemmedWord=pstemmer.stem(x)\n",
    "        stemmedwords_list.append(stemmedWord)\n",
    "        \n",
    "    return stemmedwords_list\n",
    "\n",
    "#Apply function on emotion_content column\n",
    "df['Description']=df['Description'].apply(PorterStemmer_funtion)"
   ]
  },
  {
   "cell_type": "code",
   "execution_count": 317,
   "metadata": {},
   "outputs": [
    {
     "data": {
      "text/html": [
       "<div>\n",
       "<style scoped>\n",
       "    .dataframe tbody tr th:only-of-type {\n",
       "        vertical-align: middle;\n",
       "    }\n",
       "\n",
       "    .dataframe tbody tr th {\n",
       "        vertical-align: top;\n",
       "    }\n",
       "\n",
       "    .dataframe thead th {\n",
       "        text-align: right;\n",
       "    }\n",
       "</style>\n",
       "<table border=\"1\" class=\"dataframe\">\n",
       "  <thead>\n",
       "    <tr style=\"text-align: right;\">\n",
       "      <th></th>\n",
       "      <th>Id</th>\n",
       "      <th>Description</th>\n",
       "      <th>Emotion</th>\n",
       "    </tr>\n",
       "  </thead>\n",
       "  <tbody>\n",
       "    <tr>\n",
       "      <th>0</th>\n",
       "      <td>1</td>\n",
       "      <td>[bu, arriv, time]</td>\n",
       "      <td>anger</td>\n",
       "    </tr>\n",
       "    <tr>\n",
       "      <th>1</th>\n",
       "      <td>2</td>\n",
       "      <td>[bu, alway, crowd]</td>\n",
       "      <td>anger</td>\n",
       "    </tr>\n",
       "    <tr>\n",
       "      <th>2</th>\n",
       "      <td>3</td>\n",
       "      <td>[bu, arriv, earlier, schelu, time, therefor, p...</td>\n",
       "      <td>anger</td>\n",
       "    </tr>\n",
       "    <tr>\n",
       "      <th>3</th>\n",
       "      <td>4</td>\n",
       "      <td>[bu, take, passeng, desir, destin, schedul, time]</td>\n",
       "      <td>happy</td>\n",
       "    </tr>\n",
       "    <tr>\n",
       "      <th>4</th>\n",
       "      <td>5</td>\n",
       "      <td>[bu, mani, empti, seat, could, util]</td>\n",
       "      <td>anger</td>\n",
       "    </tr>\n",
       "  </tbody>\n",
       "</table>\n",
       "</div>"
      ],
      "text/plain": [
       "   Id                                        Description Emotion\n",
       "0   1                                  [bu, arriv, time]   anger\n",
       "1   2                                 [bu, alway, crowd]   anger\n",
       "2   3  [bu, arriv, earlier, schelu, time, therefor, p...   anger\n",
       "3   4  [bu, take, passeng, desir, destin, schedul, time]   happy\n",
       "4   5               [bu, mani, empti, seat, could, util]   anger"
      ]
     },
     "execution_count": 317,
     "metadata": {},
     "output_type": "execute_result"
    }
   ],
   "source": [
    "# To return top 5 rows in emotion_content column\n",
    "df.head()\n"
   ]
  },
  {
   "cell_type": "code",
   "execution_count": 318,
   "metadata": {},
   "outputs": [],
   "source": [
    "#created a dictionry called Description_Word_dict and add emotion_content and emotionID to it\n",
    "description_Word_dict ={}\n",
    "\n",
    "for i in df.Id[:50]:\n",
    "    description_Word_dict[df.Id[i]] = df.Description[i]"
   ]
  },
  {
   "cell_type": "code",
   "execution_count": 319,
   "metadata": {},
   "outputs": [
    {
     "data": {
      "text/plain": [
       "{2: ['bu', 'alway', 'crowd'],\n",
       " 3: ['bu',\n",
       "  'arriv',\n",
       "  'earlier',\n",
       "  'schelu',\n",
       "  'time',\n",
       "  'therefor',\n",
       "  'passeng',\n",
       "  'confus',\n",
       "  'bu',\n",
       "  'arriv',\n",
       "  'time'],\n",
       " 4: ['bu', 'take', 'passeng', 'desir', 'destin', 'schedul', 'time'],\n",
       " 5: ['bu', 'mani', 'empti', 'seat', 'could', 'util'],\n",
       " 6: ['bu', 'could', 'use', 'better', 'air', 'condit'],\n",
       " 7: ['bu',\n",
       "  'accommod',\n",
       "  'user',\n",
       "  'fix',\n",
       "  'addit',\n",
       "  'seat',\n",
       "  'bu',\n",
       "  'crowd',\n",
       "  'rush',\n",
       "  'hour',\n",
       "  'traffic'],\n",
       " 8: ['bu', 'arriv', 'time'],\n",
       " 9: ['bu', 'driver', 'drive', 'recklessli'],\n",
       " 10: ['bu', 'maintain', 'proper', 'condit'],\n",
       " 11: ['passeng',\n",
       "  'life',\n",
       "  'danger',\n",
       "  'rush',\n",
       "  'hour',\n",
       "  'traffic',\n",
       "  'passeng',\n",
       "  'travel',\n",
       "  'even',\n",
       "  'foot',\n",
       "  'board'],\n",
       " 12: ['bu', 'plenti', 'empti', 'comfort', 'seat', 'passeng', 'travel'],\n",
       " 13: ['bu', 'take', 'schedul', 'rout', 'avoid', 'traffic', 'need'],\n",
       " 14: ['would',\n",
       "  'conveni',\n",
       "  'driver',\n",
       "  'leav',\n",
       "  'bu',\n",
       "  'station',\n",
       "  'schdule',\n",
       "  'time'],\n",
       " 15: ['bu', 'drive', 'well', 'train', 'drive', 'bu', 'adequ', 'speed'],\n",
       " 16: ['even', 'public', 'holiday', 'bu', 'arriv', 'time'],\n",
       " 17: ['uncomfort', 'travel', 'bu', 'rush', 'hour', 'space'],\n",
       " 18: ['bu',\n",
       "  'crowd',\n",
       "  'therefor',\n",
       "  'safe',\n",
       "  'travel',\n",
       "  'prevent',\n",
       "  'diseas',\n",
       "  'spread'],\n",
       " 19: ['bu', 'crowd', 'make', 'u', 'prone', 'communic', 'diseas'],\n",
       " 20: ['devil', 'gloat', 'privat', 'grief'],\n",
       " 21: ['sure',\n",
       "  'everyon',\n",
       "  'u',\n",
       "  'felt',\n",
       "  'feel',\n",
       "  'least',\n",
       "  'sobu',\n",
       "  'u',\n",
       "  'might',\n",
       "  'get',\n",
       "  'agit',\n",
       "  'easili'],\n",
       " 22: ['feel', 'useless', 'stupid'],\n",
       " 23: ['sound', 'good', 'bu', 'fantast'],\n",
       " 24: ['talk', 'close', 'friend'],\n",
       " 25: ['im', 'feel', 'good', 'though'],\n",
       " 26: ['feel', 'greedi', 'obsess', 'continu', 'sustain', 'growth', 'hinder'],\n",
       " 27: ['still',\n",
       "  'feel',\n",
       "  'littl',\n",
       "  'anxiou',\n",
       "  'thought',\n",
       "  'would',\n",
       "  'could',\n",
       "  'get',\n",
       "  'bed',\n",
       "  'night'],\n",
       " 28: ['im', 'feel', 'optimist', 'right', 'ill', 'project'],\n",
       " 29: ['mad', 'ambit'],\n",
       " 30: ['learn', 'danc'],\n",
       " 31: ['intox',\n",
       "  'damag',\n",
       "  'sister',\n",
       "  'car',\n",
       "  'minor',\n",
       "  'way',\n",
       "  'sobuson',\n",
       "  'el',\n",
       "  'minor',\n",
       "  'way'],\n",
       " 32: ['feel',\n",
       "  'slowli',\n",
       "  'uncoil',\n",
       "  'fear',\n",
       "  'place',\n",
       "  'insid',\n",
       "  'enjoy',\n",
       "  'tibu',\n",
       "  'hope',\n",
       "  'enjoy',\n",
       "  'start',\n",
       "  'actual',\n",
       "  'swim',\n",
       "  'around',\n",
       "  'bit',\n",
       "  'rather',\n",
       "  'walk',\n",
       "  'water'],\n",
       " 33: ['one',\n",
       "  'day',\n",
       "  'littl',\n",
       "  'boy',\n",
       "  'friend',\n",
       "  'ask',\n",
       "  'bu',\n",
       "  'play',\n",
       "  'outsid',\n",
       "  'catch',\n",
       "  'sobu',\n",
       "  'boy',\n",
       "  'howev',\n",
       "  'parent',\n",
       "  'know',\n",
       "  'got',\n",
       "  'hobu',\n",
       "  'late',\n",
       "  'fear',\n",
       "  'scold',\n",
       "  'parent'],\n",
       " 34: ['china', 'win', 'asian', 'olymp', 'gabuss', 'tv'],\n",
       " 35: ['flat',\n",
       "  'sydney',\n",
       "  'rough',\n",
       "  'area',\n",
       "  'hobu',\n",
       "  'flat',\n",
       "  'burgl',\n",
       "  'night',\n",
       "  'way',\n",
       "  'lock',\n",
       "  'door'],\n",
       " 36: ['feel',\n",
       "  'like',\n",
       "  'fish',\n",
       "  'might',\n",
       "  'moder',\n",
       "  'intellig',\n",
       "  'fish',\n",
       "  'ive',\n",
       "  'notic',\n",
       "  'tendenc',\n",
       "  'go',\n",
       "  'corner',\n",
       "  'tank',\n",
       "  'closest',\n",
       "  'contain',\n",
       "  'fish',\n",
       "  'bu',\n",
       "  'stare'],\n",
       " 37: ['realli',\n",
       "  'like',\n",
       "  'good',\n",
       "  'moral',\n",
       "  'nice',\n",
       "  'bu',\n",
       "  'respect',\n",
       "  'like',\n",
       "  'feel',\n",
       "  'like',\n",
       "  'still',\n",
       "  'belong',\n",
       "  'brad',\n",
       "  'couldnt',\n",
       "  'pictur',\n",
       "  'eric',\n",
       "  'he',\n",
       "  'innoc'],\n",
       " 38: ['never', 'seem', 'get', 'good', 'foot', 'feel', 'crappi'],\n",
       " 39: ['im', 'feel', 'sarcast', 'today'],\n",
       " 40: ['feel', 'sweet', 'red', 'leaf'],\n",
       " 41: ['hope',\n",
       "  'weatherman',\n",
       "  'right',\n",
       "  'forecast',\n",
       "  'stay',\n",
       "  'hobu',\n",
       "  'dont',\n",
       "  'ventur',\n",
       "  'rain',\n",
       "  'tomorrow',\n",
       "  'feel',\n",
       "  'kind',\n",
       "  'creativ'],\n",
       " 42: ['feel', 'low', 'alreadi'],\n",
       " 43: ['feel', 'like', 'could', 'gotten', 'apprehens', 'reason'],\n",
       " 44: ['unexpectedli',\n",
       "  'bust',\n",
       "  'girl',\n",
       "  'alway',\n",
       "  'got',\n",
       "  'along',\n",
       "  'well',\n",
       "  'seen',\n",
       "  'sever',\n",
       "  'month'],\n",
       " 45: ['feel', 'dull', 'around'],\n",
       " 46: ['classmat',\n",
       "  'got',\n",
       "  'b',\n",
       "  'hobuswork',\n",
       "  'got',\n",
       "  'c',\n",
       "  'got',\n",
       "  'result',\n",
       "  'act',\n",
       "  'busrit',\n",
       "  'grade',\n",
       "  'found',\n",
       "  'humil',\n",
       "  'hypocrit',\n",
       "  'found',\n",
       "  'disgust'],\n",
       " 47: ['im', 'feel', 'stress'],\n",
       " 48: ['feel',\n",
       "  'bless',\n",
       "  'god',\n",
       "  'given',\n",
       "  'bu',\n",
       "  'wisdom',\n",
       "  'train',\n",
       "  'help',\n",
       "  'part',\n",
       "  'household'],\n",
       " 49: ['feel', 'like', 'much', 'thank'],\n",
       " 50: ['stop', 'run', 'around', 'front', 'tv', 'â\\x80\\x99', 'sit', 'watch'],\n",
       " 51: ['talk',\n",
       "  'good',\n",
       "  'friend',\n",
       "  'bad',\n",
       "  'experi',\n",
       "  'chang',\n",
       "  'whole',\n",
       "  'way',\n",
       "  'look',\n",
       "  'life',\n",
       "  'etc']}"
      ]
     },
     "execution_count": 319,
     "metadata": {},
     "output_type": "execute_result"
    }
   ],
   "source": [
    "#this emotion_Word_dict is used in question 8 \n",
    "description_Word_dict"
   ]
  },
  {
   "cell_type": "code",
   "execution_count": 320,
   "metadata": {},
   "outputs": [],
   "source": [
    "#joining each word in description_Word_dict and append to a emotion_Words_list\n",
    "\n",
    "description_Word_list = []\n",
    "separator = ' '\n",
    "\n",
    "for eachword in description_Word_dict.values():\n",
    "    description_Word_list.append(separator.join(eachword))"
   ]
  },
  {
   "cell_type": "code",
   "execution_count": 321,
   "metadata": {},
   "outputs": [
    {
     "name": "stdout",
     "output_type": "stream",
     "text": [
      "['bu alway crowd', 'bu arriv earlier schelu time therefor passeng confus bu arriv time', 'bu take passeng desir destin schedul time', 'bu mani empti seat could util', 'bu could use better air condit', 'bu accommod user fix addit seat bu crowd rush hour traffic', 'bu arriv time', 'bu driver drive recklessli', 'bu maintain proper condit', 'passeng life danger rush hour traffic passeng travel even foot board', 'bu plenti empti comfort seat passeng travel', 'bu take schedul rout avoid traffic need', 'would conveni driver leav bu station schdule time', 'bu drive well train drive bu adequ speed', 'even public holiday bu arriv time', 'uncomfort travel bu rush hour space', 'bu crowd therefor safe travel prevent diseas spread', 'bu crowd make u prone communic diseas', 'devil gloat privat grief', 'sure everyon u felt feel least sobu u might get agit easili', 'feel useless stupid', 'sound good bu fantast', 'talk close friend', 'im feel good though', 'feel greedi obsess continu sustain growth hinder', 'still feel littl anxiou thought would could get bed night', 'im feel optimist right ill project', 'mad ambit', 'learn danc', 'intox damag sister car minor way sobuson el minor way', 'feel slowli uncoil fear place insid enjoy tibu hope enjoy start actual swim around bit rather walk water', 'one day littl boy friend ask bu play outsid catch sobu boy howev parent know got hobu late fear scold parent', 'china win asian olymp gabuss tv', 'flat sydney rough area hobu flat burgl night way lock door', 'feel like fish might moder intellig fish ive notic tendenc go corner tank closest contain fish bu stare', 'realli like good moral nice bu respect like feel like still belong brad couldnt pictur eric he innoc', 'never seem get good foot feel crappi', 'im feel sarcast today', 'feel sweet red leaf', 'hope weatherman right forecast stay hobu dont ventur rain tomorrow feel kind creativ', 'feel low alreadi', 'feel like could gotten apprehens reason', 'unexpectedli bust girl alway got along well seen sever month', 'feel dull around', 'classmat got b hobuswork got c got result act busrit grade found humil hypocrit found disgust', 'im feel stress', 'feel bless god given bu wisdom train help part household', 'feel like much thank', 'stop run around front tv â\\x80\\x99 sit watch', 'talk good friend bad experi chang whole way look life etc']\n"
     ]
    }
   ],
   "source": [
    "#print the list\n",
    "\n",
    "print(description_Word_list)\n"
   ]
  },
  {
   "cell_type": "markdown",
   "metadata": {},
   "source": [
    "### Vectorize the tokens"
   ]
  },
  {
   "cell_type": "code",
   "execution_count": 322,
   "metadata": {},
   "outputs": [],
   "source": [
    "\n",
    "#import libraries\n",
    "import math as m\n",
    "from sklearn.feature_extraction.text import TfidfVectorizer\n",
    "\n",
    "#create a function called compute_TDIDF and pass the content list(emotion_word_list) \n",
    "def compute_TDIDF(description_Word_list):\n",
    "           \n",
    "    #compute the normalization vector for each term\n",
    "    #create the transform\n",
    "    Vectorize = TfidfVectorizer(analyzer='word',norm='l2')\n",
    "    \n",
    "    #tokenize and build vocabulary\n",
    "    vect = Vectorize.fit_transform(description_Word_list)\n",
    "    \n",
    "    #Returns a list of feature names, ordered by their indices\n",
    "    feature_names = Vectorize.get_feature_names()\n",
    "\n",
    "    #create a matrix\n",
    "    denses = vect.todense()\n",
    "    \n",
    "    #convert matrix to list called dense_List\n",
    "    dense_List = denses.tolist()\n",
    "    \n",
    "    #Create dataframe assign it to variable called TFIDF_dataframe\n",
    "    #calculates the TF and IDF \n",
    "    TFIDF_dataframe = pd.DataFrame(dense_List, columns = feature_names)\n",
    "    \n",
    "    return TFIDF_dataframe"
   ]
  },
  {
   "cell_type": "markdown",
   "metadata": {},
   "source": [
    "## Separate the datasets as Train and Test dataset"
   ]
  },
  {
   "cell_type": "code",
   "execution_count": 329,
   "metadata": {},
   "outputs": [],
   "source": [
    "# Separate dataset into train_x and test_x \n",
    "X_train=df.Description[:38000]\n",
    "X_test=df.Description[38000:]\n",
    "\n",
    "# Separate dataset into train_y and test_y \n",
    "y_train=df.Emotion[:38000]\n",
    "y_test=df.Emotion[38000:]"
   ]
  },
  {
   "cell_type": "code",
   "execution_count": 330,
   "metadata": {},
   "outputs": [
    {
     "data": {
      "text/plain": [
       "<AxesSubplot:ylabel='Emotion'>"
      ]
     },
     "execution_count": 330,
     "metadata": {},
     "output_type": "execute_result"
    },
    {
     "data": {
      "image/png": "[encoded data removed]",
      "text/plain": [
       "<Figure size 432x288 with 1 Axes>"
      ]
     },
     "metadata": {},
     "output_type": "display_data"
    }
   ],
   "source": [
    "# Draw Pie chart using train_y\n",
    "y_train.value_counts().plot(kind='pie',autopct='%1.0f')"
   ]
  },
  {
   "cell_type": "code",
   "execution_count": 331,
   "metadata": {},
   "outputs": [
    {
     "data": {
      "text/plain": [
       "<AxesSubplot:ylabel='Emotion'>"
      ]
     },
     "execution_count": 331,
     "metadata": {},
     "output_type": "execute_result"
    },
    {
     "data": {
      "image/png": "[encoded data removed]",
      "text/plain": [
       "<Figure size 432x288 with 1 Axes>"
      ]
     },
     "metadata": {},
     "output_type": "display_data"
    }
   ],
   "source": [
    "# Draw Pie chart using test_y\n",
    "y_test.value_counts().plot(kind='pie',autopct='%1.0f')"
   ]
  },
  {
   "cell_type": "code",
   "execution_count": 332,
   "metadata": {},
   "outputs": [],
   "source": [
    "X_train=X_train.apply(lambda x: ''.join(i+' ' for i in x))\n",
    "X_test=X_test.apply(lambda x: ''.join(i+' '  for i in x))"
   ]
  },
  {
   "cell_type": "code",
   "execution_count": 333,
   "metadata": {},
   "outputs": [],
   "source": [
    "# Import Libraries\n",
    "from sklearn.feature_extraction.text import CountVectorizer, TfidfTransformer"
   ]
  },
  {
   "cell_type": "code",
   "execution_count": 334,
   "metadata": {},
   "outputs": [
    {
     "name": "stdout",
     "output_type": "stream",
     "text": [
      "(38000, 16569)\n",
      "(4350, 16569)\n"
     ]
    }
   ],
   "source": [
    "#create the transform\n",
    "new_vectorizer = CountVectorizer()\n",
    "\n",
    "# tokenize and build vocabulary\n",
    "new_vectorizer.fit(X_train)\n",
    "\n",
    "# encode document train data\n",
    "X_trained = new_vectorizer.transform(X_train)\n",
    "\n",
    "# Return a tuple representing the dimensionality(NoOfRows,NoOfCols) of the data frame \n",
    "print (X_trained.shape)\n",
    "\n",
    "# encode document test data\n",
    "X_tested = new_vectorizer.transform(X_test)\n",
    "\n",
    "# Return a tuple representing the dimensionality(NoOfRows,NoOfCols) of the data frame \n",
    "print (X_tested.shape)"
   ]
  },
  {
   "cell_type": "code",
   "execution_count": 335,
   "metadata": {},
   "outputs": [
    {
     "name": "stdout",
     "output_type": "stream",
     "text": [
      "(38000, 16569)\n",
      "(4350, 16569)\n"
     ]
    }
   ],
   "source": [
    "#Transform a count matrix to a normalized tf-idf representation\n",
    "get_tfidf = TfidfTransformer()\n",
    "\n",
    "#tokenize and build vocabulary\n",
    "get_tfidf.fit(X_trained)\n",
    "\n",
    "#encode document test data\n",
    "trained_tf_X = get_tfidf.transform(X_trained)\n",
    "\n",
    "# Return a tuple representing the dimensionality(NoOfRows,NoOfCols) of the data frame \n",
    "print (trained_tf_X.shape)\n",
    "\n",
    "#encode document train data\n",
    "testes_tf_X = get_tfidf.transform(X_tested)\n",
    "\n",
    "# Return a tuple representing the dimensionality(NoOfRows,NoOfCols) of the data frame \n",
    "print (testes_tf_X.shape)"
   ]
  },
  {
   "cell_type": "code",
   "execution_count": 336,
   "metadata": {},
   "outputs": [],
   "source": [
    "#Convert series to list\n",
    "train_content_array=X_train.tolist()\n",
    "test_content_arrayr=X_test.tolist()\n",
    "train_emotion_lbl = y_train.tolist()\n",
    "test_emotion_lbl = y_test.tolist()"
   ]
  },
  {
   "cell_type": "markdown",
   "metadata": {},
   "source": [
    "## Machine Learning\n",
    "+ Naive Bayes\n",
    "+ LogisticRegression\n",
    "+ KNN\n",
    "+ DecisionTree\n",
    "+ SVM\n",
    " "
   ]
  },
  {
   "cell_type": "code",
   "execution_count": 337,
   "metadata": {},
   "outputs": [],
   "source": [
    "#Load ML pkgs\n",
    "from sklearn.linear_model import LogisticRegression\n",
    "from sklearn.naive_bayes import MultinomialNB, BernoulliNB, GaussianNB\n",
    "from sklearn.svm import LinearSVC, NuSVC, SVC\n",
    "from sklearn import svm\n",
    "from sklearn.neighbors import KNeighborsClassifier\n",
    "from sklearn.ensemble import RandomForestClassifier\n",
    "\n",
    "# Vectorizer\n",
    "from sklearn.feature_extraction.text import CountVectorizer,TfidfVectorizer\n",
    "\n",
    "# Metrixs\n",
    "from sklearn.metrics import accuracy_score,confusion_matrix,classification_report,plot_confusion_matrix,f1_score"
   ]
  },
  {
   "cell_type": "markdown",
   "metadata": {},
   "source": [
    "## Build Model"
   ]
  },
  {
   "cell_type": "markdown",
   "metadata": {},
   "source": [
    "### Multinomial Naive Bayes"
   ]
  },
  {
   "cell_type": "code",
   "execution_count": 338,
   "metadata": {},
   "outputs": [],
   "source": [
    "#Naive Bayes classifier for multinomial models\n",
    "Multinomial_Naive_Bayes= MultinomialNB()\n",
    "\n",
    "#fitting\n",
    "Multinomial_Naive_Bayes.fit(trained_tf_X, train_emotion_lbl)\n",
    "\n",
    "#Perform classification on an array of ypred\n",
    "#ypred\n",
    "ypred_Multinomial_Naive_Bayes = Multinomial_Naive_Bayes.predict(testes_tf_X)"
   ]
  },
  {
   "cell_type": "code",
   "execution_count": 339,
   "metadata": {},
   "outputs": [
    {
     "name": "stdout",
     "output_type": "stream",
     "text": [
      "First 20 actual Emotion Genres\n"
     ]
    },
    {
     "data": {
      "text/plain": [
       "38000    happy\n",
       "38001    happy\n",
       "38002    anger\n",
       "38003      sad\n",
       "38004    anger\n",
       "38005     fear\n",
       "38006    happy\n",
       "38007      sad\n",
       "38008    anger\n",
       "38009    happy\n",
       "38010      sad\n",
       "38011    happy\n",
       "38012    happy\n",
       "38013      sad\n",
       "38014    happy\n",
       "38015    happy\n",
       "38016    happy\n",
       "38017    anger\n",
       "38018    anger\n",
       "38019     fear\n",
       "Name: Emotion, dtype: object"
      ]
     },
     "execution_count": 339,
     "metadata": {},
     "output_type": "execute_result"
    }
   ],
   "source": [
    "# Test Naive Bayes model using Test Data\n",
    "\n",
    "print(\"First 20 actual Emotion Genres\")\n",
    "y_test[:20]"
   ]
  },
  {
   "cell_type": "code",
   "execution_count": 340,
   "metadata": {},
   "outputs": [
    {
     "name": "stdout",
     "output_type": "stream",
     "text": [
      "first 20 predicted Emotion Genres by Multinomial Naive Bayes Model\n",
      "--------------------------------------\n",
      "happy\n",
      "happy\n",
      "anger\n",
      "sad\n",
      "happy\n",
      "anger\n",
      "happy\n",
      "sad\n",
      "happy\n",
      "happy\n",
      "sad\n",
      "happy\n",
      "happy\n",
      "sad\n",
      "happy\n",
      "happy\n",
      "happy\n",
      "sad\n",
      "happy\n",
      "anger\n"
     ]
    }
   ],
   "source": [
    "print(\"first 20 predicted Emotion Genres by Multinomial Naive Bayes Model\")\n",
    "print('--------------------------------------')\n",
    "\n",
    "#Generate first 20 predicted emotion categories\n",
    "for Emotion_Genres in ypred_Multinomial_Naive_Bayes[:20]:\n",
    "    print(Emotion_Genres)"
   ]
  },
  {
   "cell_type": "code",
   "execution_count": 341,
   "metadata": {},
   "outputs": [
    {
     "name": "stdout",
     "output_type": "stream",
     "text": [
      "              precision    recall  f1-score   support\n",
      "\n",
      "       anger       0.79      0.75      0.77      1063\n",
      "        fear       0.93      0.66      0.78       966\n",
      "       happy       0.69      0.94      0.79      1249\n",
      "         sad       0.84      0.75      0.79      1072\n",
      "\n",
      "    accuracy                           0.78      4350\n",
      "   macro avg       0.81      0.77      0.78      4350\n",
      "weighted avg       0.80      0.78      0.78      4350\n",
      "\n",
      "0.7839080459770115\n"
     ]
    }
   ],
   "source": [
    "# Calculate the confusion matrix and identify the model performance\n",
    "print(classification_report(y_test,ypred_Multinomial_Naive_Bayes))\n",
    "print(accuracy_score(y_test, ypred_Multinomial_Naive_Bayes))"
   ]
  },
  {
   "cell_type": "code",
   "execution_count": 342,
   "metadata": {},
   "outputs": [
    {
     "name": "stdout",
     "output_type": "stream",
     "text": [
      "F1 score of the Multinomial Naive Bayes model\n",
      "0.7839080459770115\n",
      "\n",
      "\n",
      "Multinomial Naive Bayes accuracy score\n",
      "0.7839080459770115\n",
      "\n",
      "\n",
      "Accuracy of the Multinomial Naive Bayes model in percentage\n",
      "78.391 %\n"
     ]
    }
   ],
   "source": [
    "# Function for evaluate of Multinomial Naive Baye model\n",
    "\n",
    "print(\"F1 score of the Multinomial Naive Bayes model\")\n",
    "print(f1_score(y_test,ypred_Multinomial_Naive_Bayes,average='micro'))\n",
    "print(\"\\n\")\n",
    "\n",
    "#Set the accuracy\n",
    "print ('Multinomial Naive Bayes accuracy score')\n",
    "print (accuracy_score(y_test,ypred_Multinomial_Naive_Bayes))\n",
    "print(\"\\n\")\n",
    "\n",
    "#Calculate accuracy as percentage\n",
    "print(\"Accuracy of the Multinomial Naive Bayes model in percentage\")\n",
    "print(round(accuracy_score(y_test,ypred_Multinomial_Naive_Bayes)*100,3),\"%\")\n"
   ]
  },
  {
   "cell_type": "markdown",
   "metadata": {},
   "source": [
    "### Confusion Matrix - Multinomial Naive Baye"
   ]
  },
  {
   "cell_type": "code",
   "execution_count": 151,
   "metadata": {},
   "outputs": [],
   "source": [
    "#Define a method called confusion_mat1\n",
    "def Confusion_Matrix_Multinomial_Naive_Baye(color_code):\n",
    "    \n",
    "    \n",
    "    MN_NB_confusion_matrix=confusion_matrix(y_test, ypred_Multinomial_Naive_Bayes)\n",
    "    \n",
    "    #Create data frame\n",
    "    MN_NB_confusion_matrix=pd.DataFrame(MN_NB_confusion_matrix, \n",
    "                                        index=[i for i in range(1,5)], \n",
    "                                        columns=[i for i in range(1,5)])\n",
    "    #set the font size of the graph\n",
    "    sns.set(font_scale=1.5)\n",
    "    #set the figure size\n",
    "    plt.figure(figsize=(8,8));\n",
    "\n",
    "    # Plot rectangular data as a color-encoded matrix\n",
    "    sns.heatmap(MN_NB_confusion_matrix, cmap=color_code,linewidths=1, \n",
    "                annot=True,square=True, fmt='d', \n",
    "                cbar=False,\n",
    "                xticklabels=['anger', 'fear', 'joy', 'sadness'],\n",
    "                yticklabels=['anger', 'fear', 'joy', 'sadness']);\n",
    "    #set the x axis label\n",
    "    plt.xlabel(\"Predicted Emotion Genres\");\n",
    "    #set the y axis label\n",
    "    plt.ylabel(\"Actual Emotion Genres\");"
   ]
  },
  {
   "cell_type": "code",
   "execution_count": 152,
   "metadata": {},
   "outputs": [
    {
     "data": {
      "image/png": "[encoded data removed]",
      "text/plain": [
       "<Figure size 576x576 with 1 Axes>"
      ]
     },
     "metadata": {},
     "output_type": "display_data"
    }
   ],
   "source": [
    "Confusion_Matrix_Multinomial_Naive_Baye('YlGnBu')"
   ]
  },
  {
   "cell_type": "markdown",
   "metadata": {},
   "source": [
    "### Bernoulli Nave Bayes"
   ]
  },
  {
   "cell_type": "code",
   "execution_count": 153,
   "metadata": {},
   "outputs": [],
   "source": [
    "Bernoulli_Nave_Bayes= BernoulliNB()\n",
    "#fitting\n",
    "Bernoulli_Nave_Bayes.fit(trained_tf_X, train_emotion_lbl)\n",
    "#ypred\n",
    "ypred_Bernoulli_Nave_Bayes = Bernoulli_Nave_Bayes.predict(testes_tf_X)"
   ]
  },
  {
   "cell_type": "code",
   "execution_count": 154,
   "metadata": {},
   "outputs": [
    {
     "name": "stdout",
     "output_type": "stream",
     "text": [
      "first 20 actual Emotion Genres\n"
     ]
    },
    {
     "data": {
      "text/plain": [
       "38000    happy\n",
       "38001    happy\n",
       "38002    anger\n",
       "38003      sad\n",
       "38004    anger\n",
       "38005     fear\n",
       "38006    happy\n",
       "38007      sad\n",
       "38008    anger\n",
       "38009    happy\n",
       "38010      sad\n",
       "38011    happy\n",
       "38012    happy\n",
       "38013      sad\n",
       "38014    happy\n",
       "38015    happy\n",
       "38016    happy\n",
       "38017    anger\n",
       "38018    anger\n",
       "38019     fear\n",
       "Name: Emotion, dtype: object"
      ]
     },
     "execution_count": 154,
     "metadata": {},
     "output_type": "execute_result"
    }
   ],
   "source": [
    "# Test Bernoulli Nave Bayes model using Test Data\n",
    "print(\"first 20 actual Emotion Genres\")\n",
    "y_test[:20]  "
   ]
  },
  {
   "cell_type": "code",
   "execution_count": 155,
   "metadata": {},
   "outputs": [
    {
     "name": "stdout",
     "output_type": "stream",
     "text": [
      "First 20 predicted Emotion Genres by Bernoulli Naive Bayes\n",
      "--------------------------------------\n",
      "sad\n",
      "happy\n",
      "anger\n",
      "sad\n",
      "happy\n",
      "anger\n",
      "happy\n",
      "sad\n",
      "happy\n",
      "happy\n",
      "sad\n",
      "happy\n",
      "happy\n",
      "sad\n",
      "happy\n",
      "anger\n",
      "happy\n",
      "sad\n",
      "happy\n",
      "anger\n"
     ]
    }
   ],
   "source": [
    "print(\"First 20 predicted Emotion Genres by Bernoulli Naive Bayes\")\n",
    "print('--------------------------------------')\n",
    "\n",
    "#Generate first 20 predicted emotion categories\n",
    "for Emotion_Genres in ypred_Bernoulli_Nave_Bayes[:20]:\n",
    "    print(Emotion_Genres)"
   ]
  },
  {
   "cell_type": "code",
   "execution_count": 156,
   "metadata": {},
   "outputs": [
    {
     "name": "stdout",
     "output_type": "stream",
     "text": [
      "              precision    recall  f1-score   support\n",
      "\n",
      "       anger       0.72      0.78      0.75      1063\n",
      "        fear       0.86      0.72      0.78       966\n",
      "       happy       0.78      0.85      0.81      1249\n",
      "         sad       0.79      0.77      0.78      1072\n",
      "\n",
      "    accuracy                           0.78      4350\n",
      "   macro avg       0.79      0.78      0.78      4350\n",
      "weighted avg       0.79      0.78      0.78      4350\n",
      "\n",
      "0.784367816091954\n"
     ]
    }
   ],
   "source": [
    "# Calculate the confusion matrix and identify the model performance\n",
    "print(classification_report(y_test,ypred_Bernoulli_Nave_Bayes))\n",
    "print(accuracy_score(y_test, ypred_Bernoulli_Nave_Bayes))"
   ]
  },
  {
   "cell_type": "code",
   "execution_count": 157,
   "metadata": {},
   "outputs": [
    {
     "name": "stdout",
     "output_type": "stream",
     "text": [
      "F1 score of the Bernoulli Naive Bayes model\n",
      "0.784367816091954\n",
      "\n",
      "\n",
      "Bernoulli Naive Bayes accuracy score\n",
      "0.784367816091954\n",
      "\n",
      "\n",
      "Accuracy of the Bernoulli Naive Bayes model in percentage\n",
      "78.437 %\n"
     ]
    }
   ],
   "source": [
    "# Function for evaluate of Multinomial Naive Baye model\n",
    "\n",
    "print(\"F1 score of the Bernoulli Naive Bayes model\")\n",
    "print(f1_score(y_test,ypred_Bernoulli_Nave_Bayes,average='micro'))\n",
    "print(\"\\n\")\n",
    "\n",
    "#Set the accuracy\n",
    "print ('Bernoulli Naive Bayes accuracy score')\n",
    "print (accuracy_score(y_test,ypred_Bernoulli_Nave_Bayes))\n",
    "print(\"\\n\")\n",
    "\n",
    "#Calculate accuracy as percentage\n",
    "print(\"Accuracy of the Bernoulli Naive Bayes model in percentage\")\n",
    "print(round(accuracy_score(y_test,ypred_Bernoulli_Nave_Bayes)*100,3),\"%\")"
   ]
  },
  {
   "cell_type": "markdown",
   "metadata": {},
   "source": [
    "### Confusion Matrix - Bernoulli Nave Bayes"
   ]
  },
  {
   "cell_type": "code",
   "execution_count": 158,
   "metadata": {},
   "outputs": [],
   "source": [
    "# Define a function called Confusion_Matrix_Bernoulli_Nave_Bayes\n",
    "\n",
    "def Confusion_Matrix_Bernoulli_Nave_Bayes(color_code):\n",
    "    \n",
    "    #set expected value , predicted value and return the confution matrix\n",
    "    Matrix=confusion_matrix(y_test, ypred_Bernoulli_Nave_Bayes)\n",
    "    \n",
    "    #Arrange data as a data frame\n",
    "    Matrix=pd.DataFrame(Matrix, index=[i for i in range(1,5)], \n",
    "                        columns=[i for i in range(1,5)])\n",
    "    \n",
    "    #set the fon size\n",
    "    sns.set(font_scale=1.5)\n",
    "    \n",
    "    #set the figure size\n",
    "    plt.figure(figsize=(8,8));\n",
    "\n",
    "    \n",
    "    #set two-dimensional graphical representation according to colours\n",
    "    # Plot rectangular data as a color-encoded matrix\n",
    "    sns.heatmap(Matrix, cmap=color_code,linewidths=1, \n",
    "                annot=True,square=True, fmt='d', \n",
    "                cbar=False,\n",
    "                xticklabels=['anger', 'fear', 'joy', 'sadness'],\n",
    "                yticklabels=['anger', 'fear', 'love', 'sadness']);\n",
    "    #x axis\n",
    "    plt.xlabel(\"Predicted Emotion Genres\");\n",
    "    \n",
    "    #y axis\n",
    "    plt.ylabel(\"Actual Emotion Genres\");"
   ]
  },
  {
   "cell_type": "code",
   "execution_count": 159,
   "metadata": {},
   "outputs": [
    {
     "data": {
      "image/png": "[encoded data removed]",
      "text/plain": [
       "<Figure size 576x576 with 1 Axes>"
      ]
     },
     "metadata": {},
     "output_type": "display_data"
    }
   ],
   "source": [
    "#Call the function\n",
    "Confusion_Matrix_Bernoulli_Nave_Bayes('YlOrBr')"
   ]
  },
  {
   "cell_type": "markdown",
   "metadata": {},
   "source": [
    "### Support Vector machine - Linear"
   ]
  },
  {
   "cell_type": "code",
   "execution_count": 160,
   "metadata": {},
   "outputs": [],
   "source": [
    "#trian model uisng support vector machine\n",
    "support_vector_machine = svm.SVC(kernel='linear',probability=True)\n",
    "\n",
    "support_vector_machine.fit(trained_tf_X, train_emotion_lbl)\n",
    "#ypred\n",
    "ypred_support_vector_machine = support_vector_machine.predict(testes_tf_X)"
   ]
  },
  {
   "cell_type": "code",
   "execution_count": 161,
   "metadata": {},
   "outputs": [
    {
     "name": "stdout",
     "output_type": "stream",
     "text": [
      "Actual Emotion Genres from Row 50 -70\n"
     ]
    },
    {
     "data": {
      "text/plain": [
       "38050     fear\n",
       "38051      sad\n",
       "38052    happy\n",
       "38053      sad\n",
       "38054    anger\n",
       "38055    anger\n",
       "38056    happy\n",
       "38057    happy\n",
       "38058    anger\n",
       "38059    happy\n",
       "38060    anger\n",
       "38061    happy\n",
       "38062     fear\n",
       "38063     fear\n",
       "38064    happy\n",
       "38065      sad\n",
       "38066    happy\n",
       "38067    happy\n",
       "38068      sad\n",
       "38069      sad\n",
       "Name: Emotion, dtype: object"
      ]
     },
     "execution_count": 161,
     "metadata": {},
     "output_type": "execute_result"
    }
   ],
   "source": [
    "# Test svm model using Test Data\n",
    "# Display Actual Emotion Genres from Row 50 to 70\n",
    "print(\"Actual Emotion Genres from Row 50 -70\")\n",
    "y_test[50:70]  "
   ]
  },
  {
   "cell_type": "code",
   "execution_count": 162,
   "metadata": {},
   "outputs": [
    {
     "name": "stdout",
     "output_type": "stream",
     "text": [
      "Actual Emotion Genres from Row 50 -70\n",
      "--------------------------------------\n",
      "fear\n",
      "sad\n",
      "happy\n",
      "happy\n",
      "anger\n",
      "anger\n",
      "happy\n",
      "happy\n",
      "anger\n",
      "anger\n",
      "anger\n",
      "happy\n",
      "fear\n",
      "sad\n",
      "happy\n",
      "sad\n",
      "happy\n",
      "happy\n",
      "sad\n",
      "sad\n"
     ]
    }
   ],
   "source": [
    "# Display Actual Emotion Genres from Row 50 to 70\n",
    "print(\"Actual Emotion Genres from Row 50 -70\")\n",
    "print('--------------------------------------')\n",
    "for i in ypred_support_vector_machine[50:70]:\n",
    "    print(i)"
   ]
  },
  {
   "cell_type": "code",
   "execution_count": 163,
   "metadata": {},
   "outputs": [
    {
     "name": "stdout",
     "output_type": "stream",
     "text": [
      "              precision    recall  f1-score   support\n",
      "\n",
      "       anger       0.81      0.88      0.84      1063\n",
      "        fear       0.88      0.82      0.85       966\n",
      "       happy       0.87      0.91      0.89      1249\n",
      "         sad       0.89      0.82      0.85      1072\n",
      "\n",
      "    accuracy                           0.86      4350\n",
      "   macro avg       0.86      0.86      0.86      4350\n",
      "weighted avg       0.86      0.86      0.86      4350\n",
      "\n",
      "0.8597701149425288\n"
     ]
    }
   ],
   "source": [
    "# Calculate the confusion matrix and identify the model performance\n",
    "print(classification_report(y_test,ypred_support_vector_machine))\n",
    "print(accuracy_score(y_test, ypred_support_vector_machine))"
   ]
  },
  {
   "cell_type": "code",
   "execution_count": 164,
   "metadata": {},
   "outputs": [
    {
     "name": "stdout",
     "output_type": "stream",
     "text": [
      "F1 score of the Linear SVM model\n",
      "0.8597701149425288\n",
      "\n",
      "\n",
      "Linear Svm accuracy score\n",
      "0.8597701149425288\n",
      "\n",
      "\n",
      "Accuracy of the Linear SVM model in percentage\n",
      "85.977 %\n"
     ]
    }
   ],
   "source": [
    "# Function for evaluate of SVM model\n",
    "\n",
    "print(\"F1 score of the Linear SVM model\")\n",
    "print(f1_score(y_test,ypred_support_vector_machine,average='micro'))\n",
    "print(\"\\n\")\n",
    "\n",
    "\n",
    "print ('Linear Svm accuracy score')\n",
    "print (accuracy_score(y_test, ypred_support_vector_machine))\n",
    "print(\"\\n\")\n",
    "\n",
    "# Accuracy classification score in percentage.\n",
    "print(\"Accuracy of the Linear SVM model in percentage\")\n",
    "print(round(accuracy_score(y_test,ypred_support_vector_machine)*100,3),\"%\")"
   ]
  },
  {
   "cell_type": "markdown",
   "metadata": {},
   "source": [
    "### Confusion Matrix - Linear SVM"
   ]
  },
  {
   "cell_type": "code",
   "execution_count": 165,
   "metadata": {},
   "outputs": [],
   "source": [
    "# Define a function called Confusion_Matrix_Linear_SVM\n",
    "def Confusion_Matrix_Linear_SVM(color_code):\n",
    "    \n",
    "    # Create confusion matrix\n",
    "    # Compute confusion matrix to evaluate the accuracy of a classification.\n",
    "    Confusion_Matrix_SVM=confusion_matrix(y_test, ypred_support_vector_machine)\n",
    "    \n",
    "    # Arrange as a data frame\n",
    "    Confusion_Matrix_SVM=pd.DataFrame(Confusion_Matrix_SVM, \n",
    "                                      index=[i for i in range(1,5)], \n",
    "                                      columns=[i for i in range(1,5)])\n",
    "    \n",
    "    # Set the font size\n",
    "    sns.set(font_scale=1.5)\n",
    "    \n",
    "    # Set the figure size\n",
    "    plt.figure(figsize=(8,8));\n",
    "    \n",
    "    # Plot rectangular data as a color-encoded matrix\n",
    "    sns.heatmap(Confusion_Matrix_SVM, cmap=color_code,linewidths=1, \n",
    "                annot=True,square=True, fmt='d', \n",
    "                cbar=False,\n",
    "                xticklabels=['anger', 'fear', 'joy', 'sadness'],\n",
    "                yticklabels=['anger', 'fear', 'joy', 'sadness']);\n",
    "    \n",
    "    # x-axis\n",
    "    plt.xlabel(\"Predicted Emotion Genres\");\n",
    "    # y-axis\n",
    "    plt.ylabel(\"Actual Emotion Genres\");\n"
   ]
  },
  {
   "cell_type": "code",
   "execution_count": 166,
   "metadata": {},
   "outputs": [
    {
     "data": {
      "image/png": "[encoded data removed]",
      "text/plain": [
       "<Figure size 576x576 with 1 Axes>"
      ]
     },
     "metadata": {},
     "output_type": "display_data"
    }
   ],
   "source": [
    "# Call to Confusion_Matrix_Linear_SVM Function\n",
    "Confusion_Matrix_Linear_SVM('Reds')"
   ]
  },
  {
   "cell_type": "markdown",
   "metadata": {},
   "source": [
    "### K Nearest Neighbor - Uniform"
   ]
  },
  {
   "cell_type": "code",
   "execution_count": 167,
   "metadata": {},
   "outputs": [],
   "source": [
    "# Define knn parameters\n",
    "Uniform_KNN = KNeighborsClassifier(n_neighbors=5, weights = 'uniform')\n",
    "\n",
    "#fitting\n",
    "Uniform_KNN.fit(trained_tf_X, train_emotion_lbl)\n",
    "\n",
    "#ypred\n",
    "ypred_Uniform_KNN = Uniform_KNN.predict(testes_tf_X)"
   ]
  },
  {
   "cell_type": "code",
   "execution_count": 168,
   "metadata": {},
   "outputs": [
    {
     "name": "stdout",
     "output_type": "stream",
     "text": [
      "Actual Emotion Genres from Row 1100 - 1120\n"
     ]
    },
    {
     "data": {
      "text/plain": [
       "39100     fear\n",
       "39101     fear\n",
       "39102      sad\n",
       "39103      sad\n",
       "39104    happy\n",
       "39105    happy\n",
       "39106      sad\n",
       "39107     fear\n",
       "39108    anger\n",
       "39109    anger\n",
       "39110    anger\n",
       "39111    anger\n",
       "39112    anger\n",
       "39113      sad\n",
       "39114    happy\n",
       "39115     fear\n",
       "39116    happy\n",
       "39117    happy\n",
       "39118     fear\n",
       "39119     fear\n",
       "Name: Emotion, dtype: object"
      ]
     },
     "execution_count": 168,
     "metadata": {},
     "output_type": "execute_result"
    }
   ],
   "source": [
    "# Test Uniform KNN model using Test Data\n",
    "print(\"Actual Emotion Genres from Row 1100 - 1120\")\n",
    "y_test[1100:1120] "
   ]
  },
  {
   "cell_type": "code",
   "execution_count": 169,
   "metadata": {},
   "outputs": [
    {
     "name": "stdout",
     "output_type": "stream",
     "text": [
      "predicted Emotion Genre for Row 1100 - 1120\n",
      "--------------------------------------\n",
      "anger\n",
      "happy\n",
      "happy\n",
      "anger\n",
      "happy\n",
      "happy\n",
      "anger\n",
      "anger\n",
      "happy\n",
      "anger\n",
      "anger\n",
      "anger\n",
      "anger\n",
      "sad\n",
      "happy\n",
      "fear\n",
      "anger\n",
      "happy\n",
      "fear\n",
      "anger\n"
     ]
    }
   ],
   "source": [
    "print(\"predicted Emotion Genre for Row 1100 - 1120\")\n",
    "print('--------------------------------------')\n",
    "\n",
    "for Emotion_Genre in ypred_Uniform_KNN[1100:1120]:\n",
    "    print(Emotion_Genre)\n",
    "    "
   ]
  },
  {
   "cell_type": "code",
   "execution_count": 170,
   "metadata": {},
   "outputs": [
    {
     "name": "stdout",
     "output_type": "stream",
     "text": [
      "              precision    recall  f1-score   support\n",
      "\n",
      "       anger       0.43      0.90      0.58      1063\n",
      "        fear       0.95      0.37      0.53       966\n",
      "       happy       0.69      0.69      0.69      1249\n",
      "         sad       0.90      0.41      0.57      1072\n",
      "\n",
      "    accuracy                           0.60      4350\n",
      "   macro avg       0.74      0.59      0.59      4350\n",
      "weighted avg       0.74      0.60      0.60      4350\n",
      "\n",
      "0.6032183908045977\n"
     ]
    }
   ],
   "source": [
    "# Calculate the confusion matrix and identify the model performance\n",
    "print(classification_report(y_test,ypred_Uniform_KNN))\n",
    "print(accuracy_score(y_test, ypred_Uniform_KNN))"
   ]
  },
  {
   "cell_type": "code",
   "execution_count": 171,
   "metadata": {},
   "outputs": [
    {
     "name": "stdout",
     "output_type": "stream",
     "text": [
      "F1 score of the Uniform KNN model\n",
      "0.6032183908045977\n",
      "\n",
      "\n",
      "Uniform KNN accuracy score\n",
      "0.6032183908045977\n",
      "\n",
      "\n",
      "Accuracy of the Uniform KNN model in percentage\n",
      "60.322 %\n"
     ]
    }
   ],
   "source": [
    "# Function for evaluate of Uniform KNN model\n",
    "\n",
    "print(\"F1 score of the Uniform KNN model\")\n",
    "print(f1_score(y_test,ypred_Uniform_KNN,average='micro'))\n",
    "print(\"\\n\")\n",
    "\n",
    "\n",
    "print ('Uniform KNN accuracy score')\n",
    "print (accuracy_score(y_test, ypred_Uniform_KNN))\n",
    "print(\"\\n\")\n",
    "\n",
    "# Accuracy classification score in percentage.\n",
    "print(\"Accuracy of the Uniform KNN model in percentage\")\n",
    "print(round(accuracy_score(y_test,ypred_Uniform_KNN)*100,3),\"%\")"
   ]
  },
  {
   "cell_type": "markdown",
   "metadata": {},
   "source": [
    "### Confusion Matrix - Uniform KNN"
   ]
  },
  {
   "cell_type": "code",
   "execution_count": 172,
   "metadata": {},
   "outputs": [],
   "source": [
    "#Define a function called Confusion_Matrix_Uniform_KNN\n",
    "\n",
    "def Confusion_Matrix_Uniform_KNN(color_code):\n",
    "    \n",
    "    \n",
    "    #Set the expected, predicted values as returns confusion matrix\n",
    "    Matrix=confusion_matrix(y_test, ypred_Uniform_KNN)\n",
    "    \n",
    "    #Arrange Matrix as a data frame\n",
    "    Matrix=pd.DataFrame(Matrix, index=[i for i in range(1,5)], columns=[i for i in range(1,5)])\n",
    "    \n",
    "    #set the font size\n",
    "    sns.set(font_scale=1.5)\n",
    "    \n",
    "    #set the figure size\n",
    "    plt.figure(figsize=(8,8));\n",
    "\n",
    "    \n",
    "    #set two-dimensional graphical representation according to colours\n",
    "    sns.heatmap(Matrix, cmap=color_code,linewidths=1, annot=True,square=True, fmt='d', cbar=False,xticklabels=['anger', 'fear', 'joy', 'sadness'],yticklabels=['anger', 'fear', 'joy', 'sadness']);\n",
    "    plt.xlabel(\"Predicted Emotion Genres\");\n",
    "    plt.ylabel(\"Actual Emotion Genres\");"
   ]
  },
  {
   "cell_type": "code",
   "execution_count": 173,
   "metadata": {},
   "outputs": [
    {
     "data": {
      "image/png": "[encoded data removed]",
      "text/plain": [
       "<Figure size 576x576 with 1 Axes>"
      ]
     },
     "metadata": {},
     "output_type": "display_data"
    }
   ],
   "source": [
    "#call the function\n",
    "Confusion_Matrix_Uniform_KNN('Greens')"
   ]
  },
  {
   "cell_type": "markdown",
   "metadata": {},
   "source": [
    "### Distant KNN"
   ]
  },
  {
   "cell_type": "code",
   "execution_count": 175,
   "metadata": {},
   "outputs": [
    {
     "name": "stdout",
     "output_type": "stream",
     "text": [
      "Actual Emotion Genres from Row 1200 - 1220\n"
     ]
    },
    {
     "data": {
      "text/plain": [
       "39200    happy\n",
       "39201    anger\n",
       "39202      sad\n",
       "39203      sad\n",
       "39204    anger\n",
       "39205    anger\n",
       "39206    anger\n",
       "39207     fear\n",
       "39208     fear\n",
       "39209     fear\n",
       "39210      sad\n",
       "39211    anger\n",
       "39212    happy\n",
       "39213    happy\n",
       "39214    anger\n",
       "39215     fear\n",
       "39216    anger\n",
       "39217     fear\n",
       "39218    happy\n",
       "39219    anger\n",
       "Name: Emotion, dtype: object"
      ]
     },
     "execution_count": 175,
     "metadata": {},
     "output_type": "execute_result"
    }
   ],
   "source": [
    "print(\"Actual Emotion Genres from Row 1200 - 1220\")\n",
    "y_test[1200:1220]  "
   ]
  },
  {
   "cell_type": "code",
   "execution_count": 174,
   "metadata": {},
   "outputs": [],
   "source": [
    "# distance:- weight points by the inverse of their distance. in this case, closer neighbors of a query point will have a greater influence than neighbors which are further away.\n",
    "Distant_KNN = KNeighborsClassifier(n_neighbors=5, weights = 'distance')\n",
    "\n",
    "#fitting\n",
    "Distant_KNN.fit(trained_tf_X, train_emotion_lbl)\n",
    "\n",
    "#ypred\n",
    "ypred_Distant_KNN1 = Distant_KNN.predict(testes_tf_X)"
   ]
  },
  {
   "cell_type": "code",
   "execution_count": 177,
   "metadata": {},
   "outputs": [
    {
     "name": "stdout",
     "output_type": "stream",
     "text": [
      "              precision    recall  f1-score   support\n",
      "\n",
      "       anger       0.77      0.96      0.86      1063\n",
      "        fear       1.00      0.89      0.94       966\n",
      "       happy       0.92      0.88      0.90      1249\n",
      "         sad       0.98      0.88      0.93      1072\n",
      "\n",
      "    accuracy                           0.90      4350\n",
      "   macro avg       0.92      0.90      0.91      4350\n",
      "weighted avg       0.92      0.90      0.90      4350\n",
      "\n",
      "0.9027586206896552\n"
     ]
    }
   ],
   "source": [
    "# Calculate the confusion matrix and identify the model performance\n",
    "print(classification_report(y_test,ypred_Distant_KNN1))\n",
    "print(accuracy_score(y_test, ypred_Distant_KNN1))"
   ]
  },
  {
   "cell_type": "code",
   "execution_count": 176,
   "metadata": {},
   "outputs": [
    {
     "name": "stdout",
     "output_type": "stream",
     "text": [
      "Actual Emotion Genres from Row 1200 - 1220\n",
      "--------------------------------------\n",
      "anger\n",
      "anger\n",
      "sad\n",
      "sad\n",
      "anger\n",
      "anger\n",
      "anger\n",
      "fear\n",
      "fear\n",
      "fear\n",
      "sad\n",
      "anger\n",
      "happy\n",
      "happy\n",
      "anger\n",
      "fear\n",
      "anger\n",
      "fear\n",
      "happy\n",
      "anger\n"
     ]
    }
   ],
   "source": [
    "print(\"Actual Emotion Genres from Row 1200 - 1220\")\n",
    "print('--------------------------------------')\n",
    "for i in ypred_Distant_KNN1[1200:1220]:\n",
    "    print(i)\n",
    "    "
   ]
  },
  {
   "cell_type": "code",
   "execution_count": 178,
   "metadata": {},
   "outputs": [
    {
     "name": "stdout",
     "output_type": "stream",
     "text": [
      "F1 score of the Distant KNN model\n",
      "0.9027586206896552\n",
      "\n",
      "\n",
      "Distant KNN accuracy score\n",
      "0.9027586206896552\n",
      "\n",
      "\n",
      "Accuracy of the Distant KNN model in percentage\n",
      "90.276 %\n"
     ]
    }
   ],
   "source": [
    "# Function for evaluate of Distant KNN model\n",
    "\n",
    "print(\"F1 score of the Distant KNN model\")\n",
    "print(f1_score(y_test,ypred_Distant_KNN1,average='micro'))\n",
    "print(\"\\n\")\n",
    "\n",
    "\n",
    "print ('Distant KNN accuracy score')\n",
    "print (accuracy_score(y_test, ypred_Distant_KNN1))\n",
    "print(\"\\n\")\n",
    "\n",
    "# Accuracy classification score in percentage.\n",
    "print(\"Accuracy of the Distant KNN model in percentage\")\n",
    "print(round(accuracy_score(y_test,ypred_Distant_KNN1)*100,3),\"%\")"
   ]
  },
  {
   "cell_type": "markdown",
   "metadata": {},
   "source": [
    "### Confusion Matrix - Distant KNN"
   ]
  },
  {
   "cell_type": "code",
   "execution_count": 179,
   "metadata": {},
   "outputs": [],
   "source": [
    "#Define a function called confusion_mat5\n",
    "def Confusion_Matrix_Distant_KNN(color_code):\n",
    "    confusion_matrix_DKNN=confusion_matrix(y_test, ypred_Distant_KNN1)\n",
    "    \n",
    "    confusion_matrix_DKNN=pd.DataFrame(confusion_matrix_DKNN, index=[i for i in range(1,5)], columns=[i for i in range(1,5)])\n",
    "    sns.set(font_scale=1.5)\n",
    "    plt.figure(figsize=(8,8));\n",
    "    \n",
    "    # Plot rectangular data as a color-encoded matrix\n",
    "    sns.heatmap(confusion_matrix_DKNN, cmap=color_code,linewidths=1, annot=True,square=True, fmt='d', cbar=False,xticklabels=['anger', 'fear', 'joy', 'sadness'],yticklabels=['anger', 'fear', 'joy', 'sadness']);\n",
    "    plt.xlabel(\"Predicted Emotion Genres\");\n",
    "    plt.ylabel(\"Actual Emotion Genres\");"
   ]
  },
  {
   "cell_type": "code",
   "execution_count": 180,
   "metadata": {},
   "outputs": [
    {
     "data": {
      "image/png": "[encoded data removed]",
      "text/plain": [
       "<Figure size 576x576 with 1 Axes>"
      ]
     },
     "metadata": {},
     "output_type": "display_data"
    }
   ],
   "source": [
    "Confusion_Matrix_Distant_KNN('Blues')"
   ]
  },
  {
   "cell_type": "markdown",
   "metadata": {},
   "source": [
    "# hyperparameter optimization KNN Distance"
   ]
  },
  {
   "cell_type": "code",
   "execution_count": 181,
   "metadata": {},
   "outputs": [],
   "source": [
    "#create empty list call empty\n",
    "error=[]\n",
    "\n",
    "for i in range(1,100):\n",
    "   \n",
    "    knn_Distant = KNeighborsClassifier(n_neighbors=i, weights = 'distance')\n",
    "    \n",
    "    #fitting\n",
    "    knn_Distant.fit(trained_tf_X, train_emotion_lbl)\n",
    "    \n",
    "    #ypred\n",
    "    \n",
    "    ypred_Distant_KNN = knn_Distant.predict(testes_tf_X)\n",
    "\n",
    "    #Append mean value\n",
    "    error.append(np.mean(ypred_Distant_KNN != test_emotion_lbl))"
   ]
  },
  {
   "cell_type": "code",
   "execution_count": 182,
   "metadata": {},
   "outputs": [
    {
     "name": "stdout",
     "output_type": "stream",
     "text": [
      "[0.09034482758620689, 0.08919540229885058, 0.08827586206896551, 0.09655172413793103, 0.09724137931034482, 0.09724137931034482, 0.09977011494252873, 0.10091954022988506, 0.10252873563218391, 0.10620689655172413, 0.10344827586206896, 0.10942528735632184, 0.11172413793103449, 0.11241379310344828, 0.11632183908045977, 0.11218390804597701, 0.0967816091954023, 0.09011494252873563, 0.08459770114942529, 0.07655172413793103, 0.07103448275862069, 0.06942528735632184, 0.06436781609195402, 0.06091954022988506, 0.06022988505747127, 0.05954022988505747, 0.05931034482758621, 0.05839080459770115, 0.058850574712643676, 0.05839080459770115, 0.058850574712643676, 0.05954022988505747, 0.05839080459770115, 0.05862068965517241, 0.05724137931034483, 0.05816091954022989, 0.057701149425287354, 0.057011494252873565, 0.05379310344827586, 0.05471264367816092, 0.05471264367816092, 0.05563218390804598, 0.05540229885057471, 0.05540229885057471, 0.054942528735632185, 0.05540229885057471, 0.05310344827586207, 0.05333333333333334, 0.052873563218390804, 0.052873563218390804, 0.05310344827586207, 0.052873563218390804, 0.052873563218390804, 0.05241379310344828, 0.051954022988505745, 0.05310344827586207, 0.05264367816091954, 0.052873563218390804, 0.05448275862068966, 0.05310344827586207, 0.054022988505747126, 0.05241379310344828, 0.05310344827586207, 0.052873563218390804, 0.05264367816091954, 0.05264367816091954, 0.052183908045977015, 0.051954022988505745, 0.051954022988505745, 0.05172413793103448, 0.05241379310344828, 0.05264367816091954, 0.05103448275862069, 0.051954022988505745, 0.052183908045977015, 0.05264367816091954, 0.05310344827586207, 0.05379310344827586, 0.05379310344827586, 0.05333333333333334, 0.05310344827586207, 0.05149425287356322, 0.052183908045977015, 0.05241379310344828, 0.05333333333333334, 0.0535632183908046, 0.05333333333333334, 0.05264367816091954, 0.05333333333333334, 0.052873563218390804, 0.0535632183908046, 0.05379310344827586, 0.0535632183908046, 0.05310344827586207, 0.052873563218390804, 0.05264367816091954, 0.05264367816091954, 0.05333333333333334, 0.054022988505747126]\n"
     ]
    }
   ],
   "source": [
    "print(error)"
   ]
  },
  {
   "cell_type": "code",
   "execution_count": 183,
   "metadata": {},
   "outputs": [
    {
     "data": {
      "text/plain": [
       "Text(0, 0.5, 'Mean Error')"
      ]
     },
     "execution_count": 183,
     "metadata": {},
     "output_type": "execute_result"
    },
    {
     "data": {
      "image/png": "[encoded data removed]",
      "text/plain": [
       "<Figure size 864x432 with 1 Axes>"
      ]
     },
     "metadata": {},
     "output_type": "display_data"
    }
   ],
   "source": [
    "# Setting the width and height of the figure in inches\n",
    "plt.figure(figsize=(12,6))\n",
    "# Plot a Line graph of the error rate\n",
    "plt.plot(range(1,100),error,color='blue',linestyle='dashed',marker='o',markerfacecolor='red',markersize=5)\n",
    "# Title of graph\n",
    "plt.title('Error Rate K Value from Distant KNN')\n",
    "# X axis\n",
    "plt.xlabel('K Value')\n",
    "# Y axis\n",
    "plt.ylabel('Mean Error')"
   ]
  },
  {
   "cell_type": "code",
   "execution_count": 343,
   "metadata": {},
   "outputs": [],
   "source": [
    "# Classifier implementing the k-nearest neighbors vote\n",
    "# n_neighbors:- Number of neighbors to use by default for kneighbors queries.\n",
    "Distant_KNN_Best = KNeighborsClassifier(n_neighbors=56, weights = 'distance')\n",
    "#fitting\n",
    "Distant_KNN_Best.fit(trained_tf_X, train_emotion_lbl)\n",
    "#ypred\n",
    "ypred_knn_Distant_best  = Distant_KNN_Best.predict(testes_tf_X)"
   ]
  },
  {
   "cell_type": "code",
   "execution_count": 344,
   "metadata": {},
   "outputs": [
    {
     "name": "stdout",
     "output_type": "stream",
     "text": [
      "              precision    recall  f1-score   support\n",
      "\n",
      "       anger       0.95      0.95      0.95      1063\n",
      "        fear       1.00      0.91      0.95       966\n",
      "       happy       0.90      0.98      0.94      1249\n",
      "         sad       0.96      0.94      0.95      1072\n",
      "\n",
      "    accuracy                           0.95      4350\n",
      "   macro avg       0.95      0.94      0.95      4350\n",
      "weighted avg       0.95      0.95      0.95      4350\n",
      "\n",
      "0.9471264367816092\n"
     ]
    }
   ],
   "source": [
    "print(classification_report(test_emotion_lbl,ypred_knn_Distant_best))\n",
    "print(accuracy_score(y_test, ypred_knn_Distant_best))"
   ]
  },
  {
   "cell_type": "code",
   "execution_count": 345,
   "metadata": {},
   "outputs": [
    {
     "name": "stdout",
     "output_type": "stream",
     "text": [
      "F1 score of the Distant KNN model\n",
      "0.9471264367816092\n",
      "\n",
      "\n",
      "Distant KNN accuracy score\n",
      "0.9471264367816092\n",
      "\n",
      "\n",
      "Accuracy of the Distant KNN model in percentage\n",
      "94.713 %\n"
     ]
    }
   ],
   "source": [
    "# Function for evaluate of Distant KNN model\n",
    "\n",
    "print(\"F1 score of the Distant KNN model\")\n",
    "print(f1_score(y_test,ypred_knn_Distant_best,average='micro'))\n",
    "print(\"\\n\")\n",
    "\n",
    "\n",
    "print ('Distant KNN accuracy score')\n",
    "print (accuracy_score(y_test, ypred_knn_Distant_best))\n",
    "print(\"\\n\")\n",
    "\n",
    "# Accuracy classification score in percentage.\n",
    "print(\"Accuracy of the Distant KNN model in percentage\")\n",
    "print(round(accuracy_score(y_test,ypred_knn_Distant_best)*100,3),\"%\")"
   ]
  },
  {
   "cell_type": "code",
   "execution_count": 346,
   "metadata": {},
   "outputs": [],
   "source": [
    "#Define a function called confusion_mat5\n",
    "def Confusion_Matrix_Distant_KNN(color_code):\n",
    "    confusion_matrix_DKNN=confusion_matrix(y_test, ypred_knn_Distant_best)\n",
    "    \n",
    "    confusion_matrix_DKNN=pd.DataFrame(confusion_matrix_DKNN, index=[i for i in range(1,5)], columns=[i for i in range(1,5)])\n",
    "    sns.set(font_scale=1.5)\n",
    "    plt.figure(figsize=(8,8));\n",
    "    \n",
    "    # Plot rectangular data as a color-encoded matrix\n",
    "    sns.heatmap(confusion_matrix_DKNN, cmap=color_code,linewidths=1, annot=True,square=True, fmt='d', cbar=False,xticklabels=['anger', 'fear', 'joy', 'sadness'],yticklabels=['anger', 'fear', 'joy', 'sadness']);\n",
    "    plt.xlabel(\"Predicted Emotion \");\n",
    "    plt.ylabel(\"Actual Emotion \");"
   ]
  },
  {
   "cell_type": "code",
   "execution_count": 347,
   "metadata": {},
   "outputs": [
    {
     "data": {
      "image/png": "[encoded data removed]",
      "text/plain": [
       "<Figure size 576x576 with 1 Axes>"
      ]
     },
     "metadata": {},
     "output_type": "display_data"
    }
   ],
   "source": [
    "Confusion_Matrix_Distant_KNN('Blues')"
   ]
  },
  {
   "cell_type": "markdown",
   "metadata": {},
   "source": [
    "### Compare Accuracies"
   ]
  },
  {
   "cell_type": "code",
   "execution_count": 189,
   "metadata": {},
   "outputs": [],
   "source": [
    "#Accuracy classification score\n",
    "Nb1=round(accuracy_score(y_test,ypred_Multinomial_Naive_Bayes)*100,3)\n",
    "Nb2 = round(accuracy_score(test_emotion_lbl,ypred_Bernoulli_Nave_Bayes)*100,3)\n",
    "svm1 = round(accuracy_score(test_emotion_lbl,ypred_support_vector_machine)*100,3)\n",
    "knn1 = round(accuracy_score(test_emotion_lbl,ypred_Uniform_KNN)*100,3)\n",
    "knn2= round(accuracy_score(test_emotion_lbl,ypred_Distant_KNN1)*100,3)\n",
    "knn3= round(accuracy_score(test_emotion_lbl,ypred_knn_Distant_best)*100,3)"
   ]
  },
  {
   "cell_type": "code",
   "execution_count": 192,
   "metadata": {},
   "outputs": [
    {
     "data": {
      "image/png": "[encoded data removed]",
      "text/plain": [
       "<Figure size 432x288 with 1 Axes>"
      ]
     },
     "metadata": {},
     "output_type": "display_data"
    }
   ],
   "source": [
    "sns.set()\n",
    "fig = plt.figure()\n",
    "ax = fig.add_axes([0,0,1,1])\n",
    "Models = ['Multinomial NB', 'Bernoulli NB', 'SVM', 'KNN-U','KNN-D','Tuned KNN-D']\n",
    "Accuracy=[Nb1,Nb2,svm1,knn1,knn2,knn3]\n",
    "#Define colours to bars\n",
    "ax.bar(Models,Accuracy,color=['#B45F04','#FF8000','#58FA58','#FE2E64','#FA5882','#1e90ff' ]);\n",
    "for i in ax.patches:\n",
    "    ax.text(i.get_x()+.1, i.get_height()-5.5, str(round(i.get_height(),2))+'%', fontsize=15, color='black')\n",
    "plt.title('Comparison of Different Classification Models');\n",
    "plt.ylabel('Accuracy');\n",
    "plt.xlabel('Classification Models');\n",
    "plt.show();"
   ]
  },
  {
   "cell_type": "code",
   "execution_count": 348,
   "metadata": {},
   "outputs": [
    {
     "name": "stdout",
     "output_type": "stream",
     "text": [
      "predicted class: happy\n"
     ]
    }
   ],
   "source": [
    "import pickle\n",
    "\n",
    "pickle.dump(Distant_KNN_Best, open(\"emo_KNN_Distant_model.pickle\", 'wb'))\n",
    "pickle.dump(new_vectorizer, open(\"emo_knn_vectorizer.pickle\", \"wb\"))\n",
    "\n",
    "vectorizer = pickle.load(open(\"emo_knn_vectorizer.pickle\",'rb'))\n",
    "model = pickle.load(open(\"emo_KNN_Distant_model.pickle\",'rb'))\n",
    "pred = model.predict(vectorizer.transform([\"i have got a new phone. its from Apple.. and i love it!\"]))[0]\n",
    "print (\"predicted class:\", pred)"
   ]
  },
  {
   "cell_type": "markdown",
   "metadata": {},
   "source": [
    "## Emotion detector build by this analayes"
   ]
  },
  {
   "cell_type": "code",
   "execution_count": 370,
   "metadata": {},
   "outputs": [
    {
     "name": "stderr",
     "output_type": "stream",
     "text": [
      "[nltk_data] Downloading package stopwords to\n",
      "[nltk_data]     C:\\Users\\user\\AppData\\Roaming\\nltk_data...\n",
      "[nltk_data]   Package stopwords is already up-to-date!\n"
     ]
    },
    {
     "data": {
      "text/plain": [
       "{'a',\n",
       " 'about',\n",
       " 'above',\n",
       " 'after',\n",
       " 'again',\n",
       " 'against',\n",
       " 'ain',\n",
       " 'all',\n",
       " 'am',\n",
       " 'an',\n",
       " 'and',\n",
       " 'any',\n",
       " 'are',\n",
       " 'aren',\n",
       " \"aren't\",\n",
       " 'as',\n",
       " 'at',\n",
       " 'be',\n",
       " 'because',\n",
       " 'been',\n",
       " 'before',\n",
       " 'being',\n",
       " 'below',\n",
       " 'between',\n",
       " 'both',\n",
       " 'but',\n",
       " 'by',\n",
       " 'can',\n",
       " 'couldn',\n",
       " \"couldn't\",\n",
       " 'd',\n",
       " 'did',\n",
       " 'didn',\n",
       " \"didn't\",\n",
       " 'do',\n",
       " 'does',\n",
       " 'doesn',\n",
       " \"doesn't\",\n",
       " 'doing',\n",
       " 'don',\n",
       " \"don't\",\n",
       " 'down',\n",
       " 'during',\n",
       " 'each',\n",
       " 'few',\n",
       " 'for',\n",
       " 'from',\n",
       " 'further',\n",
       " 'had',\n",
       " 'hadn',\n",
       " \"hadn't\",\n",
       " 'has',\n",
       " 'hasn',\n",
       " \"hasn't\",\n",
       " 'have',\n",
       " 'haven',\n",
       " \"haven't\",\n",
       " 'having',\n",
       " 'he',\n",
       " 'her',\n",
       " 'here',\n",
       " 'hers',\n",
       " 'herself',\n",
       " 'him',\n",
       " 'himself',\n",
       " 'his',\n",
       " 'how',\n",
       " 'i',\n",
       " 'if',\n",
       " 'in',\n",
       " 'into',\n",
       " 'is',\n",
       " 'isn',\n",
       " \"isn't\",\n",
       " 'it',\n",
       " \"it's\",\n",
       " 'its',\n",
       " 'itself',\n",
       " 'just',\n",
       " 'll',\n",
       " 'm',\n",
       " 'ma',\n",
       " 'me',\n",
       " 'mightn',\n",
       " \"mightn't\",\n",
       " 'more',\n",
       " 'most',\n",
       " 'mustn',\n",
       " \"mustn't\",\n",
       " 'my',\n",
       " 'myself',\n",
       " 'needn',\n",
       " \"needn't\",\n",
       " 'no',\n",
       " 'nor',\n",
       " 'not',\n",
       " 'now',\n",
       " 'o',\n",
       " 'of',\n",
       " 'off',\n",
       " 'on',\n",
       " 'once',\n",
       " 'only',\n",
       " 'or',\n",
       " 'other',\n",
       " 'our',\n",
       " 'ours',\n",
       " 'ourselves',\n",
       " 'out',\n",
       " 'over',\n",
       " 'own',\n",
       " 're',\n",
       " 's',\n",
       " 'same',\n",
       " 'shan',\n",
       " \"shan't\",\n",
       " 'she',\n",
       " \"she's\",\n",
       " 'should',\n",
       " \"should've\",\n",
       " 'shouldn',\n",
       " \"shouldn't\",\n",
       " 'so',\n",
       " 'some',\n",
       " 'such',\n",
       " 't',\n",
       " 'than',\n",
       " 'that',\n",
       " \"that'll\",\n",
       " 'the',\n",
       " 'their',\n",
       " 'theirs',\n",
       " 'them',\n",
       " 'themselves',\n",
       " 'then',\n",
       " 'there',\n",
       " 'these',\n",
       " 'they',\n",
       " 'this',\n",
       " 'those',\n",
       " 'through',\n",
       " 'to',\n",
       " 'too',\n",
       " 'under',\n",
       " 'until',\n",
       " 'up',\n",
       " 've',\n",
       " 'very',\n",
       " 'was',\n",
       " 'wasn',\n",
       " \"wasn't\",\n",
       " 'we',\n",
       " 'were',\n",
       " 'weren',\n",
       " \"weren't\",\n",
       " 'what',\n",
       " 'when',\n",
       " 'where',\n",
       " 'which',\n",
       " 'while',\n",
       " 'who',\n",
       " 'whom',\n",
       " 'why',\n",
       " 'will',\n",
       " 'with',\n",
       " 'won',\n",
       " \"won't\",\n",
       " 'wouldn',\n",
       " \"wouldn't\",\n",
       " 'y',\n",
       " 'you',\n",
       " \"you'd\",\n",
       " \"you'll\",\n",
       " \"you're\",\n",
       " \"you've\",\n",
       " 'your',\n",
       " 'yours',\n",
       " 'yourself',\n",
       " 'yourselves'}"
      ]
     },
     "execution_count": 370,
     "metadata": {},
     "output_type": "execute_result"
    }
   ],
   "source": [
    "nltk.download('stopwords')\n",
    "\n",
    "set(stopwords.words('english'))"
   ]
  },
  {
   "cell_type": "code",
   "execution_count": 380,
   "metadata": {},
   "outputs": [],
   "source": [
    "def predict_Emotion_Genre(s):\n",
    "    \n",
    "    stop_words = stopwords.words('english')\n",
    "    \n",
    "    s = s.lower()\n",
    "    \n",
    "    # Remove all the special characters\n",
    "    TextWordsArray = re.sub(r'\\W', ' ', str(s))\n",
    "\n",
    "    # remove all single characters\n",
    "    TextWordsArray= re.sub(r'\\s+[a-zA-Z]\\s+', ' ', TextWordsArray)\n",
    "\n",
    "    # Remove single characters from the start\n",
    "    TextWordsArray = re.sub(r'\\^[a-zA-Z]\\s+', ' ', TextWordsArray) \n",
    "\n",
    "    # Substituting multiple spaces with single space\n",
    "    TextWordsArray = re.sub(r'\\s+', ' ', TextWordsArray, flags=re.I)\n",
    "    \n",
    "    text_final = ''.join(c for c in TextWordsArray if not c.isdigit())\n",
    "    \n",
    "    processed_doc1 = ' '.join([word for word in text_final.split() if word not in stop_words])\n",
    "    \n",
    "    X_test_tf = vectorizer.transform([processed_doc1])\n",
    "    \n",
    "    predict_result = model.predict(X_test_tf)\n",
    "    Pred_proba =  model.predict_proba(X_test_tf)\n",
    "    Pred_all = model.classes_,Pred_proba\n",
    "    \n",
    "    x = Pred_all\n",
    "    emotion_list = x[0].tolist()\n",
    "    Predict_prob = x[1].tolist()\n",
    "    Predict_prob = Predict_prob[0]\n",
    "    \n",
    "    multiplied_list = [round(element * 100,2) for element in Predict_prob]\n",
    "    \n",
    "    \n",
    "    score_values = {'emotion':emotion_list ,\n",
    "                   'predicted_probability':multiplied_list}\n",
    "\n",
    "    score_df = pd.DataFrame(score_values)\n",
    "    \n",
    "    score = np.max(Pred_proba)\n",
    "     \n",
    "    final_result = \"You have commented it in a \"+predict_result[0] +\" mood.You can  proceed or update the content.\"\n",
    "    \n",
    "    print(\"predicted Result :\"+predict_result[0])\n",
    "    \n",
    "    print(\"predicted Score  :\"+str(round(score*100,2)))\n",
    "    print()\n",
    "    print('-----------------------------------')\n",
    "    print(final_result)\n",
    "    print('-----------------------------------')\n",
    "    return score_df"
   ]
  },
  {
   "cell_type": "code",
   "execution_count": null,
   "metadata": {},
   "outputs": [],
   "source": []
  },
  {
   "cell_type": "code",
   "execution_count": 381,
   "metadata": {},
   "outputs": [
    {
     "name": "stdout",
     "output_type": "stream",
     "text": [
      "predicted Result :happy\n",
      "predicted Score  :61.37\n",
      "\n",
      "-----------------------------------\n",
      "You have commented it in a happy mood.You can  proceed or update the content.\n",
      "-----------------------------------\n"
     ]
    },
    {
     "data": {
      "text/html": [
       "<div>\n",
       "<style scoped>\n",
       "    .dataframe tbody tr th:only-of-type {\n",
       "        vertical-align: middle;\n",
       "    }\n",
       "\n",
       "    .dataframe tbody tr th {\n",
       "        vertical-align: top;\n",
       "    }\n",
       "\n",
       "    .dataframe thead th {\n",
       "        text-align: right;\n",
       "    }\n",
       "</style>\n",
       "<table border=\"1\" class=\"dataframe\">\n",
       "  <thead>\n",
       "    <tr style=\"text-align: right;\">\n",
       "      <th></th>\n",
       "      <th>emotion</th>\n",
       "      <th>predicted_probability</th>\n",
       "    </tr>\n",
       "  </thead>\n",
       "  <tbody>\n",
       "    <tr>\n",
       "      <th>0</th>\n",
       "      <td>anger</td>\n",
       "      <td>17.42</td>\n",
       "    </tr>\n",
       "    <tr>\n",
       "      <th>1</th>\n",
       "      <td>fear</td>\n",
       "      <td>10.82</td>\n",
       "    </tr>\n",
       "    <tr>\n",
       "      <th>2</th>\n",
       "      <td>happy</td>\n",
       "      <td>61.37</td>\n",
       "    </tr>\n",
       "    <tr>\n",
       "      <th>3</th>\n",
       "      <td>sad</td>\n",
       "      <td>10.38</td>\n",
       "    </tr>\n",
       "  </tbody>\n",
       "</table>\n",
       "</div>"
      ],
      "text/plain": [
       "  emotion  predicted_probability\n",
       "0   anger                  17.42\n",
       "1    fear                  10.82\n",
       "2   happy                  61.37\n",
       "3     sad                  10.38"
      ]
     },
     "execution_count": 381,
     "metadata": {},
     "output_type": "execute_result"
    }
   ],
   "source": [
    "predict_Emotion_Genre('These buses are not very crowded and therefore are safe to travel in as they prevent diseases from spreading ')"
   ]
  },
  {
   "cell_type": "code",
   "execution_count": 382,
   "metadata": {},
   "outputs": [
    {
     "name": "stdout",
     "output_type": "stream",
     "text": [
      "predicted Result :anger\n",
      "predicted Score  :50.0\n",
      "\n",
      "-----------------------------------\n",
      "You have commented it in a anger mood.You can  proceed or update the content.\n",
      "-----------------------------------\n"
     ]
    },
    {
     "data": {
      "text/html": [
       "<div>\n",
       "<style scoped>\n",
       "    .dataframe tbody tr th:only-of-type {\n",
       "        vertical-align: middle;\n",
       "    }\n",
       "\n",
       "    .dataframe tbody tr th {\n",
       "        vertical-align: top;\n",
       "    }\n",
       "\n",
       "    .dataframe thead th {\n",
       "        text-align: right;\n",
       "    }\n",
       "</style>\n",
       "<table border=\"1\" class=\"dataframe\">\n",
       "  <thead>\n",
       "    <tr style=\"text-align: right;\">\n",
       "      <th></th>\n",
       "      <th>emotion</th>\n",
       "      <th>predicted_probability</th>\n",
       "    </tr>\n",
       "  </thead>\n",
       "  <tbody>\n",
       "    <tr>\n",
       "      <th>0</th>\n",
       "      <td>anger</td>\n",
       "      <td>50.00</td>\n",
       "    </tr>\n",
       "    <tr>\n",
       "      <th>1</th>\n",
       "      <td>fear</td>\n",
       "      <td>0.00</td>\n",
       "    </tr>\n",
       "    <tr>\n",
       "      <th>2</th>\n",
       "      <td>happy</td>\n",
       "      <td>35.71</td>\n",
       "    </tr>\n",
       "    <tr>\n",
       "      <th>3</th>\n",
       "      <td>sad</td>\n",
       "      <td>14.29</td>\n",
       "    </tr>\n",
       "  </tbody>\n",
       "</table>\n",
       "</div>"
      ],
      "text/plain": [
       "  emotion  predicted_probability\n",
       "0   anger                  50.00\n",
       "1    fear                   0.00\n",
       "2   happy                  35.71\n",
       "3     sad                  14.29"
      ]
     },
     "execution_count": 382,
     "metadata": {},
     "output_type": "execute_result"
    }
   ],
   "source": [
    "predict_Emotion_Genre('This bus is always crowded')"
   ]
  },
  {
   "cell_type": "code",
   "execution_count": 383,
   "metadata": {},
   "outputs": [
    {
     "name": "stdout",
     "output_type": "stream",
     "text": [
      "predicted Result :anger\n",
      "predicted Score  :49.97\n",
      "\n",
      "-----------------------------------\n",
      "You have commented it in a anger mood.You can  proceed or update the content.\n",
      "-----------------------------------\n"
     ]
    },
    {
     "data": {
      "text/html": [
       "<div>\n",
       "<style scoped>\n",
       "    .dataframe tbody tr th:only-of-type {\n",
       "        vertical-align: middle;\n",
       "    }\n",
       "\n",
       "    .dataframe tbody tr th {\n",
       "        vertical-align: top;\n",
       "    }\n",
       "\n",
       "    .dataframe thead th {\n",
       "        text-align: right;\n",
       "    }\n",
       "</style>\n",
       "<table border=\"1\" class=\"dataframe\">\n",
       "  <thead>\n",
       "    <tr style=\"text-align: right;\">\n",
       "      <th></th>\n",
       "      <th>emotion</th>\n",
       "      <th>predicted_probability</th>\n",
       "    </tr>\n",
       "  </thead>\n",
       "  <tbody>\n",
       "    <tr>\n",
       "      <th>0</th>\n",
       "      <td>anger</td>\n",
       "      <td>49.97</td>\n",
       "    </tr>\n",
       "    <tr>\n",
       "      <th>1</th>\n",
       "      <td>fear</td>\n",
       "      <td>27.14</td>\n",
       "    </tr>\n",
       "    <tr>\n",
       "      <th>2</th>\n",
       "      <td>happy</td>\n",
       "      <td>14.09</td>\n",
       "    </tr>\n",
       "    <tr>\n",
       "      <th>3</th>\n",
       "      <td>sad</td>\n",
       "      <td>8.80</td>\n",
       "    </tr>\n",
       "  </tbody>\n",
       "</table>\n",
       "</div>"
      ],
      "text/plain": [
       "  emotion  predicted_probability\n",
       "0   anger                  49.97\n",
       "1    fear                  27.14\n",
       "2   happy                  14.09\n",
       "3     sad                   8.80"
      ]
     },
     "execution_count": 383,
     "metadata": {},
     "output_type": "execute_result"
    }
   ],
   "source": [
    "predict_Emotion_Genre('The passenger lives are in danger during rush hour traffic as passengers have to travel even in the foot board ')"
   ]
  },
  {
   "cell_type": "code",
   "execution_count": null,
   "metadata": {},
   "outputs": [],
   "source": []
  }
 ],
 "metadata": {
  "kernelspec": {
   "display_name": "Python 3 (ipykernel)",
   "language": "python",
   "name": "python3"
  },
  "language_info": {
   "codemirror_mode": {
    "name": "ipython",
    "version": 3
   },
   "file_extension": ".py",
   "mimetype": "text/x-python",
   "name": "python",
   "nbconvert_exporter": "python",
   "pygments_lexer": "ipython3",
   "version": "3.9.12"
  }
 },
 "nbformat": 4,
 "nbformat_minor": 4
}
